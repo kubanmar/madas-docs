{
 "cells": [
  {
   "cell_type": "markdown",
   "id": "52420dc5",
   "metadata": {},
   "source": [
    "# Using the NOMAD web API interface"
   ]
  },
  {
   "cell_type": "markdown",
   "id": "8acdd2ae",
   "metadata": {},
   "source": [
    "In this tutorial you are going to learn how to:\n",
    "\n",
    "<div class=\"alert alert-block alert-warning\">\n",
    "    \n",
    "**[Writing a NOMAD query](#Writing-a-NOMAD-query)**\n",
    "\n",
    "**[Querying the NOMAD API](#Querying-the-NOMAD-API)**\n",
    "\n",
    "**[Analyzing the data](#Analyzing-the-data)**\n",
    "\n",
    "**[Automatic processing](#Automatic-processing)**\n",
    "   \n",
    "</div>\n",
    "\n",
    "Let's get started!"
   ]
  },
  {
   "cell_type": "code",
   "execution_count": 1,
   "id": "52dae311",
   "metadata": {},
   "outputs": [],
   "source": [
    "# imports\n",
    "from simdatframe.apis.NOMAD_web_API import API, get_atoms\n",
    "from simdatframe.utils import resolve_nested_dict\n",
    "\n",
    "import matplotlib.pyplot as plt\n",
    "import numpy as np\n",
    "from scipy.constants import electron_volt"
   ]
  },
  {
   "cell_type": "markdown",
   "id": "9a669bb2",
   "metadata": {},
   "source": [
    "## Writing a NOMAD query\n",
    "\n",
    "To download data, we have to query the [NOMAD service](https://nomad-lab.eu). To do so, you can use the [NOMAD documentation](https://nomad-lab.eu/prod/v1/staging/docs/tutorial/access_api.html), or the GUI copy the query over. In this example, we query for bulk GaP structures calculated with DFT using a hybrid functional."
   ]
  },
  {
   "cell_type": "code",
   "execution_count": 2,
   "id": "ea157e3c",
   "metadata": {},
   "outputs": [],
   "source": [
    "query = {\n",
    "    \"results.material.structural_type:any\": [\n",
    "      \"bulk\"\n",
    "    ],\n",
    "    \"results.method.simulation.dft.xc_functional_type:any\": [\n",
    "      \"hybrid\"\n",
    "    ],\n",
    "    \"datasets.dataset_name:any\": [\n",
    "      \"reproducibility_of_HSE\"\n",
    "    ],\n",
    "    \"results.material.elements:all\": [\n",
    "      \"Ga\",\n",
    "      \"P\"\n",
    "    ],\n",
    "    \"results.properties.available_properties:all\": [\n",
    "      \"dos_electronic\"\n",
    "    ]\n",
    "}"
   ]
  },
  {
   "cell_type": "markdown",
   "id": "9b95291c",
   "metadata": {},
   "source": [
    "The NOMAD API requires that we specify which data is requested. For our initial query, we want all data, therefore we define:"
   ]
  },
  {
   "cell_type": "code",
   "execution_count": 3,
   "id": "4d3d68f1",
   "metadata": {},
   "outputs": [],
   "source": [
    "required = {\"required\" : \"*\"}"
   ]
  },
  {
   "cell_type": "markdown",
   "id": "536af21c",
   "metadata": {},
   "source": [
    "## Querying the NOMAD API"
   ]
  },
  {
   "cell_type": "markdown",
   "id": "a870f600",
   "metadata": {},
   "source": [
    "To start quering NOMAD, we first import and initialize an API object:"
   ]
  },
  {
   "cell_type": "code",
   "execution_count": 4,
   "id": "1f700450",
   "metadata": {},
   "outputs": [],
   "source": [
    "from simdatframe.apis.NOMAD_web_API import API\n",
    "api = API()"
   ]
  },
  {
   "cell_type": "markdown",
   "id": "6c1866b4",
   "metadata": {},
   "source": [
    "In order to reduce traffic, we just download a single entry:"
   ]
  },
  {
   "cell_type": "code",
   "execution_count": 5,
   "id": "f71a9be8",
   "metadata": {},
   "outputs": [
    {
     "name": "stdout",
     "output_type": "stream",
     "text": [
      "Found 5 entries\n",
      "Downloading 1 entries\n",
      "Finished download.\n"
     ]
    }
   ],
   "source": [
    "full_archives = api.get_calculations_by_search(query, # defined above \n",
    "                                               required=required, # defined above \n",
    "                                               max_entries=1) # one entry only"
   ]
  },
  {
   "cell_type": "code",
   "execution_count": 6,
   "id": "ba7402c4",
   "metadata": {},
   "outputs": [
    {
     "data": {
      "text/plain": [
       "1"
      ]
     },
     "execution_count": 6,
     "metadata": {},
     "output_type": "execute_result"
    }
   ],
   "source": [
    "len(full_archives)"
   ]
  },
  {
   "cell_type": "markdown",
   "id": "3ddd1b03",
   "metadata": {},
   "source": [
    "## Analyzing the data"
   ]
  },
  {
   "cell_type": "markdown",
   "id": "b31e19f4",
   "metadata": {},
   "source": [
    "We can inspect some properties of the `Material` object that we just created: "
   ]
  },
  {
   "cell_type": "code",
   "execution_count": 7,
   "id": "a69cec28",
   "metadata": {},
   "outputs": [
    {
     "name": "stdout",
     "output_type": "stream",
     "text": [
      "Material(mid = FIUqPOMua13ySJrnOynrNDnT5Xge, data = {'archive'}, properties = set())\n"
     ]
    }
   ],
   "source": [
    "example_material = full_archives[0]\n",
    "print(example_material)"
   ]
  },
  {
   "cell_type": "markdown",
   "id": "259d3c22",
   "metadata": {},
   "source": [
    "In the `data` attribute of the material we now find the full NOMAD archive entry. We can explore its contents to automatically extract the data we need. The atomic structure has been parsed already by default and can be visualized:"
   ]
  },
  {
   "cell_type": "code",
   "execution_count": 8,
   "id": "72e8daeb",
   "metadata": {
    "scrolled": false
   },
   "outputs": [
    {
     "data": {
      "image/png": "[encoded data removed]",
      "text/plain": [
       "<Figure size 640x480 with 1 Axes>"
      ]
     },
     "metadata": {},
     "output_type": "display_data"
    }
   ],
   "source": [
    "from simdatframe.plotting import plot_material\n",
    "\n",
    "plot_material(example_material, repeat=[1,1,1], show_unit_cell=2)"
   ]
  },
  {
   "cell_type": "markdown",
   "id": "fee943c3",
   "metadata": {},
   "source": [
    "To build the automatic parsers of the NOMAD Archive entries, we can inspect the contents of the Archive. For this example, we want to obtain the total energy of the material. To do so, we need to parse the `workflow` section of the Archive:"
   ]
  },
  {
   "cell_type": "code",
   "execution_count": 9,
   "id": "0f8c2051",
   "metadata": {},
   "outputs": [
    {
     "data": {
      "text/plain": [
       "dict_keys(['processing_logs', 'run', 'workflow', 'metadata', 'results', 'm_ref_archives'])"
      ]
     },
     "execution_count": 9,
     "metadata": {},
     "output_type": "execute_result"
    }
   ],
   "source": [
    "example_material.data['archive'].keys()"
   ]
  },
  {
   "cell_type": "code",
   "execution_count": 10,
   "id": "46bd1d4a",
   "metadata": {},
   "outputs": [
    {
     "data": {
      "text/plain": [
       "[{'type': 'single_point',\n",
       "  'calculation_result_ref': '/run/0/calculation/0',\n",
       "  'calculations_ref': ['/run/0/calculation/0'],\n",
       "  'task': [{'input_workflow': '/workflow/0',\n",
       "    'output_calculation': '/run/0/calculation/0'},\n",
       "   {'output_workflow': '/workflow/0',\n",
       "    'input_calculation': '/run/0/calculation/0'}],\n",
       "  'single_point': {'method': 'DFT',\n",
       "   'n_scf_steps': 25,\n",
       "   'final_scf_energy_difference': 1.393893669254168e-25,\n",
       "   'is_converged': True,\n",
       "   'with_density_of_states': True,\n",
       "   'with_bandstructure': False,\n",
       "   'with_eigenvalues': True,\n",
       "   'with_volumetric_data': False,\n",
       "   'with_excited_states': False}}]"
      ]
     },
     "execution_count": 10,
     "metadata": {},
     "output_type": "execute_result"
    }
   ],
   "source": [
    "example_material.data[\"archive\"][\"workflow\"]"
   ]
  },
  {
   "cell_type": "markdown",
   "id": "e90dfc0c",
   "metadata": {},
   "source": [
    "From this list, we choose the first (only) entry, which is a single point calculation. From the workflow, we can extract the reference to the result:"
   ]
  },
  {
   "cell_type": "code",
   "execution_count": 11,
   "id": "ff5931cc",
   "metadata": {},
   "outputs": [
    {
     "data": {
      "text/plain": [
       "'/run/0/calculation/0'"
      ]
     },
     "execution_count": 11,
     "metadata": {},
     "output_type": "execute_result"
    }
   ],
   "source": [
    "example_material.data[\"archive\"][\"workflow\"][0][\"calculation_result_ref\"]"
   ]
  },
  {
   "cell_type": "markdown",
   "id": "e5df9a82",
   "metadata": {},
   "source": [
    "If we manually navigate this path in our Archive entry, we find a value for the total energy (in units of Joule):"
   ]
  },
  {
   "cell_type": "code",
   "execution_count": 12,
   "id": "5de2a5c0",
   "metadata": {},
   "outputs": [
    {
     "data": {
      "text/plain": [
       "-1.9285848977220246e-18"
      ]
     },
     "execution_count": 12,
     "metadata": {},
     "output_type": "execute_result"
    }
   ],
   "source": [
    "example_material.data['archive']['run'][0]['calculation'][0]['energy']['total']['value']"
   ]
  },
  {
   "cell_type": "markdown",
   "id": "98af9d73",
   "metadata": {},
   "source": [
    "We can automatize this process by writing a small function:"
   ]
  },
  {
   "cell_type": "code",
   "execution_count": 13,
   "id": "97a1f94d",
   "metadata": {},
   "outputs": [],
   "source": [
    "def get_total_energy(archive: dict) -> float:\n",
    "    archive=archive['archive']\n",
    "    energy_ref = resolve_nested_dict(archive, 'workflow/0/calculation_result_ref')\n",
    "    energy_ref = energy_ref.strip().strip(\"/\") + '/energy/total/value'\n",
    "    energy = resolve_nested_dict(archive, energy_ref, fail_on_key_error=True)\n",
    "    return energy / electron_volt"
   ]
  },
  {
   "cell_type": "markdown",
   "id": "90f298a2",
   "metadata": {},
   "source": [
    "Using this function, we can directly access the total energy (in eV)."
   ]
  },
  {
   "cell_type": "code",
   "execution_count": 14,
   "id": "94d650ec",
   "metadata": {},
   "outputs": [
    {
     "data": {
      "text/plain": [
       "-12.037280139999998"
      ]
     },
     "execution_count": 14,
     "metadata": {},
     "output_type": "execute_result"
    }
   ],
   "source": [
    "get_total_energy(full_archives[0].data)"
   ]
  },
  {
   "cell_type": "markdown",
   "id": "f09e3a19",
   "metadata": {},
   "source": [
    "## Automatic processing"
   ]
  },
  {
   "cell_type": "markdown",
   "id": "42057ffc",
   "metadata": {},
   "source": [
    "We can now automatize what we did before. To do so, we define a dictionary `processing`, which contains as keys the name of the quantity we want to obtain, and the function to extract them from the NOMAD data as values:"
   ]
  },
  {
   "cell_type": "code",
   "execution_count": 15,
   "id": "abb680b4",
   "metadata": {},
   "outputs": [],
   "source": [
    "processing = {\n",
    "    'atoms' : get_atoms, # 'atoms' is predefined here and is expected to return an ase Atoms object\n",
    "    'energy_total' : get_total_energy,\n",
    "}"
   ]
  },
  {
   "cell_type": "markdown",
   "id": "0de71c9c",
   "metadata": {},
   "source": [
    "Since we don't need all parts of the NOMAD data anymore, we can adapt the `required` dictionary:"
   ]
  },
  {
   "cell_type": "code",
   "execution_count": 16,
   "id": "bfd9dd24",
   "metadata": {},
   "outputs": [],
   "source": [
    "required_processed = {\n",
    "    \"required\" : {\n",
    "        \"workflow\" : \"*\", # contains which calculation has the optimized total energy \n",
    "        \"run\" : \"*\", # contains the total energy value\n",
    "        \"results\" : \"*\" # contails the atomic structure\n",
    "    }\n",
    "}"
   ]
  },
  {
   "cell_type": "markdown",
   "id": "d4d5acb8",
   "metadata": {},
   "source": [
    "Then we create a new `API` object, to download and process only the data we need:"
   ]
  },
  {
   "cell_type": "code",
   "execution_count": 17,
   "id": "ccd97407",
   "metadata": {},
   "outputs": [],
   "source": [
    "api_modified = API(processing=processing)"
   ]
  },
  {
   "cell_type": "markdown",
   "id": "367de8d5",
   "metadata": {},
   "source": [
    "We can run the query:"
   ]
  },
  {
   "cell_type": "code",
   "execution_count": 18,
   "id": "dbb39397",
   "metadata": {},
   "outputs": [
    {
     "name": "stdout",
     "output_type": "stream",
     "text": [
      "Found 5 entries\n",
      "Finished download.\n",
      "Material(mid = FIUqPOMua13ySJrnOynrNDnT5Xge, data = {'energy_total'}, properties = set())\n",
      "Material(mid = l4YBhD_KzKalkX8cvDJ9oTIHSgZg, data = {'energy_total'}, properties = set())\n",
      "Material(mid = MDy6puRcMwjin26GFGaIoWuyTZw5, data = {'energy_total'}, properties = set())\n",
      "Material(mid = 3WER3GH6byHNIUQTOWxNf_vhlA28, data = {'energy_total'}, properties = set())\n",
      "Material(mid = MawJNfJFAVzVaZkOfsTJnWws0wmp, data = {'energy_total'}, properties = set())\n"
     ]
    }
   ],
   "source": [
    "materials = api_modified.get_calculations_by_search(query, required=required_processed)\n",
    "for material in materials:\n",
    "    print(material)"
   ]
  },
  {
   "cell_type": "markdown",
   "id": "fa36e2c2",
   "metadata": {},
   "source": [
    "From the available data, we can plot the equation of state (EOS) as a function of the unit cell volume: "
   ]
  },
  {
   "cell_type": "code",
   "execution_count": 19,
   "id": "d6548bf8",
   "metadata": {
    "scrolled": false
   },
   "outputs": [
    {
     "data": {
      "image/png": "[encoded data removed]",
      "text/plain": [
       "<Figure size 640x480 with 1 Axes>"
      ]
     },
     "metadata": {},
     "output_type": "display_data"
    }
   ],
   "source": [
    "volumes = []\n",
    "total_energies = []\n",
    "for mat in materials:\n",
    "    volumes.append(mat.atoms.get_volume())\n",
    "    total_energies.append(mat.data['energy_total'])\n",
    "plt.scatter(volumes, total_energies)\n",
    "plt.xlabel(\"Volume [Å$^3$]\", fontsize=15)\n",
    "plt.ylabel(\"Energy [eV]\", fontsize=15)\n",
    "plt.title(\"Equation of state of GaP\")\n",
    "plt.show()"
   ]
  }
 ],
 "metadata": {
  "kernelspec": {
   "display_name": "simdatframe-doc",
   "language": "python",
   "name": "simdatframe-doc"
  },
  "language_info": {
   "codemirror_mode": {
    "name": "ipython",
    "version": 3
   },
   "file_extension": ".py",
   "mimetype": "text/x-python",
   "name": "python",
   "nbconvert_exporter": "python",
   "pygments_lexer": "ipython3",
   "version": "3.10.4"
  }
 },
 "nbformat": 4,
 "nbformat_minor": 5
}
