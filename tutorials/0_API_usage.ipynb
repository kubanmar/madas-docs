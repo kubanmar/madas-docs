{
 "cells": [
  {
   "cell_type": "markdown",
   "id": "52420dc5",
   "metadata": {},
   "source": [
    "# Using the NOMAD API"
   ]
  },
  {
   "cell_type": "markdown",
   "id": "8acdd2ae",
   "metadata": {},
   "source": [
    "In this tutorial you are going to learn how to:\n",
    "\n",
    "<div class=\"alert alert-block alert-warning\">\n",
    "    \n",
    "**[Writing a NOMAD query](#Writing-a-NOMAD-query)**\n",
    "\n",
    "**[Querying the NOMAD API](#Querying-the-NOMAD-API)**\n",
    "\n",
    "**[Analyzing the data](#Analyzing-the-data)**\n",
    "\n",
    "**[Automatic processing](#Automatic-processing)**\n",
    "   \n",
    "</div>\n",
    "\n",
    "Let's get started!"
   ]
  },
  {
   "cell_type": "code",
   "execution_count": 1,
   "id": "52dae311",
   "metadata": {},
   "outputs": [],
   "source": [
    "# imports\n",
    "from madas.apis.NOMAD_web_API import get_atoms\n",
    "from madas.utils import resolve_nested_dict\n",
    "\n",
    "import matplotlib.pyplot as plt\n",
    "from scipy.constants import electron_volt"
   ]
  },
  {
   "cell_type": "markdown",
   "id": "9a669bb2",
   "metadata": {},
   "source": [
    "## Writing a NOMAD query\n",
    "\n",
    "To download data, we have to query the [NOMAD service](https://nomad-lab.eu). To do so, you can use the [NOMAD documentation](https://nomad-lab.eu/prod/v1/staging/docs/tutorial/access_api.html), or the GUI copy the query over. In this example, we query for bulk GaP structures calculated with DFT using a hybrid functional."
   ]
  },
  {
   "cell_type": "code",
   "execution_count": 2,
   "id": "ea157e3c",
   "metadata": {},
   "outputs": [],
   "source": [
    "query = {\n",
    "    \"results.material.structural_type:any\": [\n",
    "      \"bulk\"\n",
    "    ],\n",
    "    \"results.method.simulation.dft.xc_functional_type:any\": [\n",
    "      \"hybrid\"\n",
    "    ],\n",
    "    \"datasets.dataset_name:any\": [\n",
    "      \"reproducibility_of_HSE\"\n",
    "    ],\n",
    "    \"results.material.elements:all\": [\n",
    "      \"Ga\",\n",
    "      \"P\"\n",
    "    ],\n",
    "    \"results.properties.available_properties:all\": [\n",
    "      \"dos_electronic\"\n",
    "    ]\n",
    "}"
   ]
  },
  {
   "cell_type": "markdown",
   "id": "9b95291c",
   "metadata": {},
   "source": [
    "The NOMAD API requires that we specify which data is requested. For our initial query, we want all data, therefore we define:"
   ]
  },
  {
   "cell_type": "code",
   "execution_count": 3,
   "id": "4d3d68f1",
   "metadata": {},
   "outputs": [],
   "source": [
    "required = {\"required\" : \"*\"}"
   ]
  },
  {
   "cell_type": "markdown",
   "id": "536af21c",
   "metadata": {},
   "source": [
    "## Querying the NOMAD API"
   ]
  },
  {
   "cell_type": "markdown",
   "id": "a870f600",
   "metadata": {},
   "source": [
    "To start quering NOMAD, we first import and initialize an API object:"
   ]
  },
  {
   "cell_type": "code",
   "execution_count": 4,
   "id": "1f700450",
   "metadata": {},
   "outputs": [],
   "source": [
    "from madas.apis.NOMAD_web_API import API\n",
    "api = API()"
   ]
  },
  {
   "cell_type": "markdown",
   "id": "6c1866b4",
   "metadata": {},
   "source": [
    "In order to reduce traffic, we just download a single entry:"
   ]
  },
  {
   "cell_type": "code",
   "execution_count": 5,
   "id": "f71a9be8",
   "metadata": {},
   "outputs": [
    {
     "name": "stdout",
     "output_type": "stream",
     "text": [
      "Found 5 entries\n",
      "Possibly not all entries discovered due to max_entries limit\n",
      "Downloading 1 entries\n",
      "Finished download.\n"
     ]
    }
   ],
   "source": [
    "full_archives = api.get_calculations_by_search(query, # defined above \n",
    "                                               required=required, # defined above \n",
    "                                               max_entries=1) # one entry only"
   ]
  },
  {
   "cell_type": "code",
   "execution_count": 6,
   "id": "ba7402c4",
   "metadata": {},
   "outputs": [
    {
     "data": {
      "text/plain": [
       "1"
      ]
     },
     "execution_count": 6,
     "metadata": {},
     "output_type": "execute_result"
    }
   ],
   "source": [
    "len(full_archives)"
   ]
  },
  {
   "cell_type": "markdown",
   "id": "3ddd1b03",
   "metadata": {},
   "source": [
    "## Analyzing the data"
   ]
  },
  {
   "cell_type": "markdown",
   "id": "b31e19f4",
   "metadata": {},
   "source": [
    "We can inspect some properties of the `Material` object that we just created: "
   ]
  },
  {
   "cell_type": "code",
   "execution_count": 7,
   "id": "a69cec28",
   "metadata": {},
   "outputs": [
    {
     "name": "stdout",
     "output_type": "stream",
     "text": [
      "Material(mid = FIUqPOMua13ySJrnOynrNDnT5Xge, data = {'archive'}, properties = set())\n"
     ]
    }
   ],
   "source": [
    "example_material = full_archives[0]\n",
    "print(example_material)"
   ]
  },
  {
   "cell_type": "markdown",
   "id": "259d3c22",
   "metadata": {},
   "source": [
    "In the `data` attribute of the material we now find the full NOMAD archive entry. We can explore its contents to automatically extract the data we need. The atomic structure has been parsed already by default and can be visualized:"
   ]
  },
  {
   "cell_type": "code",
   "execution_count": 8,
   "id": "72e8daeb",
   "metadata": {},
   "outputs": [
    {
     "data": {
      "image/png": "[encoded data removed]",
      "text/plain": [
       "<Figure size 640x480 with 1 Axes>"
      ]
     },
     "metadata": {},
     "output_type": "display_data"
    }
   ],
   "source": [
    "from madas.plotting import plot_material\n",
    "\n",
    "plot_material(example_material, repeat=[1,1,1], show_unit_cell=2)"
   ]
  },
  {
   "cell_type": "markdown",
   "id": "fee943c3",
   "metadata": {},
   "source": [
    "To build the automatic parsers of the NOMAD Archive entries, we can inspect the contents of the Archive. For this example, we want to obtain the total energy of the material. To do so, we need to parse the `workflow` section of the Archive:"
   ]
  },
  {
   "cell_type": "code",
   "execution_count": 9,
   "id": "0f8c2051",
   "metadata": {},
   "outputs": [
    {
     "data": {
      "text/plain": [
       "dict_keys(['processing_logs', 'run', 'workflow', 'metadata', 'results', 'm_ref_archives'])"
      ]
     },
     "execution_count": 9,
     "metadata": {},
     "output_type": "execute_result"
    }
   ],
   "source": [
    "example_material.data['archive'].keys()"
   ]
  },
  {
   "cell_type": "markdown",
   "id": "78892a24",
   "metadata": {},
   "source": [
    "We can use a `MADAS` tool to find the path to the required quantity in this dictionary:"
   ]
  },
  {
   "cell_type": "code",
   "execution_count": 10,
   "id": "72cc00e8",
   "metadata": {},
   "outputs": [],
   "source": [
    "from madas.utils import print_key_paths"
   ]
  },
  {
   "cell_type": "code",
   "execution_count": 11,
   "id": "46bd1d4a",
   "metadata": {},
   "outputs": [
    {
     "name": "stdout",
     "output_type": "stream",
     "text": [
      "/workflow/0/calculation_result_ref\n"
     ]
    }
   ],
   "source": [
    "print_key_paths(\"calculation_result_ref\", example_material.data[\"archive\"])"
   ]
  },
  {
   "cell_type": "markdown",
   "id": "e90dfc0c",
   "metadata": {},
   "source": [
    "This calculation contains one reference to result, i.e. the final calculation of a workflow that is used to obtain physical properties. We can investigate which calculation this is:"
   ]
  },
  {
   "cell_type": "code",
   "execution_count": 12,
   "id": "ff5931cc",
   "metadata": {},
   "outputs": [
    {
     "data": {
      "text/plain": [
       "'/run/0/calculation/0'"
      ]
     },
     "execution_count": 12,
     "metadata": {},
     "output_type": "execute_result"
    }
   ],
   "source": [
    "resolve_nested_dict(example_material.data[\"archive\"], \"workflow/0/calculation_result_ref\")"
   ]
  },
  {
   "cell_type": "markdown",
   "id": "b94014e7",
   "metadata": {},
   "source": [
    "Next we figure out which how to parse the total energy that was computed in this calculation. "
   ]
  },
  {
   "cell_type": "code",
   "execution_count": 13,
   "id": "7231e8b9",
   "metadata": {},
   "outputs": [
    {
     "name": "stdout",
     "output_type": "stream",
     "text": [
      "/run/0/calculation/0/energy\n",
      "/run/0/calculation/0/scf_iteration/0/energy\n",
      "/run/0/calculation/0/scf_iteration/1/energy\n",
      "/run/0/calculation/0/scf_iteration/2/energy\n",
      "/run/0/calculation/0/scf_iteration/3/energy\n",
      "/run/0/calculation/0/scf_iteration/4/energy\n",
      "/run/0/calculation/0/scf_iteration/5/energy\n",
      "/run/0/calculation/0/scf_iteration/6/energy\n",
      "/run/0/calculation/0/scf_iteration/7/energy\n",
      "/run/0/calculation/0/scf_iteration/8/energy\n",
      "/run/0/calculation/0/scf_iteration/9/energy\n",
      "/run/0/calculation/0/scf_iteration/10/energy\n",
      "/run/0/calculation/0/scf_iteration/11/energy\n",
      "/run/0/calculation/0/scf_iteration/12/energy\n",
      "/run/0/calculation/0/scf_iteration/13/energy\n",
      "/run/0/calculation/0/scf_iteration/14/energy\n",
      "/run/0/calculation/0/scf_iteration/15/energy\n",
      "/run/0/calculation/0/scf_iteration/16/energy\n",
      "/run/0/calculation/0/scf_iteration/17/energy\n",
      "/run/0/calculation/0/scf_iteration/18/energy\n",
      "/run/0/calculation/0/scf_iteration/19/energy\n",
      "/run/0/calculation/0/scf_iteration/20/energy\n",
      "/run/0/calculation/0/scf_iteration/21/energy\n",
      "/run/0/calculation/0/scf_iteration/22/energy\n",
      "/run/0/calculation/0/scf_iteration/23/energy\n",
      "/run/0/calculation/0/scf_iteration/24/energy\n"
     ]
    }
   ],
   "source": [
    "print_key_paths(\"energy\", example_material.data[\"archive\"])"
   ]
  },
  {
   "cell_type": "markdown",
   "id": "1642b883",
   "metadata": {},
   "source": [
    "The first entry corresponds to the result, the others show the energies at the respective scf iterations of the DFT calculation. Here we are only interested in the results. We print the respective values:"
   ]
  },
  {
   "cell_type": "code",
   "execution_count": 14,
   "id": "b65e9e66",
   "metadata": {},
   "outputs": [
    {
     "data": {
      "text/plain": [
       "{'fermi': 5.387333367436472e-19,\n",
       " 'highest_occupied': 5.2360734575754e-19,\n",
       " 'lowest_unoccupied': 8.924444286706798e-19,\n",
       " 'total': {'value': -1.9285848977220246e-18},\n",
       " 'free': {'value': -1.9285848977220246e-18},\n",
       " 'total_t0': {'value': -0.0}}"
      ]
     },
     "execution_count": 14,
     "metadata": {},
     "output_type": "execute_result"
    }
   ],
   "source": [
    "resolve_nested_dict(example_material.data['archive'], \"run/0/calculation/0/energy\")"
   ]
  },
  {
   "cell_type": "markdown",
   "id": "e5df9a82",
   "metadata": {},
   "source": [
    "From this, we can resolve the total energy value (in Joule):"
   ]
  },
  {
   "cell_type": "code",
   "execution_count": 15,
   "id": "5de2a5c0",
   "metadata": {},
   "outputs": [
    {
     "data": {
      "text/plain": [
       "-1.9285848977220246e-18"
      ]
     },
     "execution_count": 15,
     "metadata": {},
     "output_type": "execute_result"
    }
   ],
   "source": [
    "resolve_nested_dict(example_material.data['archive'], \"run/0/calculation/0/energy/total/value\")"
   ]
  },
  {
   "cell_type": "markdown",
   "id": "98af9d73",
   "metadata": {},
   "source": [
    "We can automatize this process by writing a small function:"
   ]
  },
  {
   "cell_type": "code",
   "execution_count": 16,
   "id": "97a1f94d",
   "metadata": {},
   "outputs": [],
   "source": [
    "def get_total_energy(archive: dict) -> float:\n",
    "    energy_ref = resolve_nested_dict(archive, 'archive/workflow/0/calculation_result_ref')\n",
    "    energy_ref = f'archive/{energy_ref.strip(\"/\")}/energy/total/value'\n",
    "    energy = resolve_nested_dict(archive, energy_ref)\n",
    "    return energy / electron_volt"
   ]
  },
  {
   "cell_type": "markdown",
   "id": "90f298a2",
   "metadata": {},
   "source": [
    "Using this function, we can directly access the total energy (in eV)."
   ]
  },
  {
   "cell_type": "code",
   "execution_count": 17,
   "id": "94d650ec",
   "metadata": {},
   "outputs": [
    {
     "data": {
      "text/plain": [
       "-12.037280139999998"
      ]
     },
     "execution_count": 17,
     "metadata": {},
     "output_type": "execute_result"
    }
   ],
   "source": [
    "get_total_energy(full_archives[0].data)"
   ]
  },
  {
   "cell_type": "markdown",
   "id": "f09e3a19",
   "metadata": {},
   "source": [
    "## Automatic processing"
   ]
  },
  {
   "cell_type": "markdown",
   "id": "42057ffc",
   "metadata": {},
   "source": [
    "We can now automatize what we did before. To do so, we define a dictionary `processing`, which contains as keys the name of the quantity we want to obtain, and the function to extract them from the NOMAD data as values:"
   ]
  },
  {
   "cell_type": "code",
   "execution_count": 18,
   "id": "abb680b4",
   "metadata": {},
   "outputs": [],
   "source": [
    "processing = {\n",
    "    'atoms' : get_atoms, # 'atoms' is predefined here and is expected to return an ase Atoms object\n",
    "    'energy_total' : get_total_energy,\n",
    "}"
   ]
  },
  {
   "cell_type": "markdown",
   "id": "0de71c9c",
   "metadata": {},
   "source": [
    "Since we don't need all parts of the NOMAD data anymore, we can adapt the `required` dictionary:"
   ]
  },
  {
   "cell_type": "code",
   "execution_count": 19,
   "id": "bfd9dd24",
   "metadata": {},
   "outputs": [],
   "source": [
    "required_processed = {\n",
    "    \"required\" : {\n",
    "        \"workflow\" : \"*\", # contains which calculation has the optimized total energy \n",
    "        \"run\" : \"*\", # contains the total energy value\n",
    "        \"results\" : \"*\" # contails the atomic structure\n",
    "    }\n",
    "}"
   ]
  },
  {
   "cell_type": "markdown",
   "id": "d4d5acb8",
   "metadata": {},
   "source": [
    "Then we create a new `API` object, to download and process only the data we need:"
   ]
  },
  {
   "cell_type": "code",
   "execution_count": 20,
   "id": "ccd97407",
   "metadata": {},
   "outputs": [],
   "source": [
    "api_modified = API(processing=processing)"
   ]
  },
  {
   "cell_type": "markdown",
   "id": "367de8d5",
   "metadata": {},
   "source": [
    "We can run the query:"
   ]
  },
  {
   "cell_type": "code",
   "execution_count": 21,
   "id": "dbb39397",
   "metadata": {},
   "outputs": [
    {
     "name": "stdout",
     "output_type": "stream",
     "text": [
      "Found 5 entries\n",
      "Finished download.\n",
      "Material(mid = FIUqPOMua13ySJrnOynrNDnT5Xge, data = {'energy_total'}, properties = set())\n",
      "Material(mid = MDy6puRcMwjin26GFGaIoWuyTZw5, data = {'energy_total'}, properties = set())\n",
      "Material(mid = MawJNfJFAVzVaZkOfsTJnWws0wmp, data = {'energy_total'}, properties = set())\n",
      "Material(mid = 3WER3GH6byHNIUQTOWxNf_vhlA28, data = {'energy_total'}, properties = set())\n",
      "Material(mid = l4YBhD_KzKalkX8cvDJ9oTIHSgZg, data = {'energy_total'}, properties = set())\n"
     ]
    }
   ],
   "source": [
    "materials = api_modified.get_calculations_by_search(query, required=required_processed)\n",
    "for material in materials:\n",
    "    print(material)"
   ]
  },
  {
   "cell_type": "markdown",
   "id": "fa36e2c2",
   "metadata": {},
   "source": [
    "From the available data, we can plot the equation of state (EOS) as a function of the unit cell volume: "
   ]
  },
  {
   "cell_type": "code",
   "execution_count": 22,
   "id": "d6548bf8",
   "metadata": {},
   "outputs": [
    {
     "data": {
      "image/png": "[encoded data removed]",
      "text/plain": [
       "<Figure size 640x480 with 1 Axes>"
      ]
     },
     "metadata": {},
     "output_type": "display_data"
    }
   ],
   "source": [
    "volumes = []\n",
    "total_energies = []\n",
    "for mat in materials:\n",
    "    volumes.append(mat.atoms.get_volume())\n",
    "    total_energies.append(mat.data['energy_total'])\n",
    "volumes, total_energies = zip(*sorted(zip(volumes, total_energies), key=lambda x: x[0]))\n",
    "plt.plot(volumes, total_energies, \"o-\")\n",
    "plt.xlabel(\"Volume [Å$^3$]\", fontsize=15)\n",
    "plt.ylabel(\"Energy [eV]\", fontsize=15)\n",
    "plt.title(\"Equation of state of GaP\")\n",
    "plt.show()"
   ]
  }
 ],
 "metadata": {
  "kernelspec": {
   "display_name": "Python 3 (ipykernel)",
   "language": "python",
   "name": "python3"
  },
  "language_info": {
   "codemirror_mode": {
    "name": "ipython",
    "version": 3
   },
   "file_extension": ".py",
   "mimetype": "text/x-python",
   "name": "python",
   "nbconvert_exporter": "python",
   "pygments_lexer": "ipython3",
   "version": "3.10.4"
  }
 },
 "nbformat": 4,
 "nbformat_minor": 5
}
