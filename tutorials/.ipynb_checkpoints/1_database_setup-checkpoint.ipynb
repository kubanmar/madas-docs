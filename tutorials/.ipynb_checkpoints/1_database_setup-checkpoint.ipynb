{
 "cells": [
  {
   "cell_type": "markdown",
   "id": "04bb85ac",
   "metadata": {},
   "source": [
    "# Tutorial 1: Database setup"
   ]
  },
  {
   "cell_type": "markdown",
   "id": "c658e585",
   "metadata": {},
   "source": [
    "In this tutorial you are going to learn how to:\n",
    "\n",
    "<div class=\"alert alert-block alert-warning\">\n",
    "    \n",
    "**[Initialize a local database for materials data](#Initialization)**\n",
    "   \n",
    "**[Select an API for a remote data source](#Select-an-API)**\n",
    "   \n",
    "**[Select a backend for data storage](#Select-a-Backend)**\n",
    "   \n",
    "**[Download data from the NOMAD Archive](#Download-data)**\n",
    "   \n",
    "**[Analyzing data](#Analyzing-data)**\n",
    "\n",
    "**[Interpret log files](#Interpret-log-files)**\n",
    "\n",
    "</div>\n",
    "\n",
    "Let's get started!"
   ]
  },
  {
   "cell_type": "markdown",
   "id": "0c28f0e2",
   "metadata": {},
   "source": [
    "First, we need to import:"
   ]
  },
  {
   "cell_type": "code",
   "execution_count": 1,
   "id": "d7e692fa",
   "metadata": {},
   "outputs": [],
   "source": [
    "from simdatframe import MaterialsDatabase"
   ]
  },
  {
   "cell_type": "markdown",
   "id": "36132e2a",
   "metadata": {},
   "source": [
    "## Initialization\n",
    "\n",
    "You can create a new database using:"
   ]
  },
  {
   "cell_type": "markdown",
   "id": "e93bc446",
   "metadata": {},
   "source": [
    "```python\n",
    "database = MaterialsDatabase(\n",
    "    filename='tutorial1.db', # name of the database file\n",
    "    filepath='data', # relative path where the database and logs are stored\n",
    "    rootpath='.', # root path to which the filepath will be evaluated\n",
    "    key_name='mid', # name of the unique keys used in the database\n",
    "    api=None, # APIClass object that connects to an external database\n",
    "              # default (None) connects to the NOMAD Archive\n",
    "    backend='ase', # file backend to store data\n",
    "    silent_logging=False, # Set `True` to not write log messages to screen\n",
    ")\n",
    "```"
   ]
  },
  {
   "cell_type": "markdown",
   "id": "d8188cd5",
   "metadata": {},
   "source": [
    "You can omit all keyword arguments. The default name for the database file is `materials_database.db`. \n",
    "\n",
    "Let's look at them one by one:\n",
    "\n",
    "**filename**\n",
    "\n",
    "This is the name of the database file. It is passed to the `backend`, which creates the file, or, if it exists, loads the data from there.\n",
    "\n",
    "**filepath**\n",
    "\n",
    "The path where the database file should be created. If this path does not exist, the `backend` will create it. This path is relative to the _rootpath_.\n",
    "\n",
    "**rootpath**\n",
    "\n",
    "The path to an existing directory, which acts as the root for the creation of the file structure.\n",
    "\n",
    "**key_name**\n",
    "\n",
    "This is the name of the unique database key. Each entry in the database must have this key, it is used consitently throughout the whole package. This allows to connect the materials, their descriptors and similarity  relations. The key itself is created by the `API`. If you read from an existing database file, make sure that the correct `key_name` is used.\n",
    "\n",
    "**api**\n",
    "\n",
    "This argument is used to define from which external source the data is downloaded. The default is the NOMAD Archive, which used the [NOMAD Python client](https://nomad-lab.eu/prod/v1/docs/index.html). You can create your own `API`, to download data from any source. For details please refer to the documentation. This object can be passed as a keyword argument. More details are in [the next section](#Select-an-API).\n",
    "\n",
    "**backend**\n",
    "\n",
    "The `backend` is used to handle the file storage for the database files. By default the [ASE Database](https://wiki.fysik.dtu.dk/ase/ase/db/db.html) is used. It stores the atomic structures and properties in a lightweight SQL database. It is possible to create your own backends. For more details please refer to the documentation, and read the [section below](#Select-a-Backend).\n",
    "\n",
    "**silent_logging**\n",
    "\n",
    "When downloading large quanties of data from external sources, it can happen that web requests fail or the data format is different than expected. For that reason, the `MaterialsDatabase` does continue operation even if certian data that should be downloaded is not available or can not be processed. However, for keep track of the provenance, most error messages (also those from the API) are written to a log file. We will see how to access these logs [later](#Interpret-log-files). At the same time, they are written to the screen. If you want to suppress the writing to screen, set `silent_logging = True`. "
   ]
  },
  {
   "cell_type": "markdown",
   "id": "a1ff61c0",
   "metadata": {},
   "source": [
    "## Select an API\n",
    "\n",
    "To download data from different sources, it is possible to use a custom defined API object. In this tutorial, we are going to use the default API, but we set it explicitly. First, we import the API code:"
   ]
  },
  {
   "cell_type": "code",
   "execution_count": 2,
   "id": "58fbe506",
   "metadata": {},
   "outputs": [],
   "source": [
    "from simdatframe.apis.NOMAD_client_API import API"
   ]
  },
  {
   "cell_type": "markdown",
   "id": "64aac477",
   "metadata": {},
   "source": [
    "Next, we create the API object:"
   ]
  },
  {
   "cell_type": "code",
   "execution_count": 3,
   "id": "c6652f28",
   "metadata": {},
   "outputs": [],
   "source": [
    "api = API(logger = None)"
   ]
  },
  {
   "cell_type": "markdown",
   "id": "8d9b5f3f",
   "metadata": {},
   "source": [
    "Because we use the NOMAD client, which asynchroneously downloads data, from a Jupyter notebook we have to do a little setup:"
   ]
  },
  {
   "cell_type": "code",
   "execution_count": 4,
   "id": "8d025cbc",
   "metadata": {},
   "outputs": [],
   "source": [
    "import nest_asyncio \n",
    "nest_asyncio.apply()"
   ]
  },
  {
   "cell_type": "markdown",
   "id": "15b4c69b",
   "metadata": {},
   "source": [
    "This specific API does not require any setup, but you can use this e.g. to set the _url_ of a website. The logger is set to `None`, however, when we pass it to the `MaterialsDatabase`, the logger will be set, such that all error messages are sent to the log file. We can already use the `API` object to download data:"
   ]
  },
  {
   "cell_type": "code",
   "execution_count": 5,
   "id": "68a4b811",
   "metadata": {},
   "outputs": [
    {
     "name": "stdout",
     "output_type": "stream",
     "text": [
      "Fetching remote uploads...\n",
      "1 entries are qualified and added to the download list.\n",
      "Downloading required data...\n"
     ]
    }
   ],
   "source": [
    "material = api.get_calculation(\"AW45kWwD6Qq3wgdy6CpMgjX3wjOh\")"
   ]
  },
  {
   "cell_type": "code",
   "execution_count": 6,
   "id": "d9c09ee5",
   "metadata": {},
   "outputs": [
    {
     "name": "stdout",
     "output_type": "stream",
     "text": [
      "Material(mid = AW45kWwD6Qq3wgdy6CpMgjX3wjOh, data = {'atoms', 'mid', 'energy_total'}, properties = set())\n"
     ]
    }
   ],
   "source": [
    "print(material)"
   ]
  },
  {
   "cell_type": "markdown",
   "id": "b1939810",
   "metadata": {},
   "source": [
    "As you can see from the output, we downloaded the [a material from NOMAD](https://nomad-lab.eu/entry/id/AW45kWwD6Qq3wgdy6CpMgjX3wjOh). The properties include the total energy and the atomic positions, which are available via:"
   ]
  },
  {
   "cell_type": "code",
   "execution_count": 7,
   "id": "5176b792",
   "metadata": {},
   "outputs": [
    {
     "name": "stdout",
     "output_type": "stream",
     "text": [
      "-956939.7336141159\n"
     ]
    }
   ],
   "source": [
    "print(material.data[\"energy_total\"])"
   ]
  },
  {
   "cell_type": "code",
   "execution_count": 8,
   "id": "df1cb79a",
   "metadata": {},
   "outputs": [
    {
     "name": "stdout",
     "output_type": "stream",
     "text": [
      "Atoms(symbols='PbI2', pbc=True, cell=[[4.557999762860691, 0.0, 0.0], [-2.2789998764296207, 3.947343586727941, 0.0], [0.0, 0.0, 6.985999558607339]])\n"
     ]
    }
   ],
   "source": [
    "print(material.atoms)"
   ]
  },
  {
   "cell_type": "markdown",
   "id": "8011fab5",
   "metadata": {},
   "source": [
    "as properties of a `Material` object. You can read more about those in the documentation."
   ]
  },
  {
   "cell_type": "markdown",
   "id": "773ff8f4",
   "metadata": {},
   "source": [
    "In the next step, we create a backend to store our data."
   ]
  },
  {
   "cell_type": "markdown",
   "id": "e7a81ee6",
   "metadata": {},
   "source": [
    "## Select a Backend\n",
    "For our tutorial, we will not write the data to disc, but we store it in a dictionary based backend. We can create it via:"
   ]
  },
  {
   "cell_type": "code",
   "execution_count": 9,
   "id": "a8affc2b",
   "metadata": {},
   "outputs": [],
   "source": [
    "from simdatframe.backend.dictionary_backend import DictBackend\n",
    "backend = DictBackend()"
   ]
  },
  {
   "cell_type": "markdown",
   "id": "fd6feab7",
   "metadata": {},
   "source": [
    "For this case, we don't have to set any variables.\n",
    "\n",
    "We can add materials directly to the backend:"
   ]
  },
  {
   "cell_type": "code",
   "execution_count": 10,
   "id": "f908dde7",
   "metadata": {},
   "outputs": [
    {
     "name": "stdout",
     "output_type": "stream",
     "text": [
      "Wrote material with id AW45kWwD6Qq3wgdy6CpMgjX3wjOh.\n"
     ]
    }
   ],
   "source": [
    "backend.add_single(material)"
   ]
  },
  {
   "cell_type": "markdown",
   "id": "4d833ab4",
   "metadata": {},
   "source": [
    "check the length of the backend:"
   ]
  },
  {
   "cell_type": "code",
   "execution_count": 11,
   "id": "d31b1ec9",
   "metadata": {},
   "outputs": [
    {
     "name": "stdout",
     "output_type": "stream",
     "text": [
      "1\n"
     ]
    }
   ],
   "source": [
    "print(backend.get_length())"
   ]
  },
  {
   "cell_type": "markdown",
   "id": "79e1e6a0",
   "metadata": {},
   "source": [
    "and retrieve the data back from there:"
   ]
  },
  {
   "cell_type": "code",
   "execution_count": 12,
   "id": "2bfe1721",
   "metadata": {},
   "outputs": [],
   "source": [
    "material_copy = backend.get_by_id(0)"
   ]
  },
  {
   "cell_type": "markdown",
   "id": "55d1be66",
   "metadata": {},
   "source": [
    "Both materials are the same:"
   ]
  },
  {
   "cell_type": "code",
   "execution_count": 13,
   "id": "3c042959",
   "metadata": {},
   "outputs": [
    {
     "data": {
      "text/plain": [
       "True"
      ]
     },
     "execution_count": 13,
     "metadata": {},
     "output_type": "execute_result"
    }
   ],
   "source": [
    "material == material_copy"
   ]
  },
  {
   "cell_type": "markdown",
   "id": "b84c2cd6",
   "metadata": {},
   "source": [
    "## Download data\n",
    "Now we will practice a real-world example: We search the lowest energies for all Cu-Pd-Au based ternary compounds in NOMAD. We start with the database:"
   ]
  },
  {
   "cell_type": "code",
   "execution_count": 14,
   "id": "056f2deb",
   "metadata": {},
   "outputs": [],
   "source": [
    "from simdatframe import MaterialsDatabase\n",
    "\n",
    "db = MaterialsDatabase(filename=\"CuPdAu-energies.db\", api=api)"
   ]
  },
  {
   "cell_type": "markdown",
   "id": "9b9ae712",
   "metadata": {},
   "source": [
    "For using the NOMAD client API, we need to construct the query:"
   ]
  },
  {
   "cell_type": "code",
   "execution_count": 15,
   "id": "efd8efd6",
   "metadata": {},
   "outputs": [],
   "source": [
    "from nomad.client import ArchiveQuery\n",
    "\n",
    "query = {\n",
    "    \"external_db:any\": [\n",
    "      \"AFLOW\" # for consistency we only use data from the AflowLib database, which are computed using VASP\n",
    "    ],\n",
    "    \"results.material.elements_exclusive\": \"Au Cu Pd\" # we restrict the elements\n",
    "}  "
   ]
  },
  {
   "cell_type": "markdown",
   "id": "f6a93fb8",
   "metadata": {},
   "source": [
    "The NOMAD ArchiveQuery has a _required_ section, which tells which quantities should be retrieved from the NOMAD Archive. \n",
    "\n",
    "For our purpose, we can use the default section defined for `simdatframe`:"
   ]
  },
  {
   "cell_type": "code",
   "execution_count": 16,
   "id": "56fc448a",
   "metadata": {},
   "outputs": [],
   "source": [
    "from simdatframe.apis.NOMAD_client_API import DEFAULT_REQUIRED_SECTION, DEFAULT_PROCESSING"
   ]
  },
  {
   "cell_type": "markdown",
   "id": "3377fba0",
   "metadata": {},
   "source": [
    "Now we can create the query object:"
   ]
  },
  {
   "cell_type": "code",
   "execution_count": 17,
   "id": "74e8a308",
   "metadata": {},
   "outputs": [],
   "source": [
    "nomad_query = ArchiveQuery(query=query, required=DEFAULT_REQUIRED_SECTION)"
   ]
  },
  {
   "cell_type": "markdown",
   "id": "54f5cc6f",
   "metadata": {},
   "source": [
    "And populate the `MaterialsDatabase` with the results of the query:"
   ]
  },
  {
   "cell_type": "code",
   "execution_count": 18,
   "id": "aeecbbf4",
   "metadata": {},
   "outputs": [
    {
     "name": "stderr",
     "output_type": "stream",
     "text": [
      "2023-10-31 11:59:51,181 - CuPdAu-energies_log - ERROR - Query can not be serialized and therefore not logged.             To avoid this, please set `MaterialDatabase().query_encoder` to a `json.JsonEncoder` that can process your arguments.\n",
      "2023-10-31 11:59:51,182 - CuPdAu-energies_log - INFO - Filling database with calculations matching query: UNIDENTIFIED\n"
     ]
    },
    {
     "name": "stdout",
     "output_type": "stream",
     "text": [
      "Fetching remote uploads...\n"
     ]
    },
    {
     "name": "stderr",
     "output_type": "stream",
     "text": [
      "2023-10-31 11:59:52,095 - CuPdAu-energies_api - INFO - Got next 196 materials\n"
     ]
    },
    {
     "name": "stdout",
     "output_type": "stream",
     "text": [
      "196 entries are qualified and added to the download list.\n",
      "Downloading required data...\n"
     ]
    },
    {
     "name": "stderr",
     "output_type": "stream",
     "text": [
      "2023-10-31 12:00:04,475 - CuPdAu-energies_api - ERROR - Failed to extract quantity energy_total for None.\n"
     ]
    },
    {
     "name": "stdout",
     "output_type": "stream",
     "text": [
      "Fetching remote uploads...\n",
      "196 entries are qualified and added to the download list.\n",
      "Downloading required data...\n",
      "Fetching remote uploads...\n",
      "0 entries are qualified and added to the download list.\n",
      "Downloading required data...\n"
     ]
    },
    {
     "name": "stderr",
     "output_type": "stream",
     "text": [
      "2023-10-31 12:00:27,406 - CuPdAu-energies_log - INFO - Got data for 197 entries.\n",
      "2023-10-31 12:00:38,965 - CuPdAu-energies_log - INFO - Material ZlIpi_QzVbAci8672E19UMnA3Nx3 already in database. Skipping.\n",
      "2023-10-31 12:00:38,966 - CuPdAu-energies_log - INFO - Material FSy5orS-rVQQbrniW6CKEO5SGV2v already in database. Skipping.\n",
      "2023-10-31 12:00:38,967 - CuPdAu-energies_log - INFO - Material w7y48xkqP8ofPKwkCWJVWh3y6b4t already in database. Skipping.\n",
      "2023-10-31 12:00:38,968 - CuPdAu-energies_log - INFO - Material nBPgaFjxSvq_OM3_4zmUveWymgTj already in database. Skipping.\n",
      "2023-10-31 12:00:38,970 - CuPdAu-energies_log - INFO - Material KtWsw23i1XnkRRPTPmNLbW_QVw8a already in database. Skipping.\n",
      "2023-10-31 12:00:38,971 - CuPdAu-energies_log - INFO - Material 5AmI96JEaXZKLktGgBacrpkD3afx already in database. Skipping.\n",
      "2023-10-31 12:00:38,972 - CuPdAu-energies_log - INFO - Material 0K1DlGJLQhX8UrFOiBz56oe4BZ4I already in database. Skipping.\n",
      "2023-10-31 12:00:38,973 - CuPdAu-energies_log - INFO - Material pIjr_N7zeAHpxomrmhz82MNcTu-f already in database. Skipping.\n",
      "2023-10-31 12:00:38,974 - CuPdAu-energies_log - INFO - Material 92BRcL4Vrdn56Ag8ER3BilEGHuMh already in database. Skipping.\n",
      "2023-10-31 12:00:38,976 - CuPdAu-energies_log - INFO - Material h1IPSSik10FgEaXHoJPafiIhKIsq already in database. Skipping.\n",
      "2023-10-31 12:00:38,977 - CuPdAu-energies_log - INFO - Material 3A_C1rDWlEr2ikE9kwYzl_YtaQK9 already in database. Skipping.\n",
      "2023-10-31 12:00:38,978 - CuPdAu-energies_log - INFO - Material rikHJznRAdwhxxDSFxOmXYloBX2d already in database. Skipping.\n",
      "2023-10-31 12:00:38,980 - CuPdAu-energies_log - INFO - Material 9h6An049MVUiX6a8RoL_yjjRALNs already in database. Skipping.\n",
      "2023-10-31 12:00:38,982 - CuPdAu-energies_log - INFO - Material Zj7TcL6ldx2nPXuFhELT9v3p8wBk already in database. Skipping.\n",
      "2023-10-31 12:00:38,984 - CuPdAu-energies_log - INFO - Material om93owx3GVnXlp0T0by7vAInek51 already in database. Skipping.\n",
      "2023-10-31 12:00:38,985 - CuPdAu-energies_log - INFO - Material 6DPvaogiJtZMBvc3uKOb4KhbGAPO already in database. Skipping.\n",
      "2023-10-31 12:00:38,986 - CuPdAu-energies_log - INFO - Material svECEdvFxG4xpw23oM9SAD-CvcrT already in database. Skipping.\n",
      "2023-10-31 12:00:38,988 - CuPdAu-energies_log - INFO - Material 3xVb4fYWYvpBJwKkZqqKGwgxouRF already in database. Skipping.\n",
      "2023-10-31 12:00:38,990 - CuPdAu-energies_log - INFO - Material CljFeoPyeH992TJEBj8wfBDb6wIJ already in database. Skipping.\n",
      "2023-10-31 12:00:38,991 - CuPdAu-energies_log - INFO - Material 5kj9Xg519G0YzJWFd9TJ4-dTd_Yh already in database. Skipping.\n",
      "2023-10-31 12:00:38,993 - CuPdAu-energies_log - INFO - Material hOdQoCAXQO7tqU-d23Gnhkz6D6Co already in database. Skipping.\n",
      "2023-10-31 12:00:38,994 - CuPdAu-energies_log - INFO - Material 4m72a7R8r9NVfpuUfwjO7OuTe0Kg already in database. Skipping.\n",
      "2023-10-31 12:00:38,996 - CuPdAu-energies_log - INFO - Material 9nmX21exb-RKE123FLZi5eDywDiD already in database. Skipping.\n",
      "2023-10-31 12:00:38,998 - CuPdAu-energies_log - INFO - Material hQSoyHbW2kmEHDBtbm_BNvJXIUOx already in database. Skipping.\n",
      "2023-10-31 12:00:38,999 - CuPdAu-energies_log - INFO - Material prCJjw-KJ_RCOYtBPIWViaOrxSh3 already in database. Skipping.\n",
      "2023-10-31 12:00:39,001 - CuPdAu-energies_log - INFO - Material 7-DmW20nGarNHiUxMNKphevm0aHf already in database. Skipping.\n",
      "2023-10-31 12:00:39,003 - CuPdAu-energies_log - INFO - Material aoIzDc63hNcpvnd7ekF9RV6FOJm7 already in database. Skipping.\n",
      "2023-10-31 12:00:39,004 - CuPdAu-energies_log - INFO - Material hMDy_FeinIcxSKZ1XkUJSCnXZcZB already in database. Skipping.\n",
      "2023-10-31 12:00:39,005 - CuPdAu-energies_log - INFO - Material _hSwVPDB_CZoBhVZnDMqCIl4ihue already in database. Skipping.\n",
      "2023-10-31 12:00:39,007 - CuPdAu-energies_log - INFO - Material E93RpBZBI8YFjV9RE1BPMHNQnATM already in database. Skipping.\n",
      "2023-10-31 12:00:39,009 - CuPdAu-energies_log - INFO - Material qTWVJtjYOHeaUAM9RXqxWjRlPxSw already in database. Skipping.\n",
      "2023-10-31 12:00:39,011 - CuPdAu-energies_log - INFO - Material kBXDpxwq-nU8XO7bCwA-aD3RE2-q already in database. Skipping.\n",
      "2023-10-31 12:00:39,012 - CuPdAu-energies_log - INFO - Material s9a3rbvlgP5S7h9tfLVG1AJ0ZzOu already in database. Skipping.\n",
      "2023-10-31 12:00:39,013 - CuPdAu-energies_log - INFO - Material rcTK0aNM34sPNiM1vQ4Sovgk-uCD already in database. Skipping.\n",
      "2023-10-31 12:00:39,014 - CuPdAu-energies_log - INFO - Material VIX6AKbwgAkRuzReai1BsawOmpyU already in database. Skipping.\n",
      "2023-10-31 12:00:39,016 - CuPdAu-energies_log - INFO - Material QypPg3qD9kn1YLofUc-pPfWpa_vu already in database. Skipping.\n",
      "2023-10-31 12:00:39,017 - CuPdAu-energies_log - INFO - Material t3KK3dlwD7LjWN0jWsu4AJG9hjHo already in database. Skipping.\n",
      "2023-10-31 12:00:39,018 - CuPdAu-energies_log - INFO - Material 4P6zFphnOJnZlvw0oOY28T7Hsa7f already in database. Skipping.\n",
      "2023-10-31 12:00:39,019 - CuPdAu-energies_log - INFO - Material 7omYSioHNK6Tzce0x--pVtVsOBmB already in database. Skipping.\n",
      "2023-10-31 12:00:39,021 - CuPdAu-energies_log - INFO - Material 7jOAnSrVOR2Zfu1k-APwEKjsJO4w already in database. Skipping.\n",
      "2023-10-31 12:00:39,022 - CuPdAu-energies_log - INFO - Material 7omYSioHNK6Tzce0x--pVtVsOBmB already in database. Skipping.\n",
      "2023-10-31 12:00:39,024 - CuPdAu-energies_log - INFO - Material Nhc2aAd1wWZHl_4hUplG__ATiAYt already in database. Skipping.\n",
      "2023-10-31 12:00:39,025 - CuPdAu-energies_log - INFO - Material 3PgfYF-OTAmZmpGHO_wdzrjy_LKN already in database. Skipping.\n",
      "2023-10-31 12:00:39,026 - CuPdAu-energies_log - INFO - Material X3GT3o88ZsZHQT9DZDfW5CMtbADv already in database. Skipping.\n",
      "2023-10-31 12:00:39,028 - CuPdAu-energies_log - INFO - Material 42hyxkNPdCl-kXTy3lBfyIV0ONAu already in database. Skipping.\n",
      "2023-10-31 12:00:39,029 - CuPdAu-energies_log - INFO - Material C_vrIFB6V66RAQSPigz_uLmhANDO already in database. Skipping.\n",
      "2023-10-31 12:00:39,030 - CuPdAu-energies_log - INFO - Material LtyBKiWkSeR-w30fbzQnyTFgwQrV already in database. Skipping.\n",
      "2023-10-31 12:00:39,031 - CuPdAu-energies_log - INFO - Material YlWnHRt16MIP5M_4nn6NPVDJLv0U already in database. Skipping.\n",
      "2023-10-31 12:00:39,033 - CuPdAu-energies_log - INFO - Material q6WuzedAZOVyGTiloZwoWmwEOS_W already in database. Skipping.\n",
      "2023-10-31 12:00:39,034 - CuPdAu-energies_log - INFO - Material nmfNY4y4XbLaBUOR7J40DqDf-krY already in database. Skipping.\n",
      "2023-10-31 12:00:39,037 - CuPdAu-energies_log - INFO - Material vdKyRlG7D_gUGbIBBJwlZv-WV_cK already in database. Skipping.\n",
      "2023-10-31 12:00:39,039 - CuPdAu-energies_log - INFO - Material IQQrq4Ja3oK_p0wb-4dXvylsuykP already in database. Skipping.\n",
      "2023-10-31 12:00:39,040 - CuPdAu-energies_log - INFO - Material kE2PJ_-fGX1EkIkRWyIf8AVBUBoP already in database. Skipping.\n",
      "2023-10-31 12:00:39,041 - CuPdAu-energies_log - INFO - Material suIwtjsjtqfkNDdVAVh3pAGzUKDz already in database. Skipping.\n",
      "2023-10-31 12:00:39,043 - CuPdAu-energies_log - INFO - Material t5rZMgux78pnbeXxg0dK2tR6km9q already in database. Skipping.\n",
      "2023-10-31 12:00:39,045 - CuPdAu-energies_log - INFO - Material F9admjkJqKdpdGyBO5r5us5rlYGt already in database. Skipping.\n",
      "2023-10-31 12:00:39,048 - CuPdAu-energies_log - INFO - Material QVv1uz1JP8edlrnyDQ5kKRGlvuwA already in database. Skipping.\n",
      "2023-10-31 12:00:39,049 - CuPdAu-energies_log - INFO - Material nTrjU4itN_dcCSOkmJgZnKOmSdvp already in database. Skipping.\n",
      "2023-10-31 12:00:39,050 - CuPdAu-energies_log - INFO - Material 6O3G_NFO-lrx8ibPNknmBNCfl-zQ already in database. Skipping.\n",
      "2023-10-31 12:00:39,053 - CuPdAu-energies_log - INFO - Material 2nOTn-dsFXvhzW7wKv_JlBFChdkt already in database. Skipping.\n",
      "2023-10-31 12:00:39,054 - CuPdAu-energies_log - INFO - Material jJgfITXXfpaXqEsGojNlwsV0OrSt already in database. Skipping.\n",
      "2023-10-31 12:00:39,055 - CuPdAu-energies_log - INFO - Material orJYKslLz5uTDXCMBnJaN6aUvd7X already in database. Skipping.\n",
      "2023-10-31 12:00:39,056 - CuPdAu-energies_log - INFO - Material FoUx3XuVwA1yoTPYsxI-vvaYCkhH already in database. Skipping.\n",
      "2023-10-31 12:00:39,057 - CuPdAu-energies_log - INFO - Material jJZto4yJZZLIpgzgWSpj7jaxRmK0 already in database. Skipping.\n",
      "2023-10-31 12:00:39,059 - CuPdAu-energies_log - INFO - Material XfrEm9MWTdOCr5nwVGcKqKdmsk2Q already in database. Skipping.\n",
      "2023-10-31 12:00:39,061 - CuPdAu-energies_log - INFO - Material xYKpLpnmQJsRvbw2cFKwlqZq-cr8 already in database. Skipping.\n"
     ]
    },
    {
     "name": "stderr",
     "output_type": "stream",
     "text": [
      "2023-10-31 12:00:39,062 - CuPdAu-energies_log - INFO - Material RXuoSwW43i9ehw3oDzgowBYqRcv5 already in database. Skipping.\n",
      "2023-10-31 12:00:39,064 - CuPdAu-energies_log - INFO - Material eesHt79lG272A_89Ch8TCRyqayMj already in database. Skipping.\n",
      "2023-10-31 12:00:39,064 - CuPdAu-energies_log - INFO - Material YRvIdKaq6ECL9C_tUHo8NTTsz5CK already in database. Skipping.\n",
      "2023-10-31 12:00:39,066 - CuPdAu-energies_log - INFO - Material vaSzHqOd2VG6rdac6id11Jtr2zxB already in database. Skipping.\n",
      "2023-10-31 12:00:39,067 - CuPdAu-energies_log - INFO - Material QSXoznIfufPGQ7ADwYzwKsCmq_pV already in database. Skipping.\n",
      "2023-10-31 12:00:39,069 - CuPdAu-energies_log - INFO - Material RYpKrA-IvRrdZUVeTKytkmaJTWm6 already in database. Skipping.\n",
      "2023-10-31 12:00:39,070 - CuPdAu-energies_log - INFO - Material 1YeNHlBFsgMdPaWzS2NFn9KFpRnZ already in database. Skipping.\n",
      "2023-10-31 12:00:39,072 - CuPdAu-energies_log - INFO - Material z7Yk2P0u9JHfrvCs0MfesZcjsFZs already in database. Skipping.\n",
      "2023-10-31 12:00:39,073 - CuPdAu-energies_log - INFO - Material nyoRRHkRlIWyn1RzroCkKnv5ZrLt already in database. Skipping.\n",
      "2023-10-31 12:00:39,074 - CuPdAu-energies_log - INFO - Material 3ivfvup7xbCUxKQrcCM4M-EbfFqx already in database. Skipping.\n",
      "2023-10-31 12:00:39,076 - CuPdAu-energies_log - INFO - Material siPgEpTrlVw4AkLH8Nbuxy4NhYhi already in database. Skipping.\n",
      "2023-10-31 12:00:39,078 - CuPdAu-energies_log - INFO - Material 66pTggU5_3rJfOyQMf2tQ-uJ-imS already in database. Skipping.\n",
      "2023-10-31 12:00:39,079 - CuPdAu-energies_log - INFO - Material 45Kh5xYbDtY4DHrW98g9XAcT0XWi already in database. Skipping.\n",
      "2023-10-31 12:00:39,080 - CuPdAu-energies_log - INFO - Material VSFv3_kaHl-wKL1bski7XBiRue-s already in database. Skipping.\n",
      "2023-10-31 12:00:39,081 - CuPdAu-energies_log - INFO - Material w3K5Y4sk5zIQm_Itdk47lX6_2O9V already in database. Skipping.\n",
      "2023-10-31 12:00:39,082 - CuPdAu-energies_log - INFO - Material JHz_VnBh94xAHLwYDpUCdvftU3BJ already in database. Skipping.\n",
      "2023-10-31 12:00:39,084 - CuPdAu-energies_log - INFO - Material MJ-kf1YV6mlqNuLCJaGyU7Yc2ppS already in database. Skipping.\n",
      "2023-10-31 12:00:39,085 - CuPdAu-energies_log - INFO - Material h4v7yL3buH4IovjQCvD6Rp1yXXJt already in database. Skipping.\n",
      "2023-10-31 12:00:39,087 - CuPdAu-energies_log - INFO - Material xP5kTOZBuG9822WoEDyaQqPcEJlm already in database. Skipping.\n",
      "2023-10-31 12:00:39,088 - CuPdAu-energies_log - INFO - Material Z3za1RRojYk2d7uEbO42f3z5VDbq already in database. Skipping.\n",
      "2023-10-31 12:00:39,090 - CuPdAu-energies_log - INFO - Material gxe8hlEIdUZeaDQDEajTvYkl7lpp already in database. Skipping.\n",
      "2023-10-31 12:00:39,091 - CuPdAu-energies_log - INFO - Material mmPzBZAZTHIjqMol2WnaQTU0YZUh already in database. Skipping.\n",
      "2023-10-31 12:00:39,092 - CuPdAu-energies_log - INFO - Material 0kVbgDGuTudgDw3yw6VEDE_JCwIr already in database. Skipping.\n",
      "2023-10-31 12:00:39,094 - CuPdAu-energies_log - INFO - Material 68uJgJWzsDIsTitnIqoLq7KKOztc already in database. Skipping.\n",
      "2023-10-31 12:00:39,095 - CuPdAu-energies_log - INFO - Material LNJItFexVxqnW2rFMAY_8WxCjq4S already in database. Skipping.\n",
      "2023-10-31 12:00:39,096 - CuPdAu-energies_log - INFO - Material 9wzIFf8nyMP0wOcHlORcUDVNkeq3 already in database. Skipping.\n",
      "2023-10-31 12:00:39,097 - CuPdAu-energies_log - INFO - Material XWp4JsshXcn7t55KWRgoHBfTS7X7 already in database. Skipping.\n",
      "2023-10-31 12:00:39,099 - CuPdAu-energies_log - INFO - Material 75vxsJLHafODafloz2sso1F33uC6 already in database. Skipping.\n",
      "2023-10-31 12:00:39,100 - CuPdAu-energies_log - INFO - Material ST6zMymaVFlU6By6LPKj1vN4GqfG already in database. Skipping.\n",
      "2023-10-31 12:00:39,103 - CuPdAu-energies_log - INFO - Material 0q3L40sEAuYCkvpD8E4W5AE3-7By already in database. Skipping.\n",
      "2023-10-31 12:00:39,105 - CuPdAu-energies_log - INFO - Material PUG3MS4RmKG-ZDFboOEkW-fd23EK already in database. Skipping.\n",
      "2023-10-31 12:00:39,106 - CuPdAu-energies_log - INFO - Material 4ZSJ0pkBsJ1tethMROMwf5IOfJLs already in database. Skipping.\n",
      "2023-10-31 12:00:39,108 - CuPdAu-energies_log - INFO - Material nqyL-Lkp4LnBIQCY0ZgSQ8oL-0HD already in database. Skipping.\n",
      "2023-10-31 12:00:39,110 - CuPdAu-energies_log - INFO - Material eD-zAU2FX3VnGYQwiqSpHXFBQfB2 already in database. Skipping.\n",
      "2023-10-31 12:00:39,111 - CuPdAu-energies_log - INFO - Material N8hC_ZyhEF36ORILjBjv2qSrUmq4 already in database. Skipping.\n",
      "2023-10-31 12:00:39,112 - CuPdAu-energies_log - INFO - Material PbwUvi8QXp5-flHLAs0zAuHJ_HWH already in database. Skipping.\n",
      "2023-10-31 12:00:39,114 - CuPdAu-energies_log - INFO - Material kWwYmC2j5wGLP-f8yerFqhJK4d53 already in database. Skipping.\n",
      "2023-10-31 12:00:39,116 - CuPdAu-energies_log - INFO - Material MrNmmg79V8AUyqPjghDHbxpdmHVn already in database. Skipping.\n",
      "2023-10-31 12:00:39,117 - CuPdAu-energies_log - INFO - Material 8lFwJMlqPNESDx34y7sDS4KEMWyv already in database. Skipping.\n",
      "2023-10-31 12:00:39,118 - CuPdAu-energies_log - INFO - Material 0IpTundhmihJt2Ytju_VSbFBwJ1Q already in database. Skipping.\n",
      "2023-10-31 12:00:39,119 - CuPdAu-energies_log - INFO - Material IMz3UNBXbSdnCJCRL9UTAfP19T5C already in database. Skipping.\n",
      "2023-10-31 12:00:39,120 - CuPdAu-energies_log - INFO - Material 0Cf38u9-R1ghOMT2HpaEN_7iGrk2 already in database. Skipping.\n",
      "2023-10-31 12:00:39,121 - CuPdAu-energies_log - INFO - Material vkRP_HAoteZPfEpj_XJrCGx6qDRp already in database. Skipping.\n",
      "2023-10-31 12:00:39,123 - CuPdAu-energies_log - INFO - Material uJPjF9ywEVcyHQdl-05FnqLQSptF already in database. Skipping.\n",
      "2023-10-31 12:00:39,124 - CuPdAu-energies_log - INFO - Material lOuplCCrAc81LivrqWCWi0Kl5klW already in database. Skipping.\n",
      "2023-10-31 12:00:39,125 - CuPdAu-energies_log - INFO - Material MDNliKXNZd6feqrsYQGvGRY31poj already in database. Skipping.\n",
      "2023-10-31 12:00:39,126 - CuPdAu-energies_log - INFO - Material 9LZTW1pHcGeU9xr8wEuxGJusBUn2 already in database. Skipping.\n",
      "2023-10-31 12:00:39,128 - CuPdAu-energies_log - INFO - Material eyCaccFbIAC-7rr6FbDQg8akaeDr already in database. Skipping.\n",
      "2023-10-31 12:00:39,129 - CuPdAu-energies_log - INFO - Material bxJr_Te2oODGD_rdS1EeQQl9VaPi already in database. Skipping.\n",
      "2023-10-31 12:00:39,131 - CuPdAu-energies_log - INFO - Material 3tnLlMvM8-VBrXM6e4tuc9iZM3kg already in database. Skipping.\n",
      "2023-10-31 12:00:39,132 - CuPdAu-energies_log - INFO - Material kHmgWwNS7JscSQymtZYk4-BJnApO already in database. Skipping.\n",
      "2023-10-31 12:00:39,133 - CuPdAu-energies_log - INFO - Material 209h7dMOUj2mjCkz_etiaq7L_oS6 already in database. Skipping.\n",
      "2023-10-31 12:00:39,134 - CuPdAu-energies_log - INFO - Material ynjubyed0_xa6Q2OlHQvryPIN-Ye already in database. Skipping.\n",
      "2023-10-31 12:00:39,136 - CuPdAu-energies_log - INFO - Material Qg3vQtiruu8o9vxrBcmUolUWi6-Y already in database. Skipping.\n",
      "2023-10-31 12:00:39,137 - CuPdAu-energies_log - INFO - Material BtLVUcLmT2zn9FT0Oi8c3SQRpDqJ already in database. Skipping.\n",
      "2023-10-31 12:00:39,138 - CuPdAu-energies_log - INFO - Material kao-syFtC9Hv0G_mV39eSDyvBhfP already in database. Skipping.\n",
      "2023-10-31 12:00:39,140 - CuPdAu-energies_log - INFO - Material a5G9CVbwpAmPzTdv2b6ydcSrZuaD already in database. Skipping.\n",
      "2023-10-31 12:00:39,141 - CuPdAu-energies_log - INFO - Material 00LH7DjWTp1TSsEVaE8cEzmM3oxW already in database. Skipping.\n",
      "2023-10-31 12:00:39,142 - CuPdAu-energies_log - INFO - Material 1X-ISf370i4c4wcgRudzX4x6CRCB already in database. Skipping.\n",
      "2023-10-31 12:00:39,145 - CuPdAu-energies_log - INFO - Material afgxVJIdT-rG_oycfzvFp2tUtr8T already in database. Skipping.\n",
      "2023-10-31 12:00:39,146 - CuPdAu-energies_log - INFO - Material -x4ZvUXPbf8IPY4kh564oxqgSanb already in database. Skipping.\n",
      "2023-10-31 12:00:39,147 - CuPdAu-energies_log - INFO - Material -OdfOEAXgn99IbUZ9Ebd3I-psr2e already in database. Skipping.\n",
      "2023-10-31 12:00:39,149 - CuPdAu-energies_log - INFO - Material PKmPV49UVI8N4gdHkiPoqZVM9rfK already in database. Skipping.\n",
      "2023-10-31 12:00:39,151 - CuPdAu-energies_log - INFO - Material D9JT34ZaVtrn1yY4qICBywlOKHm9 already in database. Skipping.\n",
      "2023-10-31 12:00:39,152 - CuPdAu-energies_log - INFO - Material AZJcIlmHOLWVgqrjH5I6iXCV1mXM already in database. Skipping.\n",
      "2023-10-31 12:00:39,153 - CuPdAu-energies_log - INFO - Material rWjyWlXjZOHUGhfEmy7z7ynNw0Ii already in database. Skipping.\n",
      "2023-10-31 12:00:39,154 - CuPdAu-energies_log - INFO - Material eER8zgnVO72Gn_TuIWOLlJCwCCDF already in database. Skipping.\n"
     ]
    },
    {
     "name": "stderr",
     "output_type": "stream",
     "text": [
      "2023-10-31 12:00:39,155 - CuPdAu-energies_log - INFO - Material QMquc_hjB97vuQol9XaS8CD4BeB8 already in database. Skipping.\n",
      "2023-10-31 12:00:39,156 - CuPdAu-energies_log - INFO - Material 1TOqJJmUXPeIkGDuguzFESI7NVLY already in database. Skipping.\n",
      "2023-10-31 12:00:39,158 - CuPdAu-energies_log - INFO - Material yYnCOkHlYfoBzVT6mvuZzHupD69w already in database. Skipping.\n",
      "2023-10-31 12:00:39,159 - CuPdAu-energies_log - INFO - Material gkpYjCnLA2yOj-PGgHEySHZMBUUu already in database. Skipping.\n",
      "2023-10-31 12:00:39,160 - CuPdAu-energies_log - INFO - Material XgJOrUwiblAg05_rdf1HaxshdnSf already in database. Skipping.\n",
      "2023-10-31 12:00:39,161 - CuPdAu-energies_log - INFO - Material Z0ex1iiBWnTZkVZZXrpD4-M2yTcO already in database. Skipping.\n",
      "2023-10-31 12:00:39,162 - CuPdAu-energies_log - INFO - Material s5kYvyaRa_wplFV8NXjlh8GumZnN already in database. Skipping.\n",
      "2023-10-31 12:00:39,164 - CuPdAu-energies_log - INFO - Material RpWMmYCjKrMqvXJV55tK30FL-u0x already in database. Skipping.\n",
      "2023-10-31 12:00:39,166 - CuPdAu-energies_log - INFO - Material JgnMbELxvW4uKaqj56Xw1mzzDdGC already in database. Skipping.\n",
      "2023-10-31 12:00:39,167 - CuPdAu-energies_log - INFO - Material CVJCJ_HaaHL5SFG4HLqadehL6oQf already in database. Skipping.\n",
      "2023-10-31 12:00:39,168 - CuPdAu-energies_log - INFO - Material 9bgOvppBJDqf9sOqWv5ZhL09dzAu already in database. Skipping.\n",
      "2023-10-31 12:00:39,169 - CuPdAu-energies_log - INFO - Material A3lz_yTM19gejvi7G2teLzJjr9-K already in database. Skipping.\n",
      "2023-10-31 12:00:39,171 - CuPdAu-energies_log - INFO - Material JoXx6NOCTkbpK4dAu8uYBB8-IkfT already in database. Skipping.\n",
      "2023-10-31 12:00:39,172 - CuPdAu-energies_log - INFO - Material -MUKuuzGEPx0IQQN0ZgUBdOiRh5O already in database. Skipping.\n",
      "2023-10-31 12:00:39,173 - CuPdAu-energies_log - INFO - Material OzlnZ1aNL2o8aE682gerTeRd1STL already in database. Skipping.\n",
      "2023-10-31 12:00:39,174 - CuPdAu-energies_log - INFO - Material MJBc-XYy-2R02xQ6lwh9uD9DJDHO already in database. Skipping.\n",
      "2023-10-31 12:00:39,176 - CuPdAu-energies_log - INFO - Material pddnPjMI2azGxQy_x9CfESa24Qdf already in database. Skipping.\n",
      "2023-10-31 12:00:39,177 - CuPdAu-energies_log - INFO - Material t6R-4fS8leaO0RCMMj95xVT8J2nH already in database. Skipping.\n",
      "2023-10-31 12:00:39,179 - CuPdAu-energies_log - INFO - Material KOmcP6ud8oQ5TZrrLFOgumgU3c-D already in database. Skipping.\n",
      "2023-10-31 12:00:39,180 - CuPdAu-energies_log - INFO - Material -extPV7AeTKXzcfwyI8SyRqNHRs5 already in database. Skipping.\n",
      "2023-10-31 12:00:39,182 - CuPdAu-energies_log - INFO - Material VR-q2imsLWeyLAeYFG74OLPIl2P8 already in database. Skipping.\n",
      "2023-10-31 12:00:39,184 - CuPdAu-energies_log - INFO - Material KNwT9bhQ4tC8topo28RZRy9kWQ-S already in database. Skipping.\n",
      "2023-10-31 12:00:39,186 - CuPdAu-energies_log - INFO - Material sT0bXwaPdrAteiTUDAIAXEjGlmRS already in database. Skipping.\n",
      "2023-10-31 12:00:39,187 - CuPdAu-energies_log - INFO - Material Re0ckBiIy8GaBJZ1SllaHZrXa-CY already in database. Skipping.\n",
      "2023-10-31 12:00:39,189 - CuPdAu-energies_log - INFO - Material OgU4E2hIjUyHVUnzkJPV-xIhDUT6 already in database. Skipping.\n",
      "2023-10-31 12:00:39,190 - CuPdAu-energies_log - INFO - Material 9oOdqEhygU8b7_q19JFU7rN6WTvs already in database. Skipping.\n",
      "2023-10-31 12:00:39,191 - CuPdAu-energies_log - INFO - Material m-sA6xOBbyuMiDHEvEgt_XzEOpxB already in database. Skipping.\n",
      "2023-10-31 12:00:39,192 - CuPdAu-energies_log - INFO - Material jqiWlUdSMsfZ3EZs-TcyuZNahFaN already in database. Skipping.\n",
      "2023-10-31 12:00:39,194 - CuPdAu-energies_log - INFO - Material wYy_8C36FhoRzpFs6Xa0HO4EYEWl already in database. Skipping.\n",
      "2023-10-31 12:00:39,195 - CuPdAu-energies_log - INFO - Material dzAEQievwipQQh0eAEf64QZpqIUY already in database. Skipping.\n",
      "2023-10-31 12:00:39,196 - CuPdAu-energies_log - INFO - Material P7tJuP7F01FWn5cQnPKQ4pOSzO2_ already in database. Skipping.\n",
      "2023-10-31 12:00:39,198 - CuPdAu-energies_log - INFO - Material EZGz5Jo3BOXF2ypwAlRTtsSFDIgZ already in database. Skipping.\n",
      "2023-10-31 12:00:39,199 - CuPdAu-energies_log - INFO - Material RbKfuc8M-2TRjaREceVTWJO-2G66 already in database. Skipping.\n",
      "2023-10-31 12:00:39,200 - CuPdAu-energies_log - INFO - Material fB4ynJZLowYzoo2HGEWygozNApRr already in database. Skipping.\n",
      "2023-10-31 12:00:39,201 - CuPdAu-energies_log - INFO - Material eGfnB_f_owjoLcXGLuvT79rSC0rQ already in database. Skipping.\n",
      "2023-10-31 12:00:39,202 - CuPdAu-energies_log - INFO - Material CXLSJalCByY_vta1mSXxpfrvZzmZ already in database. Skipping.\n",
      "2023-10-31 12:00:39,204 - CuPdAu-energies_log - INFO - Material fgI_swzxUz44fIsfCcHSdj1EyFSu already in database. Skipping.\n",
      "2023-10-31 12:00:39,206 - CuPdAu-energies_log - INFO - Material ObJo0NExgqOgzYIsmMk6Z-zGmmiR already in database. Skipping.\n",
      "2023-10-31 12:00:39,207 - CuPdAu-energies_log - INFO - Material 2RtHMNhVoDo8f0R2DutDX5sYB2_n already in database. Skipping.\n",
      "2023-10-31 12:00:39,209 - CuPdAu-energies_log - INFO - Material 3WTD-_Ph87X3kNWFRvhhtk-FN2GA already in database. Skipping.\n",
      "2023-10-31 12:00:39,211 - CuPdAu-energies_log - INFO - Material SG27iTOTiDOou0zNh9244iz_kdoG already in database. Skipping.\n",
      "2023-10-31 12:00:39,212 - CuPdAu-energies_log - INFO - Material JlRY4Xbe7S7Tg-3AqA-4EMLzU6TF already in database. Skipping.\n",
      "2023-10-31 12:00:39,213 - CuPdAu-energies_log - INFO - Material 9-178jkm7xzngkgoIs-kbDEF0gBZ already in database. Skipping.\n",
      "2023-10-31 12:00:39,215 - CuPdAu-energies_log - INFO - Material KX_ALbeZMeTMytW5XYTr5p6n7eXe already in database. Skipping.\n",
      "2023-10-31 12:00:39,217 - CuPdAu-energies_log - INFO - Material Q5llB9IFVKa6wpnh4WwKg_02YcUu already in database. Skipping.\n",
      "2023-10-31 12:00:39,218 - CuPdAu-energies_log - INFO - Material 5uJGXB1T4JuuUZfAUaXP2oBnNc-0 already in database. Skipping.\n",
      "2023-10-31 12:00:39,219 - CuPdAu-energies_log - INFO - Material 5lmRSttEM0puK8ZUYMPbJPe90wiD already in database. Skipping.\n",
      "2023-10-31 12:00:39,221 - CuPdAu-energies_log - INFO - Material U3CzPEF_R7Pj0D5j9x5WqW0x-_j9 already in database. Skipping.\n",
      "2023-10-31 12:00:39,222 - CuPdAu-energies_log - INFO - Material -P36pdAbK-Rke2QR8SpA19JVzurm already in database. Skipping.\n",
      "2023-10-31 12:00:39,224 - CuPdAu-energies_log - INFO - Material y5trjCmfE9JyRF4m-fedgsqOUcnd already in database. Skipping.\n",
      "2023-10-31 12:00:39,225 - CuPdAu-energies_log - INFO - Material qWxhrRKu1W13-bqFUYZ-lBt87PNQ already in database. Skipping.\n",
      "2023-10-31 12:00:39,227 - CuPdAu-energies_log - INFO - Material rJ9TSd30K2W76AH_2AL4AQ3JwTTl already in database. Skipping.\n",
      "2023-10-31 12:00:39,228 - CuPdAu-energies_log - INFO - Material jLYkNaZ5glAhfoY_UbUTQH0L8QZn already in database. Skipping.\n",
      "2023-10-31 12:00:39,230 - CuPdAu-energies_log - INFO - Material rJR7sk-lD6eABYIIdnkOyG1Q35oF already in database. Skipping.\n",
      "2023-10-31 12:00:39,231 - CuPdAu-energies_log - INFO - Material jFPpL_d4bEnEy11Offy2vYfnRSXT already in database. Skipping.\n",
      "2023-10-31 12:00:39,232 - CuPdAu-energies_log - INFO - Material 2NuZvCT55u8n4fwIj2SZ5IX3CKNQ already in database. Skipping.\n",
      "2023-10-31 12:00:39,233 - CuPdAu-energies_log - INFO - Material wbX4VBe7dnrNjEhmXE_J0ImdiDLf already in database. Skipping.\n",
      "2023-10-31 12:00:39,235 - CuPdAu-energies_log - INFO - Material XsHXs4sX8W5Jpb_tHfeVYhJpnJVN already in database. Skipping.\n",
      "2023-10-31 12:00:39,236 - CuPdAu-energies_log - INFO - Material Wgej-SIr9tN74M9Sl9ugp9SC32oC already in database. Skipping.\n",
      "2023-10-31 12:00:39,238 - CuPdAu-energies_log - INFO - Material TjU7-hem14isv6FA4b6ggE9Sj7sn already in database. Skipping.\n",
      "2023-10-31 12:00:39,239 - CuPdAu-energies_log - INFO - Material YsEg3VEr7ivP-nTRT4gxxCtQKcOd already in database. Skipping.\n",
      "2023-10-31 12:00:39,241 - CuPdAu-energies_log - INFO - Material NIXacdEj7EriyBFOOuLuBb4Gli4l already in database. Skipping.\n",
      "2023-10-31 12:00:39,242 - CuPdAu-energies_log - INFO - Material OSSsPvgWwa2XWicBtAAw4vj0WNxr already in database. Skipping.\n",
      "2023-10-31 12:00:39,243 - CuPdAu-energies_log - INFO - Material kyycObCWjuzPbeQOtSclp4qwyx3a already in database. Skipping.\n"
     ]
    }
   ],
   "source": [
    "db.fill_database(nomad_query, processing = DEFAULT_PROCESSING)"
   ]
  },
  {
   "cell_type": "markdown",
   "id": "bface1c1",
   "metadata": {},
   "source": [
    "The `proccessing` parameter is used to extract specific values from what the NOMAD API returns. It contains a dictionary\n",
    "```python\n",
    "{\"<property1 name>\" : <function to extract property1>,  \n",
    "\"<property2 name>\" : <function to extract property2>}\n",
    "```\n",
    "that provides names of properties and functions to extract them. We can look at the default:"
   ]
  },
  {
   "cell_type": "code",
   "execution_count": 19,
   "id": "30fa1f56",
   "metadata": {},
   "outputs": [
    {
     "name": "stdout",
     "output_type": "stream",
     "text": [
      "{'atoms': <function get_atoms at 0x7fc4bb0d23b0>, 'energy_total': <function get_total_energy at 0x7fc4bb0d2c20>}\n"
     ]
    }
   ],
   "source": [
    "print(DEFAULT_PROCESSING)"
   ]
  },
  {
   "cell_type": "markdown",
   "id": "8cc821c0",
   "metadata": {},
   "source": [
    "Consequently, the downloaded materials have atomic structures and total energy values. We can check that by selecting the first entry of the database:"
   ]
  },
  {
   "cell_type": "code",
   "execution_count": 20,
   "id": "eae65c9f",
   "metadata": {},
   "outputs": [
    {
     "data": {
      "text/plain": [
       "-17.23256886"
      ]
     },
     "execution_count": 20,
     "metadata": {},
     "output_type": "execute_result"
    }
   ],
   "source": [
    "db[0].data[\"energy_total\"]"
   ]
  },
  {
   "cell_type": "code",
   "execution_count": 21,
   "id": "f264b3c9",
   "metadata": {},
   "outputs": [
    {
     "name": "stdout",
     "output_type": "stream",
     "text": [
      "We have downloaded 196 materials\n"
     ]
    }
   ],
   "source": [
    "print(f\"We have downloaded {len(db)} materials\")"
   ]
  },
  {
   "cell_type": "markdown",
   "id": "e75f8bc0",
   "metadata": {},
   "source": [
    "Notice that you can not accidently repeat the download:"
   ]
  },
  {
   "cell_type": "code",
   "execution_count": null,
   "id": "ac606657",
   "metadata": {},
   "outputs": [
    {
     "name": "stderr",
     "output_type": "stream",
     "text": [
      "2023-10-31 12:00:39,315 - CuPdAu-energies_log - ERROR - Query can not be serialized and therefore not logged.             To avoid this, please set `MaterialDatabase().query_encoder` to a `json.JsonEncoder` that can process your arguments.\n",
      "2023-10-31 12:00:39,316 - CuPdAu-energies_log - INFO - Filling database with calculations matching query: UNIDENTIFIED\n"
     ]
    },
    {
     "name": "stdout",
     "output_type": "stream",
     "text": [
      "Fetching remote uploads...\n"
     ]
    },
    {
     "name": "stderr",
     "output_type": "stream",
     "text": [
      "2023-10-31 12:00:39,649 - CuPdAu-energies_api - INFO - Got next 196 materials\n"
     ]
    },
    {
     "name": "stdout",
     "output_type": "stream",
     "text": [
      "196 entries are qualified and added to the download list.\n",
      "Downloading required data...\n",
      "Fetching remote uploads...\n",
      "196 entries are qualified and added to the download list.\n",
      "Downloading required data...\n",
      "Fetching remote uploads...\n",
      "0 entries are qualified and added to the download list.\n",
      "Downloading required data...\n"
     ]
    },
    {
     "name": "stderr",
     "output_type": "stream",
     "text": [
      "2023-10-31 12:01:15,509 - CuPdAu-energies_log - INFO - Got data for 196 entries.\n"
     ]
    }
   ],
   "source": [
    "db.fill_database(nomad_query, processing = DEFAULT_PROCESSING)"
   ]
  },
  {
   "cell_type": "markdown",
   "id": "0deb2559",
   "metadata": {},
   "source": [
    "## Analyzing data"
   ]
  },
  {
   "cell_type": "code",
   "execution_count": null,
   "id": "5e852aa0",
   "metadata": {},
   "outputs": [],
   "source": [
    "import numpy as np\n",
    "import matplotlib.pyplot as plt"
   ]
  },
  {
   "cell_type": "markdown",
   "id": "81696510",
   "metadata": {},
   "source": [
    "For finding the most stable materials we need to first calculate the energy per atom, to be able to compare structures of different size."
   ]
  },
  {
   "cell_type": "code",
   "execution_count": null,
   "id": "378eec71",
   "metadata": {},
   "outputs": [],
   "source": [
    "for material in db:\n",
    "    energy = material.data[\"energy_total\"]\n",
    "    n_atoms = material.atoms.get_global_number_of_atoms()\n",
    "    db.update_entry(material.mid, energy_per_atom = energy / n_atoms)"
   ]
  },
  {
   "cell_type": "markdown",
   "id": "5b884d77",
   "metadata": {},
   "source": [
    "You can extract the values we just created via:"
   ]
  },
  {
   "cell_type": "code",
   "execution_count": null,
   "id": "d15a49a8",
   "metadata": {},
   "outputs": [],
   "source": [
    "energies_per_atom = db.get_properties(\"energy_per_atom\")"
   ]
  },
  {
   "cell_type": "markdown",
   "id": "3e699728",
   "metadata": {},
   "source": [
    "This operation is comparitively costly because it iterates over the full database and should not be overused. If you use a single property several time, it is better to store it in a list and not retrieve it every time from the database."
   ]
  },
  {
   "cell_type": "markdown",
   "id": "0c8db97b",
   "metadata": {},
   "source": [
    "We can plot a histogram of the thus obtained values."
   ]
  },
  {
   "cell_type": "code",
   "execution_count": null,
   "id": "2fe3b3e0",
   "metadata": {},
   "outputs": [],
   "source": [
    "plt.figure(figsize=(10,5))\n",
    "plt.hist(energies_per_atom, bins = np.linspace(min(energies_per_atom), max(energies_per_atom), num = 100))\n",
    "plt.ylabel(\"Number of entries\")\n",
    "plt.xlabel(\"Energy per atom\")\n",
    "plt.show()"
   ]
  },
  {
   "cell_type": "markdown",
   "id": "59b3ba86",
   "metadata": {},
   "source": [
    "Already now we can see that there are several peaks of the energy.\n",
    "\n",
    "We are now going to find the lowest energy structure for each spacegroup. For this, we make use of the `ASE` `spacegroup`-subpackage, which uses `spglib` to find the space group of an `Atoms` object."
   ]
  },
  {
   "cell_type": "code",
   "execution_count": null,
   "id": "27a9e1de",
   "metadata": {},
   "outputs": [],
   "source": [
    "from ase.spacegroup import get_spacegroup"
   ]
  },
  {
   "cell_type": "code",
   "execution_count": null,
   "id": "c57a5f08",
   "metadata": {},
   "outputs": [],
   "source": [
    "spacegroups = []\n",
    "mids = []\n",
    "\n",
    "for entry in db:\n",
    "    spacegroups.append(get_spacegroup(entry.atoms).no)\n",
    "    mids.append(entry.mid)"
   ]
  },
  {
   "cell_type": "code",
   "execution_count": null,
   "id": "d657de8b",
   "metadata": {},
   "outputs": [],
   "source": [
    "lowest_energies_per_spacegroup = dict()\n",
    "\n",
    "# for each unique spacegroup number\n",
    "for sg in set(spacegroups):\n",
    "    entries = filter(lambda x: x[0] == sg, zip(spacegroups, energies_per_atom, mids))\n",
    "    lowest_energies_per_spacegroup[sg] = min(entries, key = lambda x: x[1])[1:]"
   ]
  },
  {
   "cell_type": "markdown",
   "id": "9d6ff6cb",
   "metadata": {},
   "source": [
    "Let's visualize those:"
   ]
  },
  {
   "cell_type": "code",
   "execution_count": null,
   "id": "c5b46b49",
   "metadata": {},
   "outputs": [],
   "source": [
    "plt.scatter(lowest_energies_per_spacegroup.keys(), [x[0] for x in lowest_energies_per_spacegroup.values()])"
   ]
  },
  {
   "cell_type": "code",
   "execution_count": null,
   "id": "32d27668",
   "metadata": {},
   "outputs": [],
   "source": [
    "from simdatframe.plotting import plot_structure_by_mid"
   ]
  },
  {
   "cell_type": "code",
   "execution_count": null,
   "id": "631b6a8d",
   "metadata": {},
   "outputs": [],
   "source": [
    "for item in sorted(lowest_energies_per_spacegroup.items(), key = lambda x: x[1][0])[:5]:\n",
    "    print(f\"Spacegroup: {item[0]}, VASP Energy per atom: {item[1][0]}\")\n",
    "    print(f\"NOMAD Entry: https://nomad-lab.eu/entry/id/{item[1][1]}\")\n",
    "    plot_structure_by_mid(item[1][1], db, repeat=[1,1,1], show_unit_cell=2)"
   ]
  },
  {
   "cell_type": "markdown",
   "id": "a4726da2",
   "metadata": {},
   "source": [
    "The energy differences per atom for these most stable materials are $\\sim 1$ meV per atom."
   ]
  },
  {
   "cell_type": "markdown",
   "id": "73a8f058",
   "metadata": {},
   "source": [
    "## Interpret-log-files\n",
    "\n",
    "During the analysis above, many entries have been written to the log file. These can be used, e.g. to find errernous entries in the external databases, or debug the download process. You can find the path to the log files via:"
   ]
  },
  {
   "cell_type": "code",
   "execution_count": null,
   "id": "949a0f7d",
   "metadata": {},
   "outputs": [],
   "source": [
    "db.log_file_path"
   ]
  },
  {
   "cell_type": "markdown",
   "id": "8245706f",
   "metadata": {},
   "source": [
    "You can read the logs by printing them to screen:"
   ]
  },
  {
   "cell_type": "code",
   "execution_count": null,
   "id": "87659c68",
   "metadata": {},
   "outputs": [],
   "source": [
    "!tail -n 10 {db.log_file_path}"
   ]
  },
  {
   "cell_type": "markdown",
   "id": "9dd725f5",
   "metadata": {},
   "source": [
    "The entries contain the date, time, name of the log file, the severity and an explaination of the error."
   ]
  },
  {
   "cell_type": "markdown",
   "id": "950788ae",
   "metadata": {},
   "source": [
    "In the next tutorial we will explore material fingerprints and how to set up machine learning tools."
   ]
  }
 ],
 "metadata": {
  "kernelspec": {
   "display_name": "simdatframe-doc",
   "language": "python",
   "name": "simdatframe-doc"
  },
  "language_info": {
   "codemirror_mode": {
    "name": "ipython",
    "version": 3
   },
   "file_extension": ".py",
   "mimetype": "text/x-python",
   "name": "python",
   "nbconvert_exporter": "python",
   "pygments_lexer": "ipython3",
   "version": "3.10.4"
  },
  "vscode": {
   "interpreter": {
    "hash": "2830340e70c3c7acf476968f6bdd24a196b47acf07989c0ff685a6443eda1659"
   }
  }
 },
 "nbformat": 4,
 "nbformat_minor": 5
}
