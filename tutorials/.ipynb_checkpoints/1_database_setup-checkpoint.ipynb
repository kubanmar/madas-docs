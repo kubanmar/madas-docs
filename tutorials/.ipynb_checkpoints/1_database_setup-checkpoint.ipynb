{
 "cells": [
  {
   "cell_type": "markdown",
   "id": "04bb85ac",
   "metadata": {},
   "source": [
    "# Tutorial 1: Database setup"
   ]
  },
  {
   "cell_type": "markdown",
   "id": "c658e585",
   "metadata": {},
   "source": [
    "In this tutorial you are going to learn how to:\n",
    "\n",
    "<div class=\"alert alert-block alert-warning\">\n",
    "    \n",
    "**[Initialize a local database for materials data](#Initialization)**\n",
    "   \n",
    "**[Select an API for a remote data source](#Select-an-API)**\n",
    "   \n",
    "**[Select a backend for data storage](#Select-a-Backend)**\n",
    "   \n",
    "**[Download data from the NOMAD Archive](#Download-data)**\n",
    "   \n",
    "**[Interpret log files](#Interpret-log-files)**\n",
    "\n",
    "**[Analyzing data](#Analyzing-data)**\n",
    "\n",
    "</div>\n",
    "\n",
    "Let's get started!"
   ]
  },
  {
   "cell_type": "markdown",
   "id": "0c28f0e2",
   "metadata": {},
   "source": [
    "First, we need to import:"
   ]
  },
  {
   "cell_type": "code",
   "execution_count": 1,
   "id": "d7e692fa",
   "metadata": {},
   "outputs": [],
   "source": [
    "from simdatframe import MaterialsDatabase"
   ]
  },
  {
   "cell_type": "markdown",
   "id": "36132e2a",
   "metadata": {},
   "source": [
    "## Initialization\n",
    "\n",
    "You can create a new database using:"
   ]
  },
  {
   "cell_type": "markdown",
   "id": "e93bc446",
   "metadata": {},
   "source": [
    "```python\n",
    "database = MaterialsDatabase(\n",
    "    filename='tutorial1.db', # name of the database file\n",
    "    filepath='data', # relative path where the database and logs are stored\n",
    "    rootpath='.', # root path to which the filepath will be evaluated\n",
    "    key_name='mid', # name of the unique keys used in the database\n",
    "    api=None, # APIClass object that connects to an external database\n",
    "              # default (None) connects to the NOMAD Archive\n",
    "    backend='ase', # file backend to store data\n",
    "    silent_logging=False, # Set `True` to not write log messages to screen\n",
    ")\n",
    "```"
   ]
  },
  {
   "cell_type": "markdown",
   "id": "d8188cd5",
   "metadata": {},
   "source": [
    "You can omit all keyword arguments. The default name for the database file is `materials_database.db`. \n",
    "\n",
    "Let's look at them one by one:\n",
    "\n",
    "**filename**\n",
    "\n",
    "This is the name of the database file. It is passed to the `backend`, which creates the file, or, if it exists, loads the data from there.\n",
    "\n",
    "**filepath**\n",
    "\n",
    "The path where the database file should be created. If this path does not exist, the `backend` will create it. This path is relative to the _rootpath_.\n",
    "\n",
    "**rootpath**\n",
    "\n",
    "The path to an existing directory, which acts as the root for the creation of the file structure.\n",
    "\n",
    "**key_name**\n",
    "\n",
    "This is the name of the unique database key. Each entry in the database must have this key, it is used consitently throughout the whole package. This allows to connect the materials, their descriptors and similarity  relations. The key itself is created by the `API`. If you read from an existing database file, make sure that the correct `key_name` is used.\n",
    "\n",
    "**api**\n",
    "\n",
    "This argument is used to define from which external source the data is downloaded. The default is the NOMAD Archive, which used the [NOMAD Python client](https://nomad-lab.eu/prod/v1/docs/index.html). You can create your own `API`, to download data from any source. For details please refer to the documentation. This object can be passed as a keyword argument. More details are in [the next section](#Select-an-API).\n",
    "\n",
    "**backend**\n",
    "\n",
    "The `backend` is used to handle the file storage for the database files. By default the [ASE Database](https://wiki.fysik.dtu.dk/ase/ase/db/db.html) is used. It stores the atomic structures and properties in a lightweight SQL database. It is possible to create your own backends. For more details please refer to the documentation, and read the [section below](#Select-a-Backend).\n",
    "\n",
    "**silent_logging**\n",
    "\n",
    "When downloading large quanties of data from external sources, it can happen that web requests fail or the data format is different than expected. For that reason, the `MaterialsDatabase` does continue operation even if certian data that should be downloaded is not available or can not be processed. However, for keep track of the provenance, most error messages (also those from the API) are written to a log file. We will see how to access these logs [later](#Interpret-log-files). At the same time, they are written to the screen. If you want to suppress the writing to screen, set `silent_logging = True`. "
   ]
  },
  {
   "cell_type": "markdown",
   "id": "a1ff61c0",
   "metadata": {},
   "source": [
    "## Select an API\n",
    "\n",
    "To download data from different sources, it is possible to use a custom defined API object. In this tutorial, we are going to use the default API, but we set it explicitly. First, we import the API code:"
   ]
  },
  {
   "cell_type": "code",
   "execution_count": 2,
   "id": "58fbe506",
   "metadata": {},
   "outputs": [],
   "source": [
    "from simdatframe.apis.NOMAD_client_API import API"
   ]
  },
  {
   "cell_type": "markdown",
   "id": "64aac477",
   "metadata": {},
   "source": [
    "Next, we create the API object:"
   ]
  },
  {
   "cell_type": "code",
   "execution_count": 3,
   "id": "c6652f28",
   "metadata": {},
   "outputs": [],
   "source": [
    "api = API(logger = None)"
   ]
  },
  {
   "cell_type": "markdown",
   "id": "8d9b5f3f",
   "metadata": {},
   "source": [
    "Because we use the NOMAD client, which asynchroneously downloads data, from a Jupyter notebook we have to do a little setup:"
   ]
  },
  {
   "cell_type": "code",
   "execution_count": 4,
   "id": "8d025cbc",
   "metadata": {},
   "outputs": [],
   "source": [
    "import nest_asyncio \n",
    "nest_asyncio.apply()"
   ]
  },
  {
   "cell_type": "markdown",
   "id": "15b4c69b",
   "metadata": {},
   "source": [
    "This specific API does not require any setup, but you can use this e.g. to set the _url_ of a website. The logger is set to `None`, however, when we pass it to the `MaterialsDatabase`, the logger will be set, such that all error messages are sent to the log file. We can already use the `API` object to download data:"
   ]
  },
  {
   "cell_type": "code",
   "execution_count": 5,
   "id": "68a4b811",
   "metadata": {},
   "outputs": [
    {
     "name": "stdout",
     "output_type": "stream",
     "text": [
      "Fetching remote uploads...\n",
      "1 entries are qualified and added to the download list.\n",
      "Downloading required data...\n"
     ]
    }
   ],
   "source": [
    "material = api.get_calculation(\"AW45kWwD6Qq3wgdy6CpMgjX3wjOh\")"
   ]
  },
  {
   "cell_type": "code",
   "execution_count": 6,
   "id": "d9c09ee5",
   "metadata": {},
   "outputs": [
    {
     "name": "stdout",
     "output_type": "stream",
     "text": [
      "Material(mid = AW45kWwD6Qq3wgdy6CpMgjX3wjOh, data = {'mid', 'energy_total', 'atoms'}, properties = set())\n"
     ]
    }
   ],
   "source": [
    "print(material)"
   ]
  },
  {
   "cell_type": "markdown",
   "id": "b1939810",
   "metadata": {},
   "source": [
    "As you can see from the output, we downloaded the [a material from NOMAD](https://nomad-lab.eu/entry/id/AW45kWwD6Qq3wgdy6CpMgjX3wjOh). The properties include the total energy and the atomic positions, which are available via:"
   ]
  },
  {
   "cell_type": "code",
   "execution_count": 7,
   "id": "5176b792",
   "metadata": {},
   "outputs": [
    {
     "name": "stdout",
     "output_type": "stream",
     "text": [
      "-956939.7336141159\n"
     ]
    }
   ],
   "source": [
    "print(material.data[\"energy_total\"])"
   ]
  },
  {
   "cell_type": "code",
   "execution_count": 8,
   "id": "df1cb79a",
   "metadata": {},
   "outputs": [
    {
     "name": "stdout",
     "output_type": "stream",
     "text": [
      "Atoms(symbols='PbI2', pbc=True, cell=[[4.557999762860691, 0.0, 0.0], [-2.2789998764296207, 3.947343586727941, 0.0], [0.0, 0.0, 6.985999558607339]])\n"
     ]
    }
   ],
   "source": [
    "print(material.atoms)"
   ]
  },
  {
   "cell_type": "markdown",
   "id": "8011fab5",
   "metadata": {},
   "source": [
    "as properties of a `Material` object. You can read more about those in the documentation."
   ]
  },
  {
   "cell_type": "markdown",
   "id": "773ff8f4",
   "metadata": {},
   "source": [
    "In the next step, we create a backend to store our data."
   ]
  },
  {
   "cell_type": "markdown",
   "id": "e7a81ee6",
   "metadata": {},
   "source": [
    "## Select a Backend"
   ]
  },
  {
   "cell_type": "code",
   "execution_count": null,
   "id": "a8affc2b",
   "metadata": {},
   "outputs": [],
   "source": []
  },
  {
   "cell_type": "markdown",
   "id": "b84c2cd6",
   "metadata": {},
   "source": [
    "## Download data"
   ]
  },
  {
   "cell_type": "markdown",
   "id": "73a8f058",
   "metadata": {},
   "source": [
    "## Interpret-log-files"
   ]
  },
  {
   "cell_type": "markdown",
   "id": "0deb2559",
   "metadata": {},
   "source": [
    "## Analyzing data"
   ]
  },
  {
   "cell_type": "code",
   "execution_count": null,
   "id": "fbf9bf22",
   "metadata": {},
   "outputs": [],
   "source": []
  }
 ],
 "metadata": {
  "kernelspec": {
   "display_name": "simdatframe-release",
   "language": "python",
   "name": "simdatframe-release"
  },
  "language_info": {
   "codemirror_mode": {
    "name": "ipython",
    "version": 3
   },
   "file_extension": ".py",
   "mimetype": "text/x-python",
   "name": "python",
   "nbconvert_exporter": "python",
   "pygments_lexer": "ipython3",
   "version": "3.10.4"
  }
 },
 "nbformat": 4,
 "nbformat_minor": 5
}
