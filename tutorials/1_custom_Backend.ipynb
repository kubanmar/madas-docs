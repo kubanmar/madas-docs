{
 "cells": [
  {
   "cell_type": "markdown",
   "id": "d58e3636-0d5d-41fd-b747-05d32090959a",
   "metadata": {},
   "source": [
    "# Writing a custom Backend"
   ]
  },
  {
   "cell_type": "markdown",
   "id": "3a5f6b17-8706-420c-9881-2455fde6eb1b",
   "metadata": {},
   "source": [
    "Adding data to a database requires that this data is stored in some kind of file. `MADAS` uses an abstract class, the `Backend`, to describe interactions with the database file. This - on the one hand - allows users to use `MADAS` without knowing about database files. On the other hand, it allows users to create their own `Backend`s based on their requirements. Such requirements could be, e.g., that an already existing database should be used, or a certain level of performance is needed."
   ]
  },
  {
   "cell_type": "markdown",
   "id": "b8739d62-86bc-4e11-8e71-b1b7e10265a6",
   "metadata": {},
   "source": [
    "In this tutorial you are going to learn how to:\n",
    "\n",
    "<div class=\"alert alert-block alert-warning\">\n",
    "    \n",
    "**[Find the required methods](#Find-the-required-methods)**\n",
    "\n",
    "**[A text-file based database](#A-text-file-based-database)**\n",
    "\n",
    "**[Writing a class](#Writing-a-class)**\n",
    "\n",
    "**[Testing](#Testing)**\n",
    "   \n",
    "</div>\n",
    "\n",
    "Let's get started!"
   ]
  },
  {
   "cell_type": "code",
   "execution_count": 1,
   "id": "14893eb8",
   "metadata": {},
   "outputs": [],
   "source": [
    "#imports\n",
    "from madas import Material\n",
    "from madas.backend import Backend"
   ]
  },
  {
   "cell_type": "markdown",
   "id": "a8b596c9-09bc-439c-a70f-ded7d7b50bd7",
   "metadata": {},
   "source": [
    "## Find the required methods"
   ]
  },
  {
   "cell_type": "markdown",
   "id": "37542278-2174-46bd-84d9-b74104a0f61b",
   "metadata": {},
   "source": [
    "We can inspect wich methods are defined for the `Backend` base class. The documentation provides most of the required information to start implementing our own `Backend`."
   ]
  },
  {
   "cell_type": "code",
   "execution_count": 2,
   "id": "68354a1c",
   "metadata": {},
   "outputs": [
    {
     "name": "stdout",
     "output_type": "stream",
     "text": [
      "Help on class Backend in module madas.backend.backend_core:\n",
      "\n",
      "class Backend(builtins.object)\n",
      " |  Backend(filename='materials_database.db', filepath='data', make_dirs=True, key_name='mid', log=None)\n",
      " |  \n",
      " |  A database backend wrapper to unify file-based storage of materials data. \n",
      " |  \n",
      " |  **Keyword arguments:**\n",
      " |  \n",
      " |  filename: `str`\n",
      " |      Name of the data file\n",
      " |  \n",
      " |      default: `\"materials_database.db\"`\n",
      " |  \n",
      " |  filepath: `str`\n",
      " |      Path (location) of the file.\n",
      " |  \n",
      " |      default: `\"data\"`\n",
      " |  \n",
      " |  make_dirs: `bool`\n",
      " |      Create directory paths if it does not exist.\n",
      " |  \n",
      " |      default: `True`\n",
      " |  \n",
      " |  key_name: `str`\n",
      " |      Name of unique keys that are used to find (individual) entries in the database.\n",
      " |  \n",
      " |      default: `\"mid\"`\n",
      " |  \n",
      " |  log: `logging.Logger` or `None`\n",
      " |      Logger used displaying logs. \n",
      " |  \n",
      " |      default: `None`\n",
      " |  \n",
      " |  Methods defined here:\n",
      " |  \n",
      " |  __init__(self, filename='materials_database.db', filepath='data', make_dirs=True, key_name='mid', log=None)\n",
      " |      Initialize self.  See help(type(self)) for accurate signature.\n",
      " |  \n",
      " |  add_many(self, *args, **kwargs) -> None\n",
      " |      Add data to the database.\n",
      " |  \n",
      " |  add_single(self, *args, **kwargs) -> None\n",
      " |      Add data to the database.\n",
      " |  \n",
      " |  get_by_id(self, db_id) -> madas.material.Material\n",
      " |      Return a single entry from an (integer valued) database id.\n",
      " |  \n",
      " |  get_length(self) -> int\n",
      " |      Return the length of the database, i.e. the total number of entries.\n",
      " |  \n",
      " |  get_many(self, mids=None, **kwargs) -> List[madas.material.Material]\n",
      " |      Get a single entry from the database.\n",
      " |  \n",
      " |  get_single(self, mid=None, **kwargs) -> madas.material.Material\n",
      " |      Get a single entry from the database.\n",
      " |  \n",
      " |  has_entry(self, entry_id) -> bool\n",
      " |      Check if an entry with the given id is present in the database.\n",
      " |  \n",
      " |  set_logger(self, logger: logging.Logger) -> None\n",
      " |      Set logger.\n",
      " |  \n",
      " |  update_many(self, *args, **kwargs) -> None\n",
      " |      Update several entries in the database.\n",
      " |  \n",
      " |  update_metadata(self, *args, **kwargs) -> None\n",
      " |      Updata database metadata.\n",
      " |  \n",
      " |  update_single(self, *args, **kwargs) -> None\n",
      " |      Update a single entry in the database.\n",
      " |  \n",
      " |  ----------------------------------------------------------------------\n",
      " |  Readonly properties defined here:\n",
      " |  \n",
      " |  abs_path\n",
      " |      Absolute path property, contains the absolute path of the backend file.\n",
      " |  \n",
      " |  log\n",
      " |      Logger property, returns the log.\n",
      " |  \n",
      " |  metadata\n",
      " |      Metadata property, returns metadata attached to the backend.\n",
      " |  \n",
      " |  ----------------------------------------------------------------------\n",
      " |  Data descriptors defined here:\n",
      " |  \n",
      " |  __dict__\n",
      " |      dictionary for instance variables (if defined)\n",
      " |  \n",
      " |  __weakref__\n",
      " |      list of weak references to the object (if defined)\n",
      "\n"
     ]
    }
   ],
   "source": [
    "help(Backend)"
   ]
  },
  {
   "cell_type": "markdown",
   "id": "afb35dc3-6bbf-4184-8046-b22cc7569288",
   "metadata": {},
   "source": [
    "## A text-file based database"
   ]
  },
  {
   "cell_type": "markdown",
   "id": "0ed1ac4c-953d-4416-90e6-397f9eb30b69",
   "metadata": {},
   "source": [
    "For this tutorial, we will write a simple 'database', that stores one material in each line of a text file.  \n",
    "**Note** that this implementation is **neither efficient, nor safe from data loss** and is meant **only for demonstration purposes**.\n",
    "\n",
    "We will write the individual methods that are required for our `Backend` consecutively and then combine them in a new class. Eventually, we test the implementation with real data."
   ]
  },
  {
   "cell_type": "markdown",
   "id": "b275723c-c72e-422b-9aa2-f1bca60cabb6",
   "metadata": {},
   "source": [
    "### Preparations"
   ]
  },
  {
   "cell_type": "markdown",
   "id": "3a7b43a3-307b-4232-b958-869e63eb1d15",
   "metadata": {},
   "source": [
    "Our file will contain a serialized `Material` class on each line, which can be accessed using the database index."
   ]
  },
  {
   "cell_type": "markdown",
   "id": "297aeb86-60b8-422a-b917-2b5d9adc2c7d",
   "metadata": {},
   "source": [
    "We will use a single text file called `tutorial_backend_development_file.txt` for demostration purposes. For simplicity, we will omit storing the database metadata."
   ]
  },
  {
   "cell_type": "code",
   "execution_count": 3,
   "id": "3e591800-5e0c-46de-b119-b7897fa77c61",
   "metadata": {},
   "outputs": [],
   "source": [
    "# Define a filename\n",
    "TUTORIAL_FILE_NAME='tutorial_backend_development_file.txt'"
   ]
  },
  {
   "cell_type": "markdown",
   "id": "86c5cff3-1e09-467d-9f0a-dfdaf44a8e09",
   "metadata": {},
   "source": [
    "We also need some test data to develop our methods. We will generate some synthetic `Material` objects for this purpose."
   ]
  },
  {
   "cell_type": "code",
   "execution_count": 4,
   "id": "e393f24a-21bc-439a-b5b7-e5a1ae08bd85",
   "metadata": {},
   "outputs": [],
   "source": [
    "from ase.build import bulk\n",
    "from madas import Material\n",
    "\n",
    "tutorial_test_material1 = Material(\"test_material1\", atoms=bulk(\"Ag\"), data={\"test\":\"data1\"})\n",
    "tutorial_test_material2 = Material(\"test_material2\", atoms=bulk(\"Au\"), data={\"test\":\"data2\\nor something\"})\n",
    "tutorial_test_material3 = Material(\"test_material3\", atoms=bulk(\"Cu\"), data={\"test\":\"data3\"})"
   ]
  },
  {
   "cell_type": "markdown",
   "id": "4737f0fd-c46a-4e9b-93ec-46bc78ce9653",
   "metadata": {},
   "source": [
    "### Adding data"
   ]
  },
  {
   "cell_type": "markdown",
   "id": "aa3eb6d3-ea40-40d0-8c64-b704eb66af92",
   "metadata": {},
   "source": [
    "Adding data to a text file can be achieved by using the [built-in Python methods](https://docs.python.org/3.10/tutorial/inputoutput.html#reading-and-writing-files). Below, comments are added to explain each line of the code. "
   ]
  },
  {
   "cell_type": "markdown",
   "id": "f48c3f4f-f99f-4d42-90a3-1d9c8966852e",
   "metadata": {},
   "source": [
    "#### add_single"
   ]
  },
  {
   "cell_type": "code",
   "execution_count": 5,
   "id": "40207d39-7093-409b-b207-431f6dbffe8c",
   "metadata": {},
   "outputs": [],
   "source": [
    "import json\n",
    "\n",
    "# open the file\n",
    "with open(TUTORIAL_FILE_NAME, \"a\") as f_:\n",
    "    # convert the material to a dictionary and dump the latter as json data\n",
    "    # this data is then written to file\n",
    "    f_.write(json.dumps(tutorial_test_material1.to_dict()))\n",
    "    # add newline, such that each material is in its own line\n",
    "    f_.write(\"\\n\")"
   ]
  },
  {
   "cell_type": "code",
   "execution_count": 6,
   "id": "d4ad478a-93ff-48c2-a38f-14eb1017b2dd",
   "metadata": {},
   "outputs": [
    {
     "name": "stdout",
     "output_type": "stream",
     "text": [
      "{\"mid\": \"test_material1\", \"atoms\": {\"numbers\": [47], \"positions\": [[0.0, 0.0, 0.0]], \"cell\": [[0.0, 2.045, 2.045], [2.045, 0.0, 2.045], [2.045, 2.045, 0.0]], \"pbc\": [true, true, true]}, \"properties\": {}, \"data\": {\"test\": \"data1\"}}\n"
     ]
    }
   ],
   "source": [
    "# We can show the contents of our database file using the Bash functionality of Jupyter\n",
    "!cat tutorial_backend_development_file.txt"
   ]
  },
  {
   "cell_type": "markdown",
   "id": "6380a30f-a85d-41ad-a0c8-991963931c2b",
   "metadata": {},
   "source": [
    "#### add_many"
   ]
  },
  {
   "cell_type": "markdown",
   "id": "ac289c6f-bee6-461d-81e8-1bb2562d54ae",
   "metadata": {},
   "source": [
    "To add several materials, we can just repeat the step above:"
   ]
  },
  {
   "cell_type": "code",
   "execution_count": 7,
   "id": "333127d0-b78f-4f02-894e-aa82e7620634",
   "metadata": {},
   "outputs": [],
   "source": [
    "with open(TUTORIAL_FILE_NAME, \"a\") as f_:\n",
    "    for material in [tutorial_test_material2, tutorial_test_material3]:\n",
    "        f_.write(json.dumps(material.to_dict()))\n",
    "        f_.write(\"\\n\") # add newline, such that each material is in its own line"
   ]
  },
  {
   "cell_type": "code",
   "execution_count": 8,
   "id": "5d6bbd98-df3b-4c64-81ba-f8b53ac53e47",
   "metadata": {},
   "outputs": [
    {
     "name": "stdout",
     "output_type": "stream",
     "text": [
      "{\"mid\": \"test_material1\", \"atoms\": {\"numbers\": [47], \"positions\": [[0.0, 0.0, 0.0]], \"cell\": [[0.0, 2.045, 2.045], [2.045, 0.0, 2.045], [2.045, 2.045, 0.0]], \"pbc\": [true, true, true]}, \"properties\": {}, \"data\": {\"test\": \"data1\"}}\n",
      "{\"mid\": \"test_material2\", \"atoms\": {\"numbers\": [79], \"positions\": [[0.0, 0.0, 0.0]], \"cell\": [[0.0, 2.04, 2.04], [2.04, 0.0, 2.04], [2.04, 2.04, 0.0]], \"pbc\": [true, true, true]}, \"properties\": {}, \"data\": {\"test\": \"data2\\nor something\"}}\n",
      "{\"mid\": \"test_material3\", \"atoms\": {\"numbers\": [29], \"positions\": [[0.0, 0.0, 0.0]], \"cell\": [[0.0, 1.805, 1.805], [1.805, 0.0, 1.805], [1.805, 1.805, 0.0]], \"pbc\": [true, true, true]}, \"properties\": {}, \"data\": {\"test\": \"data3\"}}\n"
     ]
    }
   ],
   "source": [
    "!cat tutorial_backend_development_file.txt"
   ]
  },
  {
   "cell_type": "markdown",
   "id": "8bd338f9-51c8-46ee-b402-9ce2e9caa1a9",
   "metadata": {},
   "source": [
    "### Getting data"
   ]
  },
  {
   "cell_type": "markdown",
   "id": "210a2a80-19f4-4bdf-8078-01268bf07d1c",
   "metadata": {},
   "source": [
    "Getting data is based on the `mid` of a `Material`. We can find the corresponding line using a linear search."
   ]
  },
  {
   "cell_type": "markdown",
   "id": "9d1dec15-4e1b-4967-888a-a675f6b4ae21",
   "metadata": {},
   "source": [
    "#### get_single"
   ]
  },
  {
   "cell_type": "code",
   "execution_count": 9,
   "id": "dd180ab4-1314-48f4-9e09-a54f4906f20b",
   "metadata": {},
   "outputs": [],
   "source": [
    "TEST_MID = \"test_material1\"\n",
    "\n",
    "with open(TUTORIAL_FILE_NAME, \"r\") as f_:\n",
    "    for new_line in f_:\n",
    "        # deserialize every material to check its mid\n",
    "        material = Material.from_dict(json.loads(new_line))\n",
    "        if material.mid == TEST_MID:\n",
    "            break"
   ]
  },
  {
   "cell_type": "code",
   "execution_count": 10,
   "id": "0b66b47e-401f-4431-97f6-d77afc9f00cd",
   "metadata": {},
   "outputs": [
    {
     "data": {
      "text/plain": [
       "Material(mid = test_material1, data = {'test'}, properties = set())"
      ]
     },
     "execution_count": 10,
     "metadata": {},
     "output_type": "execute_result"
    }
   ],
   "source": [
    "material"
   ]
  },
  {
   "cell_type": "markdown",
   "id": "cac4c2ca-5d42-479e-9128-ecdfb704fdb4",
   "metadata": {},
   "source": [
    "#### get_many"
   ]
  },
  {
   "cell_type": "markdown",
   "id": "590c1235-d3a6-4286-afd7-f0f726473af0",
   "metadata": {},
   "source": [
    "For a set of different mids, this can be optimized in order to reduce searches:"
   ]
  },
  {
   "cell_type": "code",
   "execution_count": 11,
   "id": "c502665d-d79a-4253-8fdb-73fabaf59ae2",
   "metadata": {},
   "outputs": [],
   "source": [
    "TEST_MIDS = [\"test_material3\", \"test_material1\"]\n",
    "\n",
    "# here we use a set to simplify checking if a material has been found\n",
    "mids_to_search = set(TEST_MIDS)\n",
    "found_materials = []\n",
    "with open(TUTORIAL_FILE_NAME, \"r\") as f_:\n",
    "    for new_line in f_:\n",
    "        # stop search if all materials have been found\n",
    "        if len(mids_to_search) == 0:\n",
    "            break\n",
    "        material = Material.from_dict(json.loads(new_line))\n",
    "        # if the current material is one of the searched ones\n",
    "        if material.mid in mids_to_search:\n",
    "            # append then to the results\n",
    "            found_materials.append(material)\n",
    "            # discard the entry from the list of materials\n",
    "            mids_to_search.discard(material.mid)\n",
    "    # sort to recover input sorting\n",
    "    found_materials = sorted(found_materials, key=lambda x: TEST_MIDS.index(x.mid))"
   ]
  },
  {
   "cell_type": "code",
   "execution_count": 12,
   "id": "f73106d9-3e5d-47a8-be9e-9d749dcc7794",
   "metadata": {},
   "outputs": [
    {
     "data": {
      "text/plain": [
       "[Material(mid = test_material3, data = {'test'}, properties = set()),\n",
       " Material(mid = test_material1, data = {'test'}, properties = set())]"
      ]
     },
     "execution_count": 12,
     "metadata": {},
     "output_type": "execute_result"
    }
   ],
   "source": [
    "found_materials"
   ]
  },
  {
   "cell_type": "markdown",
   "id": "e360450c-6285-4a97-9654-5e7e8902ac3b",
   "metadata": {},
   "source": [
    "#### get_by_id"
   ]
  },
  {
   "cell_type": "markdown",
   "id": "a54b67ee-7d8c-4f6e-917d-c50cb75dace4",
   "metadata": {},
   "source": [
    "To get an entry by database id, we just iterate through the lines of the file."
   ]
  },
  {
   "cell_type": "code",
   "execution_count": 13,
   "id": "2806bebc-58c6-40b8-98bd-447e20f808d4",
   "metadata": {},
   "outputs": [],
   "source": [
    "TEST_ID = 1\n",
    "\n",
    "with open(TUTORIAL_FILE_NAME, \"r\") as f_:\n",
    "    for idx, new_line in enumerate(f_):\n",
    "        if idx==TEST_ID:\n",
    "            material = Material.from_dict(json.loads(new_line))"
   ]
  },
  {
   "cell_type": "code",
   "execution_count": 14,
   "id": "80817946-8b4b-4faa-b199-fa645afdf7c6",
   "metadata": {},
   "outputs": [
    {
     "data": {
      "text/plain": [
       "Material(mid = test_material2, data = {'test'}, properties = set())"
      ]
     },
     "execution_count": 14,
     "metadata": {},
     "output_type": "execute_result"
    }
   ],
   "source": [
    "material"
   ]
  },
  {
   "cell_type": "markdown",
   "id": "74d77f09-2b68-4f1b-b72f-7c7b8b8ae4e6",
   "metadata": {},
   "source": [
    "#### get_length"
   ]
  },
  {
   "cell_type": "markdown",
   "id": "831e339e-d07e-4cde-a59d-45d2c86716a3",
   "metadata": {},
   "source": [
    "To get the number of entries in our database, we can count the number of lines:"
   ]
  },
  {
   "cell_type": "code",
   "execution_count": 15,
   "id": "f85eae55-0c21-4c70-b02d-5ff2fed2035f",
   "metadata": {},
   "outputs": [],
   "source": [
    "with open(TUTORIAL_FILE_NAME, \"r\") as f_:\n",
    "    length = sum(1 for _ in f_)"
   ]
  },
  {
   "cell_type": "code",
   "execution_count": 16,
   "id": "2b87ba73-04f9-4f26-9e2d-f1f7c8a4a7ed",
   "metadata": {},
   "outputs": [
    {
     "data": {
      "text/plain": [
       "3"
      ]
     },
     "execution_count": 16,
     "metadata": {},
     "output_type": "execute_result"
    }
   ],
   "source": [
    "length"
   ]
  },
  {
   "cell_type": "markdown",
   "id": "35675de7-48a0-4a95-bbc0-d0b04f2dfd53",
   "metadata": {},
   "source": [
    "#### has_entry"
   ]
  },
  {
   "cell_type": "markdown",
   "id": "74653102-012c-41b4-bd2b-9c379c50e206",
   "metadata": {},
   "source": [
    "Because we are using a text file for storing, to check if an entry is present we have to iterate through all entries of the file."
   ]
  },
  {
   "cell_type": "code",
   "execution_count": 17,
   "id": "e64e578b-4828-4750-8062-e93d0a577da6",
   "metadata": {},
   "outputs": [
    {
     "name": "stdout",
     "output_type": "stream",
     "text": [
      "True\n"
     ]
    }
   ],
   "source": [
    "mid=TEST_MID\n",
    "\n",
    "is_in_db=False\n",
    "with open(TUTORIAL_FILE_NAME, \"r\") as f_:\n",
    "    for new_line in f_:\n",
    "        if json.loads(new_line)[\"mid\"]==mid:\n",
    "            is_in_db=True\n",
    "            break\n",
    "print(is_in_db)"
   ]
  },
  {
   "cell_type": "markdown",
   "id": "d0773c84-1202-4e78-af60-ba2e3b1eef43",
   "metadata": {},
   "source": [
    "### Updating entries"
   ]
  },
  {
   "cell_type": "markdown",
   "id": "2653b3bf-6dd8-4607-8a64-13d11a664b4e",
   "metadata": {},
   "source": [
    "Updating entries is more complicated, because we have to overwrite our original file. Here, we store the file content in memory instead."
   ]
  },
  {
   "cell_type": "markdown",
   "id": "e5fb8b6a-109a-455b-94ed-c82766e343da",
   "metadata": {},
   "source": [
    "#### update_single"
   ]
  },
  {
   "cell_type": "code",
   "execution_count": 18,
   "id": "e24f21d3-988e-480f-b4f9-97e4aee850d5",
   "metadata": {},
   "outputs": [],
   "source": [
    "mid=TEST_MID\n",
    "updated_data = {\"test\":\"up\"}\n",
    "\n",
    "# read the full file as a list of strings\n",
    "with open(TUTORIAL_FILE_NAME, \"r\") as f_:\n",
    "    contents = f_.readlines()    \n",
    "\n",
    "# change the respective entry\n",
    "for idx in range(len(contents)):\n",
    "    material = Material.from_dict(json.loads(contents[idx]))\n",
    "    if material.mid == mid:\n",
    "        material.properties.update(**updated_data)\n",
    "        contents[idx] = json.dumps(material.to_dict())+\"\\n\"\n",
    "        break\n",
    "\n",
    "# overwrite the original file\n",
    "with open(TUTORIAL_FILE_NAME, \"w\") as f_:\n",
    "    f_.writelines(contents)"
   ]
  },
  {
   "cell_type": "code",
   "execution_count": 19,
   "id": "946dcb71-dd86-4f40-8e4d-dfa88c79b8d2",
   "metadata": {},
   "outputs": [
    {
     "name": "stdout",
     "output_type": "stream",
     "text": [
      "{\"mid\": \"test_material1\", \"atoms\": {\"numbers\": [47], \"positions\": [[0.0, 0.0, 0.0]], \"cell\": [[0.0, 2.045, 2.045], [2.045, 0.0, 2.045], [2.045, 2.045, 0.0]], \"pbc\": [true, true, true]}, \"properties\": {\"test\": \"up\"}, \"data\": {\"test\": \"data1\"}}\n",
      "{\"mid\": \"test_material2\", \"atoms\": {\"numbers\": [79], \"positions\": [[0.0, 0.0, 0.0]], \"cell\": [[0.0, 2.04, 2.04], [2.04, 0.0, 2.04], [2.04, 2.04, 0.0]], \"pbc\": [true, true, true]}, \"properties\": {}, \"data\": {\"test\": \"data2\\nor something\"}}\n",
      "{\"mid\": \"test_material3\", \"atoms\": {\"numbers\": [29], \"positions\": [[0.0, 0.0, 0.0]], \"cell\": [[0.0, 1.805, 1.805], [1.805, 0.0, 1.805], [1.805, 1.805, 0.0]], \"pbc\": [true, true, true]}, \"properties\": {}, \"data\": {\"test\": \"data3\"}}\n"
     ]
    }
   ],
   "source": [
    "!cat $TUTORIAL_FILE_NAME"
   ]
  },
  {
   "cell_type": "markdown",
   "id": "d7af5710-0deb-407d-a790-e9a0894b4ef9",
   "metadata": {},
   "source": [
    "#### update_many"
   ]
  },
  {
   "cell_type": "markdown",
   "id": "aadae558-d504-489c-adb8-a7bfef4aac1a",
   "metadata": {},
   "source": [
    "To update many entries at once, we can use the same trick."
   ]
  },
  {
   "cell_type": "code",
   "execution_count": 20,
   "id": "e6fbec80-0a98-4502-8792-57ec6f8b2e16",
   "metadata": {},
   "outputs": [],
   "source": [
    "mids_to_search=[\"test_material1\", \"test_material3\"]\n",
    "updated_data = [{\"test\":\"update1\"}, {\"test\":\"update3\"}]\n",
    "\n",
    "with open(TUTORIAL_FILE_NAME, \"r\") as f_:\n",
    "    contents = f_.readlines()    \n",
    "for idx in range(len(contents)):\n",
    "    material = Material.from_dict(json.loads(contents[idx]))\n",
    "    if material.mid in mids_to_search:\n",
    "        for mid_, data_ in zip(mids_to_search, updated_data):\n",
    "            if mid_ == material.mid:\n",
    "                material.properties.update(**data_)\n",
    "                contents[idx] = json.dumps(material.to_dict())+\"\\n\"\n",
    "with open(TUTORIAL_FILE_NAME, \"w\") as f_:\n",
    "    f_.writelines(contents)"
   ]
  },
  {
   "cell_type": "code",
   "execution_count": 21,
   "id": "c1809350-ff7b-4ccf-b0de-01b17582493b",
   "metadata": {},
   "outputs": [
    {
     "name": "stdout",
     "output_type": "stream",
     "text": [
      "{\"mid\": \"test_material1\", \"atoms\": {\"numbers\": [47], \"positions\": [[0.0, 0.0, 0.0]], \"cell\": [[0.0, 2.045, 2.045], [2.045, 0.0, 2.045], [2.045, 2.045, 0.0]], \"pbc\": [true, true, true]}, \"properties\": {\"test\": \"update1\"}, \"data\": {\"test\": \"data1\"}}\n",
      "{\"mid\": \"test_material2\", \"atoms\": {\"numbers\": [79], \"positions\": [[0.0, 0.0, 0.0]], \"cell\": [[0.0, 2.04, 2.04], [2.04, 0.0, 2.04], [2.04, 2.04, 0.0]], \"pbc\": [true, true, true]}, \"properties\": {}, \"data\": {\"test\": \"data2\\nor something\"}}\n",
      "{\"mid\": \"test_material3\", \"atoms\": {\"numbers\": [29], \"positions\": [[0.0, 0.0, 0.0]], \"cell\": [[0.0, 1.805, 1.805], [1.805, 0.0, 1.805], [1.805, 1.805, 0.0]], \"pbc\": [true, true, true]}, \"properties\": {\"test\": \"update3\"}, \"data\": {\"test\": \"data3\"}}\n"
     ]
    }
   ],
   "source": [
    "!cat $TUTORIAL_FILE_NAME"
   ]
  },
  {
   "cell_type": "markdown",
   "id": "0458f17e-6909-47a7-93cc-a11c8a63e978",
   "metadata": {},
   "source": [
    "### Metadata"
   ]
  },
  {
   "cell_type": "markdown",
   "id": "ba4cba40-4404-4bde-868c-cc4121d757a3",
   "metadata": {},
   "source": [
    "We leave the implementation out of this tutorial. Possible would be, e.g. the implementation in another file. \n",
    "\n",
    "To ignore all metadata related operations, we will implement a function that just `pass`es instead of updating any metadata."
   ]
  },
  {
   "cell_type": "markdown",
   "id": "d2e2d93e-07be-4563-81ca-c7a3d62f2baa",
   "metadata": {},
   "source": [
    "## Writing a class"
   ]
  },
  {
   "cell_type": "markdown",
   "id": "76a5e07b-2c1b-44f8-ad86-817ff16bef42",
   "metadata": {},
   "source": [
    "We can combine all of our previously developed functions in a new class, which can be used seamlessly within the MADAS framework:"
   ]
  },
  {
   "cell_type": "code",
   "execution_count": 22,
   "id": "f360fdf5-9b37-4285-866e-5cd9a2f49067",
   "metadata": {},
   "outputs": [],
   "source": [
    "import os\n",
    "from typing import List\n",
    "import warnings\n",
    "\n",
    "from madas.backend import Backend\n",
    "from madas.utils import safe_log\n",
    "\n",
    "class TXTBackend(Backend):\n",
    "    \"\"\"\n",
    "    Text-file based database to demonstrate the implementation of `Backend` classes in `MADAS`. \n",
    "    \"\"\"\n",
    "\n",
    "    def __init__(self,\n",
    "                 filename='materials_database.txt',\n",
    "                 filepath='data',\n",
    "                 make_dirs=True,\n",
    "                 key_name='mid',\n",
    "                 log=None):\n",
    "        super().__init__(filename=filename, filepath=filepath, make_dirs=make_dirs, key_name=key_name, log=log)\n",
    "        if not os.path.exists(self.abs_path):\n",
    "            with open(self.abs_path, \"w\") as f_:\n",
    "                f_.write(\"\")\n",
    "\n",
    "    ## Add data    \n",
    "    def add_single(self, material: Material):\n",
    "        \"\"\"\n",
    "        Add a single material to the database.\n",
    "        \"\"\"\n",
    "        with open(self.abs_path, \"a\") as f_:\n",
    "            f_.write(json.dumps(material.to_dict()))\n",
    "            f_.write(\"\\n\") # add newline, such that each material is in its own line\n",
    "    \n",
    "    def add_many(self, materials: List[Material]):\n",
    "        \"\"\"\n",
    "        Add several materials to the database.\n",
    "        \"\"\"\n",
    "        with open(self.abs_path, \"a\") as f_:\n",
    "            for material in materials:\n",
    "                f_.write(json.dumps(material.to_dict()))\n",
    "                f_.write(\"\\n\") # add newline, such that each material is in its own line\n",
    "\n",
    "    ## Retrieve data\n",
    "    def get_single(self, mid: str) -> Material | None:\n",
    "        \"\"\"\n",
    "        Get a single material from the database. \n",
    "        \"\"\"\n",
    "        material = None\n",
    "        with open(self.abs_path, \"r\") as f_:\n",
    "            for new_line in f_:\n",
    "                material = Material.from_dict(json.loads(new_line))\n",
    "                if material.mid == mid:\n",
    "                    break\n",
    "        if material is None:\n",
    "            safe_log(f\"Material with mid: {mid} is not contained in database.\", self.log)\n",
    "        return material\n",
    "\n",
    "    def has_entry(self, mid: str) -> bool:\n",
    "        \"\"\"\n",
    "        Check if a material with a given mid is present in the database.\n",
    "        \"\"\"\n",
    "        is_in_db=False\n",
    "        with open(self.abs_path, \"r\") as f_:\n",
    "            for new_line in f_:\n",
    "                if json.loads(new_line)[\"mid\"]==mid:\n",
    "                    is_in_db=True\n",
    "                    break\n",
    "        return is_in_db\n",
    "    \n",
    "    def get_many(self, mids: List[str]) -> List[Material]:\n",
    "        \"\"\"\n",
    "        Get many materials from the database.\n",
    "        \"\"\"\n",
    "        mids_to_search = set(mids)\n",
    "        found_materials = []\n",
    "        with open(self.abs_path, \"r\") as f_:\n",
    "            for new_line in f_:\n",
    "                # stop search early if all materials have been found\n",
    "                if len(mids_to_search) == 0:\n",
    "                    break\n",
    "                material = Material.from_dict(json.loads(new_line))\n",
    "                if material.mid in mids_to_search:\n",
    "                    found_materials.append(material)\n",
    "                    mids_to_search.discard(material.mid)\n",
    "            # sort to recover input sorting\n",
    "            found_materials = sorted(found_materials, key=lambda x: mids.index(x.mid))\n",
    "        if len(found_materials) != len(mids):\n",
    "            safe_log(f\"Number of searched ({len(mids)}) and found ({len(found_materials)}) materials do not match.\", logger = self.log)\n",
    "        return found_materials\n",
    "\n",
    "    def get_by_id(self, db_id: int) -> Material | None:\n",
    "        \"\"\"\n",
    "        Get an entry by database id.\n",
    "        \"\"\"\n",
    "        material = None\n",
    "        with open(self.abs_path, \"r\") as f_:\n",
    "            for idx, new_line in enumerate(f_):\n",
    "                if idx==db_id:\n",
    "                    material = Material.from_dict(json.loads(new_line))\n",
    "                    break\n",
    "        return material\n",
    "\n",
    "    def get_length(self):\n",
    "        \"\"\"\n",
    "        Get the length of the database.\n",
    "        \"\"\"\n",
    "        with open(self.abs_path, \"r\") as f_:\n",
    "            length = sum(1 for _ in f_)\n",
    "        return length\n",
    "\n",
    "    # Update data\n",
    "    def update_single(self, mid: str, updated_data: dict):\n",
    "        \"\"\"\n",
    "        Update a single entry.\n",
    "        \"\"\"\n",
    "        with open(self.abs_path, \"r\") as f_:\n",
    "            contents = f_.readlines()    \n",
    "        for idx in range(len(contents)):\n",
    "            material = Material.from_dict(json.loads(contents[idx]))\n",
    "            if material.mid == mid:\n",
    "                material.properties.update(**updated_data)\n",
    "                contents[idx] = json.dumps(material.to_dict())+\"\\n\"\n",
    "                break\n",
    "        with open(self.abs_path, \"w\") as f_:\n",
    "            f_.writelines(contents)\n",
    "\n",
    "    def update_many(self, mids: List[str], updated_data: List[dict]):\n",
    "        \"\"\"\n",
    "        Update many entries.\n",
    "        \"\"\"\n",
    "        with open(self.abs_path, \"r\") as f_:\n",
    "            contents = f_.readlines()    \n",
    "        for idx in range(len(contents)):\n",
    "            material = Material.from_dict(json.loads(contents[idx]))\n",
    "            if material.mid in mids:\n",
    "                for mid_, data_ in zip(mids, updated_data):\n",
    "                    if mid_ == material.mid:\n",
    "                        material.properties.update(**data_)\n",
    "                        contents[idx] = json.dumps(material.to_dict())+\"\\n\"\n",
    "        with open(self.abs_path, \"w\") as f_:\n",
    "            f_.writelines(contents)\n",
    "\n",
    "    def update_metadata(*args, **kwargs):\n",
    "        warnings.warn(\"Saving metadata is not supported by the current Backend.\", UserWarning)\n",
    "        pass"
   ]
  },
  {
   "cell_type": "markdown",
   "id": "741a89e4-a3a4-4e65-b5d8-720c2e58e8dd",
   "metadata": {},
   "source": [
    "## Testing"
   ]
  },
  {
   "cell_type": "markdown",
   "id": "dab667e4-4943-4e97-99fe-4e1e719ca322",
   "metadata": {},
   "source": [
    "To test our implementation, we can use it with together with a `MADAS` `MaterialsDatabase`."
   ]
  },
  {
   "cell_type": "code",
   "execution_count": 23,
   "id": "e4153e03-426e-420b-859e-ea601a46bfc2",
   "metadata": {},
   "outputs": [],
   "source": [
    "from madas import MaterialsDatabase"
   ]
  },
  {
   "cell_type": "markdown",
   "id": "12082a9c-5a60-43e1-8884-b09e2d5b0dbc",
   "metadata": {},
   "source": [
    "We initialize the `MaterialsDatabase` with our custom `Backend`."
   ]
  },
  {
   "cell_type": "code",
   "execution_count": 24,
   "id": "dab3ea0e-57a5-4627-a884-7730b9125ad7",
   "metadata": {},
   "outputs": [
    {
     "name": "stderr",
     "output_type": "stream",
     "text": [
      "/tmp/ipykernel_19988/2145170194.py:143: UserWarning: Saving metadata is not supported by the current Backend.\n",
      "  warnings.warn(\"Saving metadata is not supported by the current Backend.\", UserWarning)\n"
     ]
    }
   ],
   "source": [
    "db = MaterialsDatabase(backend=TXTBackend())"
   ]
  },
  {
   "cell_type": "markdown",
   "id": "4f18c46d-cd36-4eae-ada4-3f60c22602df",
   "metadata": {},
   "source": [
    "Adding data works as usual:"
   ]
  },
  {
   "cell_type": "code",
   "execution_count": 25,
   "id": "5983f1e3-3e5d-408e-b600-3cee1477c5b7",
   "metadata": {},
   "outputs": [],
   "source": [
    "db.add_material(\"nsXJ2rebbTL8XJuomZIlntl6_iMK\")\n",
    "db.add_material(\"iH8jCHxCcYSNysv7E_9OabHZ33qE\")"
   ]
  },
  {
   "cell_type": "markdown",
   "id": "2f569245-f9ec-43ca-a402-4341f6c997f0",
   "metadata": {},
   "source": [
    "Similarly, it can be retrieved:"
   ]
  },
  {
   "cell_type": "code",
   "execution_count": 26,
   "id": "40778367-dc1b-4559-ac14-b166478cc2dd",
   "metadata": {},
   "outputs": [
    {
     "data": {
      "text/plain": [
       "Material(mid = nsXJ2rebbTL8XJuomZIlntl6_iMK, data = {'archive'}, properties = set())"
      ]
     },
     "execution_count": 26,
     "metadata": {},
     "output_type": "execute_result"
    }
   ],
   "source": [
    "db[0]"
   ]
  },
  {
   "cell_type": "markdown",
   "id": "768add07-3866-4e36-b101-c7646052e972",
   "metadata": {},
   "source": [
    "Fingerprints can be added (testing the `update_entries` function):"
   ]
  },
  {
   "cell_type": "code",
   "execution_count": 27,
   "id": "aa515432-f30b-4bd7-9f0f-f502972966ea",
   "metadata": {},
   "outputs": [
    {
     "name": "stderr",
     "output_type": "stream",
     "text": [
      "2024-06-14 14:13:40,660 - materials_database_log - INFO - Generating PTE fingerprints...\n",
      "2024-06-14 14:13:40,661 - materials_database_log - INFO - Generating \"PTE\" fingerprints.\n"
     ]
    },
    {
     "data": {
      "application/json": {
       "ascii": false,
       "bar_format": null,
       "colour": null,
       "elapsed": 0.010805130004882812,
       "initial": 0,
       "n": 0,
       "ncols": null,
       "nrows": null,
       "postfix": null,
       "prefix": "",
       "rate": null,
       "total": 2,
       "unit": "it",
       "unit_divisor": 1000,
       "unit_scale": false
      },
      "application/vnd.jupyter.widget-view+json": {
       "model_id": "f4d9ded19b8841ebba8ab04729d8e2dc",
       "version_major": 2,
       "version_minor": 0
      },
      "text/plain": [
       "  0%|          | 0/2 [00:00<?, ?it/s]"
      ]
     },
     "metadata": {},
     "output_type": "display_data"
    },
    {
     "name": "stderr",
     "output_type": "stream",
     "text": [
      "2024-06-14 14:13:40,946 - materials_database_log - INFO - Writing PTE fingerprints to database...\n",
      "2024-06-14 14:13:41,223 - materials_database_log - INFO - Finished generation of PTE fingerprints.\n",
      "/tmp/ipykernel_19988/2145170194.py:143: UserWarning: Saving metadata is not supported by the current Backend.\n",
      "  warnings.warn(\"Saving metadata is not supported by the current Backend.\", UserWarning)\n"
     ]
    }
   ],
   "source": [
    "db.add_fingerprint(\"PTE\", force_calculate=True)"
   ]
  },
  {
   "cell_type": "code",
   "execution_count": 28,
   "id": "0c8a58d9-6f3b-4056-8327-09f26f3da477",
   "metadata": {},
   "outputs": [
    {
     "data": {
      "text/plain": [
       "{'PTE': '{\"averaged_PTE_column\": 14.8}'}"
      ]
     },
     "execution_count": 28,
     "metadata": {},
     "output_type": "execute_result"
    }
   ],
   "source": [
    "db[0].properties"
   ]
  },
  {
   "cell_type": "markdown",
   "id": "63fc410d-d8e3-429f-8870-3a50c54a2124",
   "metadata": {},
   "source": [
    "Reading the updated data works just as expected. Here, we generate a similarity matrix from the fingerprints that were stored in our backend and display it."
   ]
  },
  {
   "cell_type": "code",
   "execution_count": 29,
   "id": "b38deaf3-8b77-4b10-ba4d-5e4eab3a9fb8",
   "metadata": {},
   "outputs": [
    {
     "name": "stderr",
     "output_type": "stream",
     "text": [
      "2024-06-14 14:13:41,394 - materials_database_log - INFO - Fingerprints with name \"PTE\" exist. Reading from database.\n"
     ]
    },
    {
     "data": {
      "application/json": {
       "ascii": false,
       "bar_format": null,
       "colour": null,
       "elapsed": 0.022342443466186523,
       "initial": 0,
       "n": 0,
       "ncols": null,
       "nrows": null,
       "postfix": null,
       "prefix": "",
       "rate": null,
       "total": 2,
       "unit": "it",
       "unit_divisor": 1000,
       "unit_scale": false
      },
      "application/vnd.jupyter.widget-view+json": {
       "model_id": "a714fffa38c3472dba437a5dc83cbeab",
       "version_major": 2,
       "version_minor": 0
      },
      "text/plain": [
       "  0%|          | 0/2 [00:00<?, ?it/s]"
      ]
     },
     "metadata": {},
     "output_type": "display_data"
    }
   ],
   "source": [
    "similarity_matrix = db.get_similarity_matrix(\"PTE\")"
   ]
  },
  {
   "cell_type": "code",
   "execution_count": 30,
   "id": "bd2ccc17-6bf4-4c7c-980c-07a1f576e9a5",
   "metadata": {},
   "outputs": [],
   "source": [
    "import matplotlib.pyplot as plt"
   ]
  },
  {
   "cell_type": "code",
   "execution_count": 31,
   "id": "cdd019b7-2f8d-48c1-bf6c-a7e191be305c",
   "metadata": {},
   "outputs": [
    {
     "data": {
      "text/plain": [
       "<Figure size 640x480 with 0 Axes>"
      ]
     },
     "metadata": {},
     "output_type": "display_data"
    },
    {
     "data": {
      "image/png": "[encoded data removed]",
      "text/plain": [
       "<Figure size 480x480 with 2 Axes>"
      ]
     },
     "metadata": {},
     "output_type": "display_data"
    }
   ],
   "source": [
    "plt.figure()\n",
    "plt.matshow(similarity_matrix)\n",
    "plt.xticks(range(len(db)), [entry.atoms.get_chemical_formula() for entry in db])\n",
    "plt.yticks(range(len(db)), [entry.atoms.get_chemical_formula() for entry in db])\n",
    "plt.title(\"PTE similarity\")\n",
    "plt.clim(0,1)\n",
    "plt.colorbar()\n",
    "plt.show()"
   ]
  }
 ],
 "metadata": {
  "kernelspec": {
   "display_name": "Python 3 (ipykernel)",
   "language": "python",
   "name": "python3"
  },
  "language_info": {
   "codemirror_mode": {
    "name": "ipython",
    "version": 3
   },
   "file_extension": ".py",
   "mimetype": "text/x-python",
   "name": "python",
   "nbconvert_exporter": "python",
   "pygments_lexer": "ipython3",
   "version": "3.10.13"
  }
 },
 "nbformat": 4,
 "nbformat_minor": 5
}
