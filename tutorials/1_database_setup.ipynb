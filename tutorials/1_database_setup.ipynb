{
 "cells": [
  {
   "cell_type": "markdown",
   "id": "04bb85ac",
   "metadata": {},
   "source": [
    "# Tutorial 1: Database setup"
   ]
  },
  {
   "cell_type": "markdown",
   "id": "c658e585",
   "metadata": {},
   "source": [
    "In this tutorial you are going to learn how to:\n",
    "\n",
    "<div class=\"alert alert-block alert-warning\">\n",
    "    \n",
    "**[Initialize a local database for materials data](#Initialization)**\n",
    "   \n",
    "**[Select an API for a remote data source](#Select-an-API)**\n",
    "   \n",
    "**[Select a backend for data storage](#Select-a-Backend)**\n",
    "   \n",
    "**[Download data from the NOMAD Archive](#Download-data)**\n",
    "   \n",
    "**[Analyzing data](#Analyzing-data)**\n",
    "\n",
    "**[Interpret log files](#Interpret-log-files)**\n",
    "\n",
    "</div>\n",
    "\n",
    "Let's get started!"
   ]
  },
  {
   "cell_type": "markdown",
   "id": "0c28f0e2",
   "metadata": {},
   "source": [
    "First, we need to import:"
   ]
  },
  {
   "cell_type": "code",
   "execution_count": 1,
   "id": "d7e692fa",
   "metadata": {},
   "outputs": [],
   "source": [
    "from simdatframe import MaterialsDatabase"
   ]
  },
  {
   "cell_type": "markdown",
   "id": "36132e2a",
   "metadata": {},
   "source": [
    "## Initialization\n",
    "\n",
    "You can create a new database using:"
   ]
  },
  {
   "cell_type": "markdown",
   "id": "e93bc446",
   "metadata": {},
   "source": [
    "```python\n",
    "database = MaterialsDatabase(\n",
    "    filename='tutorial1.db', # name of the database file\n",
    "    filepath='data', # relative path where the database and logs are stored\n",
    "    rootpath='.', # root path to which the filepath will be evaluated\n",
    "    key_name='mid', # name of the unique keys used in the database\n",
    "    api=None, # APIClass object that connects to an external database\n",
    "              # default (None) connects to the NOMAD Archive\n",
    "    backend='ase', # file backend to store data\n",
    "    silent_logging=False, # Set `True` to not write log messages to screen\n",
    ")\n",
    "```"
   ]
  },
  {
   "cell_type": "markdown",
   "id": "d8188cd5",
   "metadata": {},
   "source": [
    "You can omit all keyword arguments. The default name for the database file is `materials_database.db`. \n",
    "\n",
    "Let's look at them one by one:\n",
    "\n",
    "**filename**\n",
    "\n",
    "This is the name of the database file. It is passed to the `backend`, which creates the file, or, if it exists, loads the data from there.\n",
    "\n",
    "**filepath**\n",
    "\n",
    "The path where the database file should be created. If this path does not exist, the `backend` will create it. This path is relative to the _rootpath_.\n",
    "\n",
    "**rootpath**\n",
    "\n",
    "The path to an existing directory, which acts as the root for the creation of the file structure.\n",
    "\n",
    "**key_name**\n",
    "\n",
    "This is the name of the unique database key. Each entry in the database must have this key, it is used consitently throughout the whole package. This allows to connect the materials, their descriptors and similarity  relations. The key itself is created by the `API`. If you read from an existing database file, make sure that the correct `key_name` is used.\n",
    "\n",
    "**api**\n",
    "\n",
    "This argument is used to define from which external source the data is downloaded. The default is the NOMAD Archive, which used the [NOMAD Python client](https://nomad-lab.eu/prod/v1/docs/index.html). You can create your own `API`, to download data from any source. For details please refer to the documentation. This object can be passed as a keyword argument. More details are in [the next section](#Select-an-API).\n",
    "\n",
    "**backend**\n",
    "\n",
    "The `backend` is used to handle the file storage for the database files. By default the [ASE Database](https://wiki.fysik.dtu.dk/ase/ase/db/db.html) is used. It stores the atomic structures and properties in a lightweight SQL database. It is possible to create your own backends. For more details please refer to the documentation, and read the [section below](#Select-a-Backend).\n",
    "\n",
    "**silent_logging**\n",
    "\n",
    "When downloading large quanties of data from external sources, it can happen that web requests fail or the data format is different than expected. For that reason, the `MaterialsDatabase` does continue operation even if certian data that should be downloaded is not available or can not be processed. However, for keep track of the provenance, most error messages (also those from the API) are written to a log file. We will see how to access these logs [later](#Interpret-log-files). At the same time, they are written to the screen. If you want to suppress the writing to screen, set `silent_logging = True`. "
   ]
  },
  {
   "cell_type": "markdown",
   "id": "a1ff61c0",
   "metadata": {},
   "source": [
    "## Select an API\n",
    "\n",
    "To download data from different sources, it is possible to use a custom defined API object. In this tutorial, we are going to use the default API, but we set it explicitly. First, we import the API code:"
   ]
  },
  {
   "cell_type": "code",
   "execution_count": 2,
   "id": "58fbe506",
   "metadata": {},
   "outputs": [],
   "source": [
    "from simdatframe.apis.NOMAD_client_API import API"
   ]
  },
  {
   "cell_type": "markdown",
   "id": "64aac477",
   "metadata": {},
   "source": [
    "Next, we create the API object:"
   ]
  },
  {
   "cell_type": "code",
   "execution_count": 3,
   "id": "c6652f28",
   "metadata": {},
   "outputs": [],
   "source": [
    "api = API(logger = None)"
   ]
  },
  {
   "cell_type": "markdown",
   "id": "8d9b5f3f",
   "metadata": {},
   "source": [
    "Because we use the NOMAD client, which asynchroneously downloads data, from a Jupyter notebook we have to do a little setup:"
   ]
  },
  {
   "cell_type": "code",
   "execution_count": 4,
   "id": "8d025cbc",
   "metadata": {},
   "outputs": [],
   "source": [
    "import nest_asyncio \n",
    "nest_asyncio.apply()"
   ]
  },
  {
   "cell_type": "markdown",
   "id": "15b4c69b",
   "metadata": {},
   "source": [
    "This specific API does not require any setup, but you can use this e.g. to set the _url_ of a website. The logger is set to `None`, however, when we pass it to the `MaterialsDatabase`, the logger will be set, such that all error messages are sent to the log file. We can already use the `API` object to download data:"
   ]
  },
  {
   "cell_type": "code",
   "execution_count": 5,
   "id": "68a4b811",
   "metadata": {},
   "outputs": [
    {
     "name": "stdout",
     "output_type": "stream",
     "text": [
      "Fetching remote uploads...\n",
      "1 entries are qualified and added to the download list.\n",
      "Downloading required data...\n"
     ]
    }
   ],
   "source": [
    "material = api.get_calculation(\"AW45kWwD6Qq3wgdy6CpMgjX3wjOh\")"
   ]
  },
  {
   "cell_type": "code",
   "execution_count": 6,
   "id": "d9c09ee5",
   "metadata": {},
   "outputs": [
    {
     "name": "stdout",
     "output_type": "stream",
     "text": [
      "Material(mid = AW45kWwD6Qq3wgdy6CpMgjX3wjOh, data = {'mid', 'energy_total', 'atoms'}, properties = set())\n"
     ]
    }
   ],
   "source": [
    "print(material)"
   ]
  },
  {
   "cell_type": "markdown",
   "id": "b1939810",
   "metadata": {},
   "source": [
    "As you can see from the output, we downloaded the [a material from NOMAD](https://nomad-lab.eu/entry/id/AW45kWwD6Qq3wgdy6CpMgjX3wjOh). The properties include the total energy and the atomic positions, which are available via:"
   ]
  },
  {
   "cell_type": "code",
   "execution_count": 7,
   "id": "5176b792",
   "metadata": {},
   "outputs": [
    {
     "name": "stdout",
     "output_type": "stream",
     "text": [
      "-956939.7336141159\n"
     ]
    }
   ],
   "source": [
    "print(material.data[\"energy_total\"])"
   ]
  },
  {
   "cell_type": "code",
   "execution_count": 8,
   "id": "df1cb79a",
   "metadata": {},
   "outputs": [
    {
     "name": "stdout",
     "output_type": "stream",
     "text": [
      "Atoms(symbols='PbI2', pbc=True, cell=[[4.557999762860691, 0.0, 0.0], [-2.2789998764296207, 3.947343586727941, 0.0], [0.0, 0.0, 6.985999558607339]])\n"
     ]
    }
   ],
   "source": [
    "print(material.atoms)"
   ]
  },
  {
   "cell_type": "markdown",
   "id": "8011fab5",
   "metadata": {},
   "source": [
    "as properties of a `Material` object. You can read more about those in the documentation."
   ]
  },
  {
   "cell_type": "markdown",
   "id": "773ff8f4",
   "metadata": {},
   "source": [
    "In the next step, we create a backend to store our data."
   ]
  },
  {
   "cell_type": "markdown",
   "id": "e7a81ee6",
   "metadata": {},
   "source": [
    "## Select a Backend\n",
    "For our tutorial, we will not write the data to disc, but we store it in a dictionary based backend. We can create it via:"
   ]
  },
  {
   "cell_type": "code",
   "execution_count": 9,
   "id": "a8affc2b",
   "metadata": {},
   "outputs": [],
   "source": [
    "from simdatframe.backend.dictionary_backend import DictBackend\n",
    "backend = DictBackend()"
   ]
  },
  {
   "cell_type": "markdown",
   "id": "fd6feab7",
   "metadata": {},
   "source": [
    "For this case, we don't have to set any variables.\n",
    "\n",
    "We can add materials directly to the backend:"
   ]
  },
  {
   "cell_type": "code",
   "execution_count": 10,
   "id": "f908dde7",
   "metadata": {},
   "outputs": [
    {
     "name": "stdout",
     "output_type": "stream",
     "text": [
      "Wrote material with id AW45kWwD6Qq3wgdy6CpMgjX3wjOh.\n"
     ]
    }
   ],
   "source": [
    "backend.add_single(material)"
   ]
  },
  {
   "cell_type": "markdown",
   "id": "4d833ab4",
   "metadata": {},
   "source": [
    "check the length of the backend:"
   ]
  },
  {
   "cell_type": "code",
   "execution_count": 11,
   "id": "d31b1ec9",
   "metadata": {},
   "outputs": [
    {
     "name": "stdout",
     "output_type": "stream",
     "text": [
      "1\n"
     ]
    }
   ],
   "source": [
    "print(backend.get_length())"
   ]
  },
  {
   "cell_type": "markdown",
   "id": "79e1e6a0",
   "metadata": {},
   "source": [
    "and retrieve the data back from there:"
   ]
  },
  {
   "cell_type": "code",
   "execution_count": 12,
   "id": "2bfe1721",
   "metadata": {},
   "outputs": [],
   "source": [
    "material_copy = backend.get_by_id(0)"
   ]
  },
  {
   "cell_type": "markdown",
   "id": "55d1be66",
   "metadata": {},
   "source": [
    "Both materials are the same:"
   ]
  },
  {
   "cell_type": "code",
   "execution_count": 13,
   "id": "3c042959",
   "metadata": {},
   "outputs": [
    {
     "data": {
      "text/plain": [
       "True"
      ]
     },
     "execution_count": 13,
     "metadata": {},
     "output_type": "execute_result"
    }
   ],
   "source": [
    "material == material_copy"
   ]
  },
  {
   "cell_type": "markdown",
   "id": "b84c2cd6",
   "metadata": {},
   "source": [
    "## Download data\n",
    "Now we will practice a real-world example: We search the lowest energies for all Cu-Pd-Au based ternary compounds in NOMAD. We start with the database:"
   ]
  },
  {
   "cell_type": "code",
   "execution_count": 14,
   "id": "056f2deb",
   "metadata": {},
   "outputs": [],
   "source": [
    "from simdatframe import MaterialsDatabase\n",
    "\n",
    "db = MaterialsDatabase(filename=\"CuPdAu-energies.db\", api=api)"
   ]
  },
  {
   "cell_type": "markdown",
   "id": "9b9ae712",
   "metadata": {},
   "source": [
    "For using the NOMAD client API, we need to construct the query:"
   ]
  },
  {
   "cell_type": "code",
   "execution_count": 15,
   "id": "efd8efd6",
   "metadata": {},
   "outputs": [],
   "source": [
    "from nomad.client import ArchiveQuery\n",
    "\n",
    "query = {\n",
    "    \"external_db:any\": [\n",
    "      \"AFLOW\" # for consistency we only use data from the AflowLib database, which are computed using VASP\n",
    "    ],\n",
    "    \"results.material.elements_exclusive\": \"Au Cu Pd\" # we restrict the elements\n",
    "}  "
   ]
  },
  {
   "cell_type": "markdown",
   "id": "f6a93fb8",
   "metadata": {},
   "source": [
    "The NOMAD ArchiveQuery has a _required_ section, which tells which quantities should be retrieved from the NOMAD Archive. \n",
    "\n",
    "For our purpose, we can use the default section defined for `simdatframe`:"
   ]
  },
  {
   "cell_type": "code",
   "execution_count": 16,
   "id": "56fc448a",
   "metadata": {},
   "outputs": [],
   "source": [
    "from simdatframe.apis.NOMAD_client_API import DEFAULT_REQUIRED_SECTION, DEFAULT_PROCESSING"
   ]
  },
  {
   "cell_type": "markdown",
   "id": "3377fba0",
   "metadata": {},
   "source": [
    "Now we can create the query object:"
   ]
  },
  {
   "cell_type": "code",
   "execution_count": 17,
   "id": "74e8a308",
   "metadata": {},
   "outputs": [],
   "source": [
    "nomad_query = ArchiveQuery(query=query, required=DEFAULT_REQUIRED_SECTION)"
   ]
  },
  {
   "cell_type": "markdown",
   "id": "54f5cc6f",
   "metadata": {},
   "source": [
    "And populate the `MaterialsDatabase` with the results of the query:"
   ]
  },
  {
   "cell_type": "code",
   "execution_count": 18,
   "id": "aeecbbf4",
   "metadata": {},
   "outputs": [
    {
     "name": "stderr",
     "output_type": "stream",
     "text": [
      "2022-09-06 19:06:35,435 - CuPdAu-energies_log - ERROR - Query can not be serialized and therefore not logged.             To avoid this, please set `MaterialDatabase().json_encoder` to a `json.JsonEncoder` that can process your arguments.\n",
      "2022-09-06 19:06:35,436 - CuPdAu-energies_log - INFO - Filling database with calculations matching query: UNIDENTIFIED\n",
      "2022-09-06 19:07:36,099 - CuPdAu-energies_api - INFO - NOMAD client stdout: Fetching remote uploads...\n",
      "196 entries are qualified and added to the download list.\n",
      "Downloading required data...\n",
      "Fetching remote uploads...\n",
      "196 entries are qualified and added to the download list.\n",
      "Downloading required data...\n",
      "Fetching remote uploads...\n",
      "0 entries are qualified and added to the download list.\n",
      "Downloading required data...\n",
      "Fetching remote uploads...\n",
      "196 entries are qualified and added to the download list.\n",
      "Downloading required data...\n",
      "Fetching remote uploads...\n",
      "0 entries are qualified and added to the download list.\n",
      "Downloading required data...\n",
      "Fetching remote uploads...\n",
      "196 entries are qualified and added to the download list.\n",
      "Downloading required data...\n",
      "Fetching remote uploads...\n",
      "0 entries are qualified and added to the download list.\n",
      "Downloading required data...\n",
      "Fetching remote uploads...\n",
      "196 entries are qualified and added to the download list.\n",
      "Downloading required data...\n",
      "Fetching remote uploads...\n",
      "0 entries are qualified and added to the download list.\n",
      "Downloading required data...\n",
      "Fetching remote uploads...\n",
      "20 entries are qualified and added to the download list.\n",
      "Downloading required data...\n",
      "Fetching remote uploads...\n",
      "Downloading required data...\n",
      "\n",
      "2022-09-06 19:07:36,100 - CuPdAu-energies_api - ERROR - NOMAD client stderr: \n",
      "2022-09-06 19:07:37,554 - CuPdAu-energies_log - INFO - Wrote material with id afgxVJIdT-rG_oycfzvFp2tUtr8T.\n",
      "2022-09-06 19:07:37,558 - CuPdAu-energies_log - INFO - Wrote material with id KOmcP6ud8oQ5TZrrLFOgumgU3c-D.\n",
      "2022-09-06 19:07:37,560 - CuPdAu-energies_log - INFO - Wrote material with id RpWMmYCjKrMqvXJV55tK30FL-u0x.\n",
      "2022-09-06 19:07:37,562 - CuPdAu-energies_log - INFO - Wrote material with id xP5kTOZBuG9822WoEDyaQqPcEJlm.\n",
      "2022-09-06 19:07:37,564 - CuPdAu-energies_log - INFO - Wrote material with id 4ZSJ0pkBsJ1tethMROMwf5IOfJLs.\n",
      "2022-09-06 19:07:37,566 - CuPdAu-energies_log - INFO - Wrote material with id 5AmI96JEaXZKLktGgBacrpkD3afx.\n",
      "2022-09-06 19:07:37,569 - CuPdAu-energies_log - INFO - Wrote material with id KX_ALbeZMeTMytW5XYTr5p6n7eXe.\n",
      "2022-09-06 19:07:37,573 - CuPdAu-energies_log - INFO - Wrote material with id Z0ex1iiBWnTZkVZZXrpD4-M2yTcO.\n",
      "2022-09-06 19:07:37,575 - CuPdAu-energies_log - INFO - Wrote material with id wYy_8C36FhoRzpFs6Xa0HO4EYEWl.\n",
      "2022-09-06 19:07:37,577 - CuPdAu-energies_log - INFO - Wrote material with id TjU7-hem14isv6FA4b6ggE9Sj7sn.\n",
      "2022-09-06 19:07:37,580 - CuPdAu-energies_log - INFO - Wrote material with id om93owx3GVnXlp0T0by7vAInek51.\n",
      "2022-09-06 19:07:37,581 - CuPdAu-energies_log - INFO - Wrote material with id jJZto4yJZZLIpgzgWSpj7jaxRmK0.\n",
      "2022-09-06 19:07:37,583 - CuPdAu-energies_log - INFO - Wrote material with id X3GT3o88ZsZHQT9DZDfW5CMtbADv.\n",
      "2022-09-06 19:07:37,586 - CuPdAu-energies_log - INFO - Wrote material with id qTWVJtjYOHeaUAM9RXqxWjRlPxSw.\n",
      "2022-09-06 19:07:37,588 - CuPdAu-energies_log - INFO - Wrote material with id RXuoSwW43i9ehw3oDzgowBYqRcv5.\n",
      "2022-09-06 19:07:37,590 - CuPdAu-energies_log - INFO - Wrote material with id JHz_VnBh94xAHLwYDpUCdvftU3BJ.\n",
      "2022-09-06 19:07:37,592 - CuPdAu-energies_log - INFO - Wrote material with id YlWnHRt16MIP5M_4nn6NPVDJLv0U.\n",
      "2022-09-06 19:07:37,595 - CuPdAu-energies_log - INFO - Wrote material with id 9oOdqEhygU8b7_q19JFU7rN6WTvs.\n",
      "2022-09-06 19:07:37,598 - CuPdAu-energies_log - INFO - Wrote material with id ZlIpi_QzVbAci8672E19UMnA3Nx3.\n",
      "2022-09-06 19:07:37,600 - CuPdAu-energies_log - INFO - Wrote material with id orJYKslLz5uTDXCMBnJaN6aUvd7X.\n",
      "2022-09-06 19:07:37,602 - CuPdAu-energies_log - INFO - Wrote material with id VIX6AKbwgAkRuzReai1BsawOmpyU.\n",
      "2022-09-06 19:07:37,605 - CuPdAu-energies_log - INFO - Wrote material with id jFPpL_d4bEnEy11Offy2vYfnRSXT.\n",
      "2022-09-06 19:07:37,607 - CuPdAu-energies_log - INFO - Wrote material with id 0kVbgDGuTudgDw3yw6VEDE_JCwIr.\n",
      "2022-09-06 19:07:37,609 - CuPdAu-energies_log - INFO - Wrote material with id RYpKrA-IvRrdZUVeTKytkmaJTWm6.\n",
      "2022-09-06 19:07:37,612 - CuPdAu-energies_log - INFO - Wrote material with id aoIzDc63hNcpvnd7ekF9RV6FOJm7.\n",
      "2022-09-06 19:07:37,615 - CuPdAu-energies_log - INFO - Wrote material with id IQQrq4Ja3oK_p0wb-4dXvylsuykP.\n",
      "2022-09-06 19:07:37,617 - CuPdAu-energies_log - INFO - Wrote material with id eER8zgnVO72Gn_TuIWOLlJCwCCDF.\n",
      "2022-09-06 19:07:37,620 - CuPdAu-energies_log - INFO - Wrote material with id 3WTD-_Ph87X3kNWFRvhhtk-FN2GA.\n",
      "2022-09-06 19:07:37,622 - CuPdAu-energies_log - INFO - Wrote material with id 5lmRSttEM0puK8ZUYMPbJPe90wiD.\n",
      "2022-09-06 19:07:37,624 - CuPdAu-energies_log - INFO - Wrote material with id gxe8hlEIdUZeaDQDEajTvYkl7lpp.\n",
      "2022-09-06 19:07:37,627 - CuPdAu-energies_log - INFO - Wrote material with id 3tnLlMvM8-VBrXM6e4tuc9iZM3kg.\n",
      "2022-09-06 19:07:37,630 - CuPdAu-energies_log - INFO - Wrote material with id vdKyRlG7D_gUGbIBBJwlZv-WV_cK.\n",
      "2022-09-06 19:07:37,632 - CuPdAu-energies_log - INFO - Wrote material with id -P36pdAbK-Rke2QR8SpA19JVzurm.\n",
      "2022-09-06 19:07:37,635 - CuPdAu-energies_log - INFO - Wrote material with id 92BRcL4Vrdn56Ag8ER3BilEGHuMh.\n",
      "2022-09-06 19:07:37,636 - CuPdAu-energies_log - INFO - Wrote material with id KNwT9bhQ4tC8topo28RZRy9kWQ-S.\n",
      "2022-09-06 19:07:37,639 - CuPdAu-energies_log - INFO - Wrote material with id sT0bXwaPdrAteiTUDAIAXEjGlmRS.\n",
      "2022-09-06 19:07:37,641 - CuPdAu-energies_log - INFO - Wrote material with id C_vrIFB6V66RAQSPigz_uLmhANDO.\n",
      "2022-09-06 19:07:37,643 - CuPdAu-energies_log - INFO - Wrote material with id hOdQoCAXQO7tqU-d23Gnhkz6D6Co.\n",
      "2022-09-06 19:07:37,646 - CuPdAu-energies_log - INFO - Wrote material with id kao-syFtC9Hv0G_mV39eSDyvBhfP.\n",
      "2022-09-06 19:07:37,649 - CuPdAu-energies_log - INFO - Wrote material with id suIwtjsjtqfkNDdVAVh3pAGzUKDz.\n",
      "2022-09-06 19:07:37,651 - CuPdAu-energies_log - INFO - Wrote material with id 68uJgJWzsDIsTitnIqoLq7KKOztc.\n",
      "2022-09-06 19:07:37,653 - CuPdAu-energies_log - INFO - Wrote material with id 6O3G_NFO-lrx8ibPNknmBNCfl-zQ.\n",
      "2022-09-06 19:07:37,656 - CuPdAu-energies_log - INFO - Wrote material with id CljFeoPyeH992TJEBj8wfBDb6wIJ.\n",
      "2022-09-06 19:07:37,658 - CuPdAu-energies_log - INFO - Wrote material with id jJgfITXXfpaXqEsGojNlwsV0OrSt.\n",
      "2022-09-06 19:07:37,661 - CuPdAu-energies_log - INFO - Wrote material with id fB4ynJZLowYzoo2HGEWygozNApRr.\n",
      "2022-09-06 19:07:37,664 - CuPdAu-energies_log - INFO - Wrote material with id QypPg3qD9kn1YLofUc-pPfWpa_vu.\n",
      "2022-09-06 19:07:37,666 - CuPdAu-energies_log - INFO - Wrote material with id q6WuzedAZOVyGTiloZwoWmwEOS_W.\n",
      "2022-09-06 19:07:37,668 - CuPdAu-energies_log - INFO - Wrote material with id OSSsPvgWwa2XWicBtAAw4vj0WNxr.\n",
      "2022-09-06 19:07:37,670 - CuPdAu-energies_log - INFO - Wrote material with id vaSzHqOd2VG6rdac6id11Jtr2zxB.\n",
      "2022-09-06 19:07:37,672 - CuPdAu-energies_log - INFO - Wrote material with id 1YeNHlBFsgMdPaWzS2NFn9KFpRnZ.\n",
      "2022-09-06 19:07:37,674 - CuPdAu-energies_log - INFO - Wrote material with id 0K1DlGJLQhX8UrFOiBz56oe4BZ4I.\n",
      "2022-09-06 19:07:37,677 - CuPdAu-energies_log - INFO - Wrote material with id 9LZTW1pHcGeU9xr8wEuxGJusBUn2.\n",
      "2022-09-06 19:07:37,680 - CuPdAu-energies_log - INFO - Wrote material with id m-sA6xOBbyuMiDHEvEgt_XzEOpxB.\n",
      "2022-09-06 19:07:37,682 - CuPdAu-energies_log - INFO - Wrote material with id BtLVUcLmT2zn9FT0Oi8c3SQRpDqJ.\n",
      "2022-09-06 19:07:37,684 - CuPdAu-energies_log - INFO - Wrote material with id t6R-4fS8leaO0RCMMj95xVT8J2nH.\n",
      "2022-09-06 19:07:37,686 - CuPdAu-energies_log - INFO - Wrote material with id U3CzPEF_R7Pj0D5j9x5WqW0x-_j9.\n",
      "2022-09-06 19:07:37,688 - CuPdAu-energies_log - INFO - Wrote material with id -x4ZvUXPbf8IPY4kh564oxqgSanb.\n",
      "2022-09-06 19:07:37,690 - CuPdAu-energies_log - INFO - Wrote material with id VR-q2imsLWeyLAeYFG74OLPIl2P8.\n",
      "2022-09-06 19:07:37,692 - CuPdAu-energies_log - INFO - Wrote material with id 0q3L40sEAuYCkvpD8E4W5AE3-7By.\n",
      "2022-09-06 19:07:37,695 - CuPdAu-energies_log - INFO - Wrote material with id fgI_swzxUz44fIsfCcHSdj1EyFSu.\n",
      "2022-09-06 19:07:37,698 - CuPdAu-energies_log - INFO - Wrote material with id CXLSJalCByY_vta1mSXxpfrvZzmZ.\n"
     ]
    },
    {
     "name": "stderr",
     "output_type": "stream",
     "text": [
      "2022-09-06 19:07:37,700 - CuPdAu-energies_log - INFO - Wrote material with id QSXoznIfufPGQ7ADwYzwKsCmq_pV.\n",
      "2022-09-06 19:07:37,702 - CuPdAu-energies_log - INFO - Wrote material with id hMDy_FeinIcxSKZ1XkUJSCnXZcZB.\n",
      "2022-09-06 19:07:37,704 - CuPdAu-energies_log - INFO - Wrote material with id gkpYjCnLA2yOj-PGgHEySHZMBUUu.\n",
      "2022-09-06 19:07:37,706 - CuPdAu-energies_log - INFO - Wrote material with id dzAEQievwipQQh0eAEf64QZpqIUY.\n",
      "2022-09-06 19:07:37,709 - CuPdAu-energies_log - INFO - Wrote material with id w7y48xkqP8ofPKwkCWJVWh3y6b4t.\n",
      "2022-09-06 19:07:37,712 - CuPdAu-energies_log - INFO - Wrote material with id 66pTggU5_3rJfOyQMf2tQ-uJ-imS.\n",
      "2022-09-06 19:07:37,714 - CuPdAu-energies_log - INFO - Wrote material with id a5G9CVbwpAmPzTdv2b6ydcSrZuaD.\n",
      "2022-09-06 19:07:37,716 - CuPdAu-energies_log - INFO - Wrote material with id QVv1uz1JP8edlrnyDQ5kKRGlvuwA.\n",
      "2022-09-06 19:07:37,718 - CuPdAu-energies_log - INFO - Wrote material with id A3lz_yTM19gejvi7G2teLzJjr9-K.\n",
      "2022-09-06 19:07:37,720 - CuPdAu-energies_log - INFO - Wrote material with id 3ivfvup7xbCUxKQrcCM4M-EbfFqx.\n",
      "2022-09-06 19:07:37,722 - CuPdAu-energies_log - INFO - Wrote material with id PUG3MS4RmKG-ZDFboOEkW-fd23EK.\n",
      "2022-09-06 19:07:37,724 - CuPdAu-energies_log - INFO - Wrote material with id kHmgWwNS7JscSQymtZYk4-BJnApO.\n",
      "2022-09-06 19:07:37,728 - CuPdAu-energies_log - INFO - Wrote material with id nqyL-Lkp4LnBIQCY0ZgSQ8oL-0HD.\n",
      "2022-09-06 19:07:37,730 - CuPdAu-energies_log - INFO - Wrote material with id z7Yk2P0u9JHfrvCs0MfesZcjsFZs.\n",
      "2022-09-06 19:07:37,733 - CuPdAu-energies_log - INFO - Wrote material with id 7jOAnSrVOR2Zfu1k-APwEKjsJO4w.\n",
      "2022-09-06 19:07:37,735 - CuPdAu-energies_log - INFO - Wrote material with id XWp4JsshXcn7t55KWRgoHBfTS7X7.\n",
      "2022-09-06 19:07:37,737 - CuPdAu-energies_log - INFO - Wrote material with id XsHXs4sX8W5Jpb_tHfeVYhJpnJVN.\n",
      "2022-09-06 19:07:37,739 - CuPdAu-energies_log - INFO - Wrote material with id rcTK0aNM34sPNiM1vQ4Sovgk-uCD.\n",
      "2022-09-06 19:07:37,741 - CuPdAu-energies_log - INFO - Wrote material with id wbX4VBe7dnrNjEhmXE_J0ImdiDLf.\n",
      "2022-09-06 19:07:37,744 - CuPdAu-energies_log - INFO - Wrote material with id jqiWlUdSMsfZ3EZs-TcyuZNahFaN.\n",
      "2022-09-06 19:07:37,746 - CuPdAu-energies_log - INFO - Wrote material with id 0Cf38u9-R1ghOMT2HpaEN_7iGrk2.\n",
      "2022-09-06 19:07:37,749 - CuPdAu-energies_log - INFO - Wrote material with id QMquc_hjB97vuQol9XaS8CD4BeB8.\n",
      "2022-09-06 19:07:37,751 - CuPdAu-energies_log - INFO - Wrote material with id uJPjF9ywEVcyHQdl-05FnqLQSptF.\n",
      "2022-09-06 19:07:37,753 - CuPdAu-energies_log - INFO - Wrote material with id 45Kh5xYbDtY4DHrW98g9XAcT0XWi.\n",
      "2022-09-06 19:07:37,755 - CuPdAu-energies_log - INFO - Wrote material with id rJR7sk-lD6eABYIIdnkOyG1Q35oF.\n",
      "2022-09-06 19:07:37,758 - CuPdAu-energies_log - INFO - Wrote material with id LtyBKiWkSeR-w30fbzQnyTFgwQrV.\n",
      "2022-09-06 19:07:37,760 - CuPdAu-energies_log - INFO - Wrote material with id JlRY4Xbe7S7Tg-3AqA-4EMLzU6TF.\n",
      "2022-09-06 19:07:37,763 - CuPdAu-energies_log - INFO - Wrote material with id h4v7yL3buH4IovjQCvD6Rp1yXXJt.\n",
      "2022-09-06 19:07:37,765 - CuPdAu-energies_log - INFO - Wrote material with id 00LH7DjWTp1TSsEVaE8cEzmM3oxW.\n",
      "2022-09-06 19:07:37,768 - CuPdAu-energies_log - INFO - Wrote material with id KtWsw23i1XnkRRPTPmNLbW_QVw8a.\n",
      "2022-09-06 19:07:37,770 - CuPdAu-energies_log - INFO - Wrote material with id 9bgOvppBJDqf9sOqWv5ZhL09dzAu.\n",
      "2022-09-06 19:07:37,773 - CuPdAu-energies_log - INFO - Wrote material with id qWxhrRKu1W13-bqFUYZ-lBt87PNQ.\n",
      "2022-09-06 19:07:37,775 - CuPdAu-energies_log - INFO - Wrote material with id CVJCJ_HaaHL5SFG4HLqadehL6oQf.\n",
      "2022-09-06 19:07:37,778 - CuPdAu-energies_log - INFO - Wrote material with id IMz3UNBXbSdnCJCRL9UTAfP19T5C.\n",
      "2022-09-06 19:07:37,781 - CuPdAu-energies_log - INFO - Wrote material with id F9admjkJqKdpdGyBO5r5us5rlYGt.\n",
      "2022-09-06 19:07:37,783 - CuPdAu-energies_log - INFO - Wrote material with id siPgEpTrlVw4AkLH8Nbuxy4NhYhi.\n",
      "2022-09-06 19:07:37,786 - CuPdAu-energies_log - INFO - Wrote material with id EZGz5Jo3BOXF2ypwAlRTtsSFDIgZ.\n",
      "2022-09-06 19:07:37,789 - CuPdAu-energies_log - INFO - Wrote material with id Re0ckBiIy8GaBJZ1SllaHZrXa-CY.\n",
      "2022-09-06 19:07:37,792 - CuPdAu-energies_log - INFO - Wrote material with id Qg3vQtiruu8o9vxrBcmUolUWi6-Y.\n",
      "2022-09-06 19:07:37,794 - CuPdAu-energies_log - INFO - Wrote material with id MJBc-XYy-2R02xQ6lwh9uD9DJDHO.\n",
      "2022-09-06 19:07:37,798 - CuPdAu-energies_log - INFO - Wrote material with id 7omYSioHNK6Tzce0x--pVtVsOBmB.\n",
      "2022-09-06 19:07:37,800 - CuPdAu-energies_log - INFO - Wrote material with id kE2PJ_-fGX1EkIkRWyIf8AVBUBoP.\n",
      "2022-09-06 19:07:37,802 - CuPdAu-energies_log - INFO - Wrote material with id nyoRRHkRlIWyn1RzroCkKnv5ZrLt.\n",
      "2022-09-06 19:07:37,804 - CuPdAu-energies_log - INFO - Wrote material with id 9wzIFf8nyMP0wOcHlORcUDVNkeq3.\n",
      "2022-09-06 19:07:37,806 - CuPdAu-energies_log - INFO - Wrote material with id y5trjCmfE9JyRF4m-fedgsqOUcnd.\n",
      "2022-09-06 19:07:37,809 - CuPdAu-energies_log - INFO - Wrote material with id FoUx3XuVwA1yoTPYsxI-vvaYCkhH.\n",
      "2022-09-06 19:07:37,811 - CuPdAu-energies_log - INFO - Wrote material with id JoXx6NOCTkbpK4dAu8uYBB8-IkfT.\n",
      "2022-09-06 19:07:37,814 - CuPdAu-energies_log - INFO - Wrote material with id N8hC_ZyhEF36ORILjBjv2qSrUmq4.\n",
      "2022-09-06 19:07:37,816 - CuPdAu-energies_log - INFO - Wrote material with id mmPzBZAZTHIjqMol2WnaQTU0YZUh.\n",
      "2022-09-06 19:07:37,819 - CuPdAu-energies_log - INFO - Wrote material with id pddnPjMI2azGxQy_x9CfESa24Qdf.\n",
      "2022-09-06 19:07:37,825 - CuPdAu-energies_log - INFO - Wrote material with id eD-zAU2FX3VnGYQwiqSpHXFBQfB2.\n",
      "2022-09-06 19:07:37,828 - CuPdAu-energies_log - INFO - Wrote material with id 4P6zFphnOJnZlvw0oOY28T7Hsa7f.\n",
      "2022-09-06 19:07:37,832 - CuPdAu-energies_log - INFO - Wrote material with id 9nmX21exb-RKE123FLZi5eDywDiD.\n",
      "2022-09-06 19:07:37,836 - CuPdAu-energies_log - INFO - Wrote material with id 9-178jkm7xzngkgoIs-kbDEF0gBZ.\n",
      "2022-09-06 19:07:37,840 - CuPdAu-energies_log - INFO - Wrote material with id 3xVb4fYWYvpBJwKkZqqKGwgxouRF.\n",
      "2022-09-06 19:07:37,844 - CuPdAu-energies_log - INFO - Wrote material with id VSFv3_kaHl-wKL1bski7XBiRue-s.\n",
      "2022-09-06 19:07:37,848 - CuPdAu-energies_log - INFO - Wrote material with id JgnMbELxvW4uKaqj56Xw1mzzDdGC.\n",
      "2022-09-06 19:07:37,850 - CuPdAu-energies_log - INFO - Wrote material with id kyycObCWjuzPbeQOtSclp4qwyx3a.\n",
      "2022-09-06 19:07:37,854 - CuPdAu-energies_log - INFO - Wrote material with id yYnCOkHlYfoBzVT6mvuZzHupD69w.\n",
      "2022-09-06 19:07:37,857 - CuPdAu-energies_log - INFO - Wrote material with id NIXacdEj7EriyBFOOuLuBb4Gli4l.\n",
      "2022-09-06 19:07:37,859 - CuPdAu-energies_log - INFO - Wrote material with id 1TOqJJmUXPeIkGDuguzFESI7NVLY.\n",
      "2022-09-06 19:07:37,862 - CuPdAu-energies_log - INFO - Wrote material with id MDNliKXNZd6feqrsYQGvGRY31poj.\n",
      "2022-09-06 19:07:37,864 - CuPdAu-energies_log - INFO - Wrote material with id lOuplCCrAc81LivrqWCWi0Kl5klW.\n",
      "2022-09-06 19:07:37,866 - CuPdAu-energies_log - INFO - Wrote material with id 0IpTundhmihJt2Ytju_VSbFBwJ1Q.\n",
      "2022-09-06 19:07:37,869 - CuPdAu-energies_log - INFO - Wrote material with id 3PgfYF-OTAmZmpGHO_wdzrjy_LKN.\n",
      "2022-09-06 19:07:37,873 - CuPdAu-energies_log - INFO - Wrote material with id nBPgaFjxSvq_OM3_4zmUveWymgTj.\n",
      "2022-09-06 19:07:37,876 - CuPdAu-energies_log - INFO - Wrote material with id 5kj9Xg519G0YzJWFd9TJ4-dTd_Yh.\n",
      "2022-09-06 19:07:37,878 - CuPdAu-energies_log - INFO - Wrote material with id w3K5Y4sk5zIQm_Itdk47lX6_2O9V.\n",
      "2022-09-06 19:07:37,880 - CuPdAu-energies_log - INFO - Wrote material with id MJ-kf1YV6mlqNuLCJaGyU7Yc2ppS.\n",
      "2022-09-06 19:07:37,882 - CuPdAu-energies_log - INFO - Wrote material with id Q5llB9IFVKa6wpnh4WwKg_02YcUu.\n",
      "2022-09-06 19:07:37,885 - CuPdAu-energies_log - INFO - Wrote material with id 2NuZvCT55u8n4fwIj2SZ5IX3CKNQ.\n",
      "2022-09-06 19:07:37,887 - CuPdAu-energies_log - INFO - Wrote material with id eesHt79lG272A_89Ch8TCRyqayMj.\n",
      "2022-09-06 19:07:37,891 - CuPdAu-energies_log - INFO - Wrote material with id OzlnZ1aNL2o8aE682gerTeRd1STL.\n",
      "2022-09-06 19:07:37,893 - CuPdAu-energies_log - INFO - Wrote material with id YsEg3VEr7ivP-nTRT4gxxCtQKcOd.\n",
      "2022-09-06 19:07:37,896 - CuPdAu-energies_log - INFO - Wrote material with id pIjr_N7zeAHpxomrmhz82MNcTu-f.\n",
      "2022-09-06 19:07:37,898 - CuPdAu-energies_log - INFO - Wrote material with id ObJo0NExgqOgzYIsmMk6Z-zGmmiR.\n"
     ]
    },
    {
     "name": "stderr",
     "output_type": "stream",
     "text": [
      "2022-09-06 19:07:37,900 - CuPdAu-energies_log - INFO - Wrote material with id _hSwVPDB_CZoBhVZnDMqCIl4ihue.\n",
      "2022-09-06 19:07:37,902 - CuPdAu-energies_log - INFO - Wrote material with id -extPV7AeTKXzcfwyI8SyRqNHRs5.\n",
      "2022-09-06 19:07:37,904 - CuPdAu-energies_log - INFO - Wrote material with id eGfnB_f_owjoLcXGLuvT79rSC0rQ.\n",
      "2022-09-06 19:07:37,907 - CuPdAu-energies_log - INFO - Wrote material with id 7-DmW20nGarNHiUxMNKphevm0aHf.\n",
      "2022-09-06 19:07:37,909 - CuPdAu-energies_log - INFO - Wrote material with id P7tJuP7F01FWn5cQnPKQ4pOSzO2_.\n",
      "2022-09-06 19:07:37,911 - CuPdAu-energies_log - INFO - Wrote material with id jLYkNaZ5glAhfoY_UbUTQH0L8QZn.\n",
      "2022-09-06 19:07:37,914 - CuPdAu-energies_log - INFO - Wrote material with id kBXDpxwq-nU8XO7bCwA-aD3RE2-q.\n",
      "2022-09-06 19:07:37,916 - CuPdAu-energies_log - INFO - Wrote material with id t3KK3dlwD7LjWN0jWsu4AJG9hjHo.\n",
      "2022-09-06 19:07:37,918 - CuPdAu-energies_log - INFO - Wrote material with id D9JT34ZaVtrn1yY4qICBywlOKHm9.\n",
      "2022-09-06 19:07:37,921 - CuPdAu-energies_log - INFO - Wrote material with id Zj7TcL6ldx2nPXuFhELT9v3p8wBk.\n",
      "2022-09-06 19:07:37,923 - CuPdAu-energies_log - INFO - Wrote material with id xYKpLpnmQJsRvbw2cFKwlqZq-cr8.\n",
      "2022-09-06 19:07:37,925 - CuPdAu-energies_log - INFO - Wrote material with id XfrEm9MWTdOCr5nwVGcKqKdmsk2Q.\n",
      "2022-09-06 19:07:37,927 - CuPdAu-energies_log - INFO - Wrote material with id 5uJGXB1T4JuuUZfAUaXP2oBnNc-0.\n",
      "2022-09-06 19:07:37,929 - CuPdAu-energies_log - INFO - Wrote material with id bxJr_Te2oODGD_rdS1EeQQl9VaPi.\n",
      "2022-09-06 19:07:37,931 - CuPdAu-energies_log - INFO - Wrote material with id 8lFwJMlqPNESDx34y7sDS4KEMWyv.\n",
      "2022-09-06 19:07:37,933 - CuPdAu-energies_log - INFO - Wrote material with id PKmPV49UVI8N4gdHkiPoqZVM9rfK.\n",
      "2022-09-06 19:07:37,935 - CuPdAu-energies_log - INFO - Wrote material with id SG27iTOTiDOou0zNh9244iz_kdoG.\n",
      "2022-09-06 19:07:37,937 - CuPdAu-energies_log - INFO - Wrote material with id svECEdvFxG4xpw23oM9SAD-CvcrT.\n",
      "2022-09-06 19:07:37,939 - CuPdAu-energies_log - INFO - Wrote material with id h1IPSSik10FgEaXHoJPafiIhKIsq.\n",
      "2022-09-06 19:07:37,941 - CuPdAu-energies_log - INFO - Wrote material with id nTrjU4itN_dcCSOkmJgZnKOmSdvp.\n",
      "2022-09-06 19:07:37,943 - CuPdAu-energies_log - INFO - Wrote material with id LNJItFexVxqnW2rFMAY_8WxCjq4S.\n",
      "2022-09-06 19:07:37,944 - CuPdAu-energies_log - INFO - Wrote material with id YRvIdKaq6ECL9C_tUHo8NTTsz5CK.\n",
      "2022-09-06 19:07:37,947 - CuPdAu-energies_log - INFO - Wrote material with id PbwUvi8QXp5-flHLAs0zAuHJ_HWH.\n",
      "2022-09-06 19:07:37,949 - CuPdAu-energies_log - INFO - Wrote material with id RbKfuc8M-2TRjaREceVTWJO-2G66.\n",
      "2022-09-06 19:07:37,951 - CuPdAu-energies_log - INFO - Wrote material with id t5rZMgux78pnbeXxg0dK2tR6km9q.\n",
      "2022-09-06 19:07:37,953 - CuPdAu-energies_log - INFO - Wrote material with id 6DPvaogiJtZMBvc3uKOb4KhbGAPO.\n",
      "2022-09-06 19:07:37,955 - CuPdAu-energies_log - INFO - Wrote material with id rJ9TSd30K2W76AH_2AL4AQ3JwTTl.\n",
      "2022-09-06 19:07:37,957 - CuPdAu-energies_log - INFO - Wrote material with id -MUKuuzGEPx0IQQN0ZgUBdOiRh5O.\n",
      "2022-09-06 19:07:37,959 - CuPdAu-energies_log - INFO - Wrote material with id -OdfOEAXgn99IbUZ9Ebd3I-psr2e.\n",
      "2022-09-06 19:07:37,961 - CuPdAu-energies_log - INFO - Wrote material with id 3A_C1rDWlEr2ikE9kwYzl_YtaQK9.\n",
      "2022-09-06 19:07:37,964 - CuPdAu-energies_log - INFO - Wrote material with id s9a3rbvlgP5S7h9tfLVG1AJ0ZzOu.\n",
      "2022-09-06 19:07:37,966 - CuPdAu-energies_log - INFO - Wrote material with id 2RtHMNhVoDo8f0R2DutDX5sYB2_n.\n",
      "2022-09-06 19:07:37,968 - CuPdAu-energies_log - INFO - Wrote material with id ynjubyed0_xa6Q2OlHQvryPIN-Ye.\n",
      "2022-09-06 19:07:37,970 - CuPdAu-energies_log - INFO - Wrote material with id nmfNY4y4XbLaBUOR7J40DqDf-krY.\n",
      "2022-09-06 19:07:37,973 - CuPdAu-energies_log - INFO - Wrote material with id hQSoyHbW2kmEHDBtbm_BNvJXIUOx.\n",
      "2022-09-06 19:07:37,975 - CuPdAu-energies_log - INFO - Wrote material with id Z3za1RRojYk2d7uEbO42f3z5VDbq.\n",
      "2022-09-06 19:07:37,977 - CuPdAu-energies_log - INFO - Wrote material with id 75vxsJLHafODafloz2sso1F33uC6.\n",
      "2022-09-06 19:07:37,980 - CuPdAu-energies_log - INFO - Wrote material with id 2nOTn-dsFXvhzW7wKv_JlBFChdkt.\n",
      "2022-09-06 19:07:37,982 - CuPdAu-energies_log - INFO - Wrote material with id 9h6An049MVUiX6a8RoL_yjjRALNs.\n",
      "2022-09-06 19:07:37,984 - CuPdAu-energies_log - INFO - Wrote material with id MrNmmg79V8AUyqPjghDHbxpdmHVn.\n",
      "2022-09-06 19:07:37,986 - CuPdAu-energies_log - INFO - Wrote material with id s5kYvyaRa_wplFV8NXjlh8GumZnN.\n",
      "2022-09-06 19:07:37,988 - CuPdAu-energies_log - INFO - Wrote material with id FSy5orS-rVQQbrniW6CKEO5SGV2v.\n",
      "2022-09-06 19:07:37,991 - CuPdAu-energies_log - INFO - Wrote material with id 42hyxkNPdCl-kXTy3lBfyIV0ONAu.\n",
      "2022-09-06 19:07:37,993 - CuPdAu-energies_log - INFO - Wrote material with id AZJcIlmHOLWVgqrjH5I6iXCV1mXM.\n",
      "2022-09-06 19:07:37,995 - CuPdAu-energies_log - INFO - Wrote material with id 4m72a7R8r9NVfpuUfwjO7OuTe0Kg.\n",
      "2022-09-06 19:07:37,998 - CuPdAu-energies_log - INFO - Wrote material with id ST6zMymaVFlU6By6LPKj1vN4GqfG.\n",
      "2022-09-06 19:07:38,000 - CuPdAu-energies_log - INFO - Wrote material with id kWwYmC2j5wGLP-f8yerFqhJK4d53.\n",
      "2022-09-06 19:07:38,002 - CuPdAu-energies_log - INFO - Wrote material with id rWjyWlXjZOHUGhfEmy7z7ynNw0Ii.\n",
      "2022-09-06 19:07:38,005 - CuPdAu-energies_log - INFO - Wrote material with id eyCaccFbIAC-7rr6FbDQg8akaeDr.\n",
      "2022-09-06 19:07:38,007 - CuPdAu-energies_log - INFO - Wrote material with id Wgej-SIr9tN74M9Sl9ugp9SC32oC.\n",
      "2022-09-06 19:07:38,009 - CuPdAu-energies_log - INFO - Wrote material with id prCJjw-KJ_RCOYtBPIWViaOrxSh3.\n",
      "2022-09-06 19:07:38,011 - CuPdAu-energies_log - INFO - Wrote material with id E93RpBZBI8YFjV9RE1BPMHNQnATM.\n",
      "2022-09-06 19:07:38,013 - CuPdAu-energies_log - INFO - Wrote material with id rikHJznRAdwhxxDSFxOmXYloBX2d.\n",
      "2022-09-06 19:07:38,015 - CuPdAu-energies_log - INFO - Wrote material with id vkRP_HAoteZPfEpj_XJrCGx6qDRp.\n",
      "2022-09-06 19:07:38,017 - CuPdAu-energies_log - INFO - Wrote material with id Nhc2aAd1wWZHl_4hUplG__ATiAYt.\n",
      "2022-09-06 19:07:38,020 - CuPdAu-energies_log - INFO - Wrote material with id 209h7dMOUj2mjCkz_etiaq7L_oS6.\n",
      "2022-09-06 19:07:38,022 - CuPdAu-energies_log - INFO - Wrote material with id XgJOrUwiblAg05_rdf1HaxshdnSf.\n",
      "2022-09-06 19:07:38,023 - CuPdAu-energies_log - INFO - Wrote material with id 1X-ISf370i4c4wcgRudzX4x6CRCB.\n",
      "2022-09-06 19:07:38,026 - CuPdAu-energies_log - INFO - Wrote material with id OgU4E2hIjUyHVUnzkJPV-xIhDUT6.\n"
     ]
    }
   ],
   "source": [
    "db.fill_database(nomad_query, processing = DEFAULT_PROCESSING)"
   ]
  },
  {
   "cell_type": "markdown",
   "id": "bface1c1",
   "metadata": {},
   "source": [
    "The `proccessing` parameter is used to extract specific values from what the NOMAD API returns. It contains a dictionary\n",
    "```python\n",
    "{\"<property1 name>\" : <function to extract property1>,  \n",
    "\"<property2 name>\" : <function to extract property2>}\n",
    "```\n",
    "that provides names of properties and functions to extract them. We can look at the default:"
   ]
  },
  {
   "cell_type": "code",
   "execution_count": 17,
   "id": "30fa1f56",
   "metadata": {},
   "outputs": [
    {
     "name": "stdout",
     "output_type": "stream",
     "text": [
      "{'atoms': <function get_atoms at 0x7f721230de10>, 'energy_total': <function get_total_energy at 0x7f721230e5f0>}\n"
     ]
    }
   ],
   "source": [
    "print(DEFAULT_PROCESSING)"
   ]
  },
  {
   "cell_type": "markdown",
   "id": "8cc821c0",
   "metadata": {},
   "source": [
    "Consequently, the downloaded materials have atomic structures and total energy values. We can check that by selecting the first entry of the database:"
   ]
  },
  {
   "cell_type": "code",
   "execution_count": 18,
   "id": "eae65c9f",
   "metadata": {},
   "outputs": [
    {
     "data": {
      "text/plain": [
       "-17.23256886"
      ]
     },
     "execution_count": 18,
     "metadata": {},
     "output_type": "execute_result"
    }
   ],
   "source": [
    "db[0].data[\"energy_total\"]"
   ]
  },
  {
   "cell_type": "code",
   "execution_count": 19,
   "id": "f264b3c9",
   "metadata": {},
   "outputs": [
    {
     "name": "stdout",
     "output_type": "stream",
     "text": [
      "We have downloaded 196 materials\n"
     ]
    }
   ],
   "source": [
    "print(f\"We have downloaded {len(db)} materials\")"
   ]
  },
  {
   "cell_type": "markdown",
   "id": "e75f8bc0",
   "metadata": {},
   "source": [
    "Notice that you can not accidently repeat the download:"
   ]
  },
  {
   "cell_type": "code",
   "execution_count": 22,
   "id": "ac606657",
   "metadata": {},
   "outputs": [
    {
     "name": "stderr",
     "output_type": "stream",
     "text": [
      "2022-09-06 19:07:38,077 - CuPdAu-energies_log - ERROR - Query can not be serialized and therefore not logged.             To avoid this, please set `MaterialDatabase().json_encoder` to a `json.JsonEncoder` that can process your arguments.\n",
      "2022-09-06 19:07:38,078 - CuPdAu-energies_log - INFO - Filling database with calculations matching query: UNIDENTIFIED\n",
      "2022-09-06 19:07:38,086 - CuPdAu-energies_api - INFO - NOMAD client stdout: Fetching remote uploads...\n",
      "Fetching remote uploads...\n",
      "Downloading required data...\n",
      "\n",
      "2022-09-06 19:07:38,087 - CuPdAu-energies_api - ERROR - NOMAD client stderr: \n"
     ]
    }
   ],
   "source": [
    "db.fill_database(nomad_query, processing = DEFAULT_PROCESSING)"
   ]
  },
  {
   "cell_type": "markdown",
   "id": "0deb2559",
   "metadata": {},
   "source": [
    "## Analyzing data"
   ]
  },
  {
   "cell_type": "code",
   "execution_count": 20,
   "id": "5e852aa0",
   "metadata": {},
   "outputs": [],
   "source": [
    "import numpy as np\n",
    "import matplotlib.pyplot as plt"
   ]
  },
  {
   "cell_type": "markdown",
   "id": "81696510",
   "metadata": {},
   "source": [
    "For finding the most stable materials we need to first calculate the energy per atom, to be able to compare structures of different size."
   ]
  },
  {
   "cell_type": "code",
   "execution_count": 21,
   "id": "378eec71",
   "metadata": {},
   "outputs": [],
   "source": [
    "for material in db:\n",
    "    energy = material.data[\"energy_total\"]\n",
    "    n_atoms = material.atoms.get_global_number_of_atoms()\n",
    "    db.update_entry(material.mid, energy_per_atom = energy / n_atoms)"
   ]
  },
  {
   "cell_type": "markdown",
   "id": "5b884d77",
   "metadata": {},
   "source": [
    "You can extract the values we just created via:"
   ]
  },
  {
   "cell_type": "code",
   "execution_count": 22,
   "id": "d15a49a8",
   "metadata": {},
   "outputs": [],
   "source": [
    "energies_per_atom = db.get_properties(\"energy_per_atom\")"
   ]
  },
  {
   "cell_type": "markdown",
   "id": "3e699728",
   "metadata": {},
   "source": [
    "This operation is comparitively costly because it iterates over the full database and should not be overused. If you use a single property several time, it is better to store it in a list and not retrieve it every time from the database."
   ]
  },
  {
   "cell_type": "markdown",
   "id": "0c8db97b",
   "metadata": {},
   "source": [
    "We can plot a histogram of the thus obtained values."
   ]
  },
  {
   "cell_type": "code",
   "execution_count": 23,
   "id": "2fe3b3e0",
   "metadata": {},
   "outputs": [
    {
     "data": {
      "image/png": "[encoded data removed]",
      "text/plain": [
       "<Figure size 1000x500 with 1 Axes>"
      ]
     },
     "metadata": {},
     "output_type": "display_data"
    }
   ],
   "source": [
    "plt.figure(figsize=(10,5))\n",
    "plt.hist(energies_per_atom, bins = np.linspace(min(energies_per_atom), max(energies_per_atom), num = 100))\n",
    "plt.ylabel(\"Number of entries\")\n",
    "plt.xlabel(\"Energy per atom\")\n",
    "plt.show()"
   ]
  },
  {
   "cell_type": "markdown",
   "id": "59b3ba86",
   "metadata": {},
   "source": [
    "Already now we can see that there are several peaks of the energy.\n",
    "\n",
    "We are now going to find the lowest energy structure for each spacegroup. For this, we make use of the `ASE` `spacegroup`-subpackage, which uses `spglib` to find the space group of an `Atoms` object."
   ]
  },
  {
   "cell_type": "code",
   "execution_count": 24,
   "id": "27a9e1de",
   "metadata": {},
   "outputs": [],
   "source": [
    "from ase.spacegroup import get_spacegroup"
   ]
  },
  {
   "cell_type": "code",
   "execution_count": 25,
   "id": "c57a5f08",
   "metadata": {},
   "outputs": [],
   "source": [
    "spacegroups = []\n",
    "mids = []\n",
    "\n",
    "for entry in db:\n",
    "    spacegroups.append(get_spacegroup(entry.atoms).no)\n",
    "    mids.append(entry.mid)"
   ]
  },
  {
   "cell_type": "code",
   "execution_count": 26,
   "id": "d657de8b",
   "metadata": {},
   "outputs": [],
   "source": [
    "lowest_energies_per_spacegroup = dict()\n",
    "\n",
    "# for each unique spacegroup number\n",
    "for sg in set(spacegroups):\n",
    "    entries = filter(lambda x: x[0] == sg, zip(spacegroups, energies_per_atom, mids))\n",
    "    lowest_energies_per_spacegroup[sg] = min(entries, key = lambda x: x[1])[1:]"
   ]
  },
  {
   "cell_type": "markdown",
   "id": "9d6ff6cb",
   "metadata": {},
   "source": [
    "Let's visualize those:"
   ]
  },
  {
   "cell_type": "code",
   "execution_count": 27,
   "id": "c5b46b49",
   "metadata": {},
   "outputs": [
    {
     "data": {
      "text/plain": [
       "<matplotlib.collections.PathCollection at 0x7f71e9dec3a0>"
      ]
     },
     "execution_count": 27,
     "metadata": {},
     "output_type": "execute_result"
    },
    {
     "data": {
      "image/png": "[encoded data removed]",
      "text/plain": [
       "<Figure size 640x480 with 1 Axes>"
      ]
     },
     "metadata": {},
     "output_type": "display_data"
    }
   ],
   "source": [
    "plt.scatter(lowest_energies_per_spacegroup.keys(), [x[0] for x in lowest_energies_per_spacegroup.values()])"
   ]
  },
  {
   "cell_type": "code",
   "execution_count": 28,
   "id": "32d27668",
   "metadata": {},
   "outputs": [],
   "source": [
    "from simdatframe.plotting import plot_structure_by_mid"
   ]
  },
  {
   "cell_type": "code",
   "execution_count": 29,
   "id": "631b6a8d",
   "metadata": {},
   "outputs": [
    {
     "name": "stdout",
     "output_type": "stream",
     "text": [
      "Spacegroup: 119, VASP Energy per atom: -4.63693784\n",
      "NOMAD Entry: https://nomad-lab.eu/entry/id/7omYSioHNK6Tzce0x--pVtVsOBmB\n"
     ]
    },
    {
     "data": {
      "image/png": "[encoded data removed]",
      "text/plain": [
       "<Figure size 640x480 with 1 Axes>"
      ]
     },
     "metadata": {},
     "output_type": "display_data"
    },
    {
     "name": "stdout",
     "output_type": "stream",
     "text": [
      "Spacegroup: 123, VASP Energy per atom: -4.6355178525\n",
      "NOMAD Entry: https://nomad-lab.eu/entry/id/9wzIFf8nyMP0wOcHlORcUDVNkeq3\n"
     ]
    },
    {
     "data": {
      "image/png": "[encoded data removed]",
      "text/plain": [
       "<Figure size 640x480 with 1 Axes>"
      ]
     },
     "metadata": {},
     "output_type": "display_data"
    },
    {
     "name": "stdout",
     "output_type": "stream",
     "text": [
      "Spacegroup: 216, VASP Energy per atom: -4.631588568333333\n",
      "NOMAD Entry: https://nomad-lab.eu/entry/id/svECEdvFxG4xpw23oM9SAD-CvcrT\n"
     ]
    },
    {
     "data": {
      "image/png": "[encoded data removed]",
      "text/plain": [
       "<Figure size 640x480 with 1 Axes>"
      ]
     },
     "metadata": {},
     "output_type": "display_data"
    },
    {
     "name": "stdout",
     "output_type": "stream",
     "text": [
      "Spacegroup: 139, VASP Energy per atom: -4.6250125175\n",
      "NOMAD Entry: https://nomad-lab.eu/entry/id/4ZSJ0pkBsJ1tethMROMwf5IOfJLs\n"
     ]
    },
    {
     "data": {
      "image/png": "[encoded data removed]",
      "text/plain": [
       "<Figure size 640x480 with 1 Axes>"
      ]
     },
     "metadata": {},
     "output_type": "display_data"
    },
    {
     "name": "stdout",
     "output_type": "stream",
     "text": [
      "Spacegroup: 12, VASP Energy per atom: -4.6243610825\n",
      "NOMAD Entry: https://nomad-lab.eu/entry/id/gkpYjCnLA2yOj-PGgHEySHZMBUUu\n"
     ]
    },
    {
     "data": {
      "image/png": "[encoded data removed]",
      "text/plain": [
       "<Figure size 640x480 with 1 Axes>"
      ]
     },
     "metadata": {},
     "output_type": "display_data"
    }
   ],
   "source": [
    "for item in sorted(lowest_energies_per_spacegroup.items(), key = lambda x: x[1][0])[:5]:\n",
    "    print(f\"Spacegroup: {item[0]}, VASP Energy per atom: {item[1][0]}\")\n",
    "    print(f\"NOMAD Entry: https://nomad-lab.eu/entry/id/{item[1][1]}\")\n",
    "    plot_structure_by_mid(item[1][1], db, repeat=[1,1,1], show_unit_cell=2)"
   ]
  },
  {
   "cell_type": "markdown",
   "id": "a4726da2",
   "metadata": {},
   "source": [
    "The energy differences per atom for these most stable materials are $\\sim 1$ meV per atom."
   ]
  },
  {
   "cell_type": "markdown",
   "id": "73a8f058",
   "metadata": {},
   "source": [
    "## Interpret-log-files\n",
    "\n",
    "During the analysis above, many entries have been written to the log file. These can be used, e.g. to find errernous entries in the external databases, or debug the download process. You can find the path to the log files via:"
   ]
  },
  {
   "cell_type": "code",
   "execution_count": 30,
   "id": "949a0f7d",
   "metadata": {},
   "outputs": [
    {
     "data": {
      "text/plain": [
       "'/users/stud/kuban/PhD/similarity/simdatframe_doc/tutorials/data/.CuPdAu-energies_logs/CuPdAu-energies_errors.log'"
      ]
     },
     "execution_count": 30,
     "metadata": {},
     "output_type": "execute_result"
    }
   ],
   "source": [
    "db.log_file_path"
   ]
  },
  {
   "cell_type": "markdown",
   "id": "8245706f",
   "metadata": {},
   "source": [
    "You can read the logs by printing them to screen:"
   ]
  },
  {
   "cell_type": "code",
   "execution_count": 31,
   "id": "87659c68",
   "metadata": {},
   "outputs": [
    {
     "name": "stdout",
     "output_type": "stream",
     "text": [
      "2022-09-06 19:07:38,022 - CuPdAu-energies_log - INFO - Wrote material with id XgJOrUwiblAg05_rdf1HaxshdnSf.\r\n",
      "2022-09-06 19:07:38,023 - CuPdAu-energies_log - INFO - Wrote material with id 1X-ISf370i4c4wcgRudzX4x6CRCB.\r\n",
      "2022-09-06 19:07:38,026 - CuPdAu-energies_log - INFO - Wrote material with id OgU4E2hIjUyHVUnzkJPV-xIhDUT6.\r\n",
      "2022-09-06 19:07:38,077 - CuPdAu-energies_log - ERROR - Query can not be serialized and therefore not logged.             To avoid this, please set `MaterialDatabase().json_encoder` to a `json.JsonEncoder` that can process your arguments.\r\n",
      "2022-09-06 19:07:38,078 - CuPdAu-energies_log - INFO - Filling database with calculations matching query: UNIDENTIFIED\r\n",
      "2022-09-06 19:07:38,086 - CuPdAu-energies_api - INFO - NOMAD client stdout: Fetching remote uploads...\r\n",
      "Fetching remote uploads...\r\n",
      "Downloading required data...\r\n",
      "\r\n",
      "2022-09-06 19:07:38,087 - CuPdAu-energies_api - ERROR - NOMAD client stderr: \r\n"
     ]
    }
   ],
   "source": [
    "!tail -n 10 {db.log_file_path}"
   ]
  },
  {
   "cell_type": "markdown",
   "id": "9dd725f5",
   "metadata": {},
   "source": [
    "The entries contain the date, time, name of the log file, the severity and an explaination of the error."
   ]
  },
  {
   "cell_type": "markdown",
   "id": "950788ae",
   "metadata": {},
   "source": [
    "In the next tutorial we will explore material fingerprints and how to set up machine learning tools."
   ]
  }
 ],
 "metadata": {
  "kernelspec": {
   "display_name": "simdatframe-doc",
   "language": "python",
   "name": "simdatframe-doc"
  },
  "language_info": {
   "codemirror_mode": {
    "name": "ipython",
    "version": 3
   },
   "file_extension": ".py",
   "mimetype": "text/x-python",
   "name": "python",
   "nbconvert_exporter": "python",
   "pygments_lexer": "ipython3",
   "version": "3.10.4"
  },
  "vscode": {
   "interpreter": {
    "hash": "2830340e70c3c7acf476968f6bdd24a196b47acf07989c0ff685a6443eda1659"
   }
  }
 },
 "nbformat": 4,
 "nbformat_minor": 5
}
