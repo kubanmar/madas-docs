{
 "cells": [
  {
   "cell_type": "code",
   "execution_count": 1,
   "id": "263a77f3",
   "metadata": {},
   "outputs": [],
   "source": [
    "def get_dos_energies(archive: dict) -> list:\n",
    "    archive=archive['archive']\n",
    "    data_path = archive['results']['properties']['electronic']['dos_electronic']['energies'].strip().strip(\"/\")\n",
    "    efermi = archive['results']['properties']['electronic']['dos_electronic']['energy_fermi']\n",
    "    energies = resolve_nested_dict(archive, data_path, error_message=\"failed to resolve dos energies\")\n",
    "    if energies == None:\n",
    "        return [None]\n",
    "    return [(x - efermi) / electron_volt for x in energies]\n",
    "    \n",
    "    \n",
    "def get_total_dos_values(archive: dict) -> list:\n",
    "    archive=archive['archive']\n",
    "    tdos = None\n",
    "    for idx, data_path in enumerate(archive['results']['properties']['electronic']['dos_electronic']['total']):\n",
    "        path_ = data_path.strip().strip(\"/\")\n",
    "        pdos_dict = resolve_nested_dict(archive, path_, error_message=\"failed to resolve dos values\", fail_on_key_error=False)\n",
    "        normalization = pdos_dict['normalization_factor']\n",
    "        pdos = [x * normalization for x in pdos_dict['value']]\n",
    "        if pdos == None:\n",
    "            return [None]\n",
    "        if idx == 0:\n",
    "            tdos = np.array(pdos)\n",
    "        else:\n",
    "            tdos += pdos\n",
    "    return [x*electron_volt for x in tdos]"
   ]
  },
  {
   "cell_type": "code",
   "execution_count": null,
   "id": "2458a29f",
   "metadata": {},
   "outputs": [],
   "source": []
  }
 ],
 "metadata": {
  "kernelspec": {
   "display_name": "simdatframe-doc",
   "language": "python",
   "name": "simdatframe-doc"
  },
  "language_info": {
   "codemirror_mode": {
    "name": "ipython",
    "version": 3
   },
   "file_extension": ".py",
   "mimetype": "text/x-python",
   "name": "python",
   "nbconvert_exporter": "python",
   "pygments_lexer": "ipython3",
   "version": "3.10.4"
  }
 },
 "nbformat": 4,
 "nbformat_minor": 5
}
