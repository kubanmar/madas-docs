{
 "cells": [
  {
   "cell_type": "markdown",
   "metadata": {},
   "source": [
    "# Tutorial 4: Large similarity matrices"
   ]
  },
  {
   "cell_type": "markdown",
   "metadata": {},
   "source": [
    "In this tutorial you are going to learn how to:\n",
    "\n",
    "<div class=\"alert alert-block alert-warning\">\n",
    "    \n",
    "**[Set up a batched similarity matrix](#Setup)**\n",
    "\n",
    "**[Run the calculation](#Running-the-calculation)**\n",
    "\n",
    "**[Write the file of most similar material](#Most-similar-materials-search)**\n",
    "    \n",
    "</div>\n",
    "\n",
    "Let's get started!"
   ]
  },
  {
   "cell_type": "markdown",
   "metadata": {},
   "source": [
    "## Setup\n",
    "\n",
    "When a large number of materials should be compared to find the most similar materials, it can happen that the computers memory can not hold the full matrix, or, the calculation of similarity can be slow, requiring a large degree of parallelization to obtain results in a reasonable time. \n",
    "\n",
    "For this pupose, a `BatchedSimilarityMatrix` can be used to distribute the calculation of the matrix over different processes. This is achieved by dividing the matrix into different sub-matrices, where each sub-matrix contains the similarity between two _batches_ of fingerprints. This allows to scale the calculation up to an arbitrary number of independent tasks.\n",
    "\n",
    "First, we load the database and extract the fingerprints. For demonstration purposes we use the PTE fingerprint here, it can be done with any type of `Fingerprint`."
   ]
  },
  {
   "cell_type": "code",
   "execution_count": 1,
   "metadata": {},
   "outputs": [],
   "source": [
    "from madas import MaterialsDatabase\n",
    "\n",
    "db = MaterialsDatabase(filename=\"CuPdAu-energies.db\")\n",
    "assert len(db) == 196, \"Please run tutorial 1 first!\""
   ]
  },
  {
   "cell_type": "code",
   "execution_count": 2,
   "metadata": {},
   "outputs": [
    {
     "data": {
      "application/vnd.jupyter.widget-view+json": {
       "model_id": "2fdde8a149dc43639d93798066874da7",
       "version_major": 2,
       "version_minor": 0
      },
      "text/plain": [
       "  0%|          | 0/196 [00:00<?, ?it/s]"
      ]
     },
     "metadata": {},
     "output_type": "display_data"
    }
   ],
   "source": [
    "fp_list = db.get_fingerprints(\"PTE\")"
   ]
  },
  {
   "cell_type": "code",
   "execution_count": 3,
   "metadata": {},
   "outputs": [
    {
     "name": "stdout",
     "output_type": "stream",
     "text": [
      "Got 196 fingerprints!\n"
     ]
    }
   ],
   "source": [
    "print(f\"Got {len(fp_list)} fingerprints!\")"
   ]
  },
  {
   "cell_type": "markdown",
   "metadata": {},
   "source": [
    "Next, we need to serialize the fingerprints and write them to an external file."
   ]
  },
  {
   "cell_type": "code",
   "execution_count": 4,
   "metadata": {},
   "outputs": [],
   "source": [
    "import json"
   ]
  },
  {
   "cell_type": "code",
   "execution_count": 5,
   "metadata": {},
   "outputs": [],
   "source": [
    "with open(\"data/CuPdAu_PTE_fingerprints.json\", \"w\") as f:\n",
    "    json.dump([fp.serialize() for fp in fp_list], f)"
   ]
  },
  {
   "cell_type": "markdown",
   "metadata": {},
   "source": [
    "The next steps require us to import the `BatchedSimilarityMatrix`."
   ]
  },
  {
   "cell_type": "code",
   "execution_count": 6,
   "metadata": {},
   "outputs": [],
   "source": [
    "from madas.similarity import BatchedSimilarityMatrix"
   ]
  },
  {
   "cell_type": "markdown",
   "metadata": {},
   "source": [
    "In the next step, we are going to generate the file structure that holds the large similarity matrix and split the large fingerprints file into smaller _batches_."
   ]
  },
  {
   "cell_type": "code",
   "execution_count": 7,
   "metadata": {},
   "outputs": [],
   "source": [
    "bsm = BatchedSimilarityMatrix(root_path=\"data\", # relative path where the matrix is stored\n",
    "                              matrix_folder_name=\"CuPdAu_bsm\", # name of the folder that holds sub-matrices\n",
    "                              # name of the initial fingerprint file\n",
    "                              fingerprint_files_name=\"CuPdAu_PTE_fingerprints.json\",  \n",
    "                              batch_size=10, # size of a batch, i.e., the size of individual sub-matrices\n",
    "                              n_tasks=2, # Number of individual tasks for calculating the matrix\n",
    "                              load_from_file=True) # read matrix metadata from file"
   ]
  },
  {
   "cell_type": "code",
   "execution_count": 8,
   "metadata": {},
   "outputs": [],
   "source": [
    "bsm.fingerprint_file_batches(bsm.fingerprint_files_name, fingerprint_file_path=\"data\")"
   ]
  },
  {
   "cell_type": "markdown",
   "metadata": {},
   "source": [
    "You can see how many fingerprint files have been created by:"
   ]
  },
  {
   "cell_type": "code",
   "execution_count": 9,
   "metadata": {},
   "outputs": [
    {
     "name": "stdout",
     "output_type": "stream",
     "text": [
      "CuPdAu_PTE_fingerprints.json_0_10.json\r\n",
      "CuPdAu_PTE_fingerprints.json_100_110.json\r\n",
      "CuPdAu_PTE_fingerprints.json_10_20.json\r\n",
      "CuPdAu_PTE_fingerprints.json_110_120.json\r\n",
      "CuPdAu_PTE_fingerprints.json_120_130.json\r\n",
      "CuPdAu_PTE_fingerprints.json_130_140.json\r\n",
      "CuPdAu_PTE_fingerprints.json_140_150.json\r\n",
      "CuPdAu_PTE_fingerprints.json_150_160.json\r\n",
      "CuPdAu_PTE_fingerprints.json_160_170.json\r\n",
      "CuPdAu_PTE_fingerprints.json_170_180.json\r\n",
      "CuPdAu_PTE_fingerprints.json_180_190.json\r\n",
      "CuPdAu_PTE_fingerprints.json_190_196.json\r\n",
      "CuPdAu_PTE_fingerprints.json_20_30.json\r\n",
      "CuPdAu_PTE_fingerprints.json_30_40.json\r\n",
      "CuPdAu_PTE_fingerprints.json_40_50.json\r\n",
      "CuPdAu_PTE_fingerprints.json_50_60.json\r\n",
      "CuPdAu_PTE_fingerprints.json_60_70.json\r\n",
      "CuPdAu_PTE_fingerprints.json_70_80.json\r\n",
      "CuPdAu_PTE_fingerprints.json_80_90.json\r\n",
      "CuPdAu_PTE_fingerprints.json_90_100.json\r\n",
      "CuPdAu_bsm_metadata.json\r\n"
     ]
    }
   ],
   "source": [
    "!ls data/CuPdAu_bsm | grep json"
   ]
  },
  {
   "cell_type": "markdown",
   "metadata": {},
   "source": [
    "Having this prepared, we can continue by:"
   ]
  },
  {
   "cell_type": "markdown",
   "metadata": {},
   "source": [
    "## Running the calculation\n",
    "\n",
    "For running the calculation, we can decide how many individual tasks can be used. This depends on the availability of, e.g., a compute cluster. In this example, we are going to assume you have a SLURM workload manager installed.\n",
    "\n",
    "First, we need to write a python script that is executed on each computed node:"
   ]
  },
  {
   "cell_type": "markdown",
   "metadata": {},
   "source": [
    "```python\n",
    "from madas.similarity import BatchedSimilarityMatrix\n",
    "from madas.fingerprints.PTE_fingerprint import PTE_similarity\n",
    "\n",
    "import os\n",
    "\n",
    "MATRIX_ROOT_PATH = \"<absolute path to the matrix folder>\"\n",
    "\n",
    "def main():\n",
    "    n_tasks = int(os.getenv('SLURM_NTASKS')) # SLURM sets the number of tasks as environmental variables \n",
    "    task_id = int(os.getenv('SLURM_PROCID')) # This is the id of the task that runs this script\n",
    "    \n",
    "    matrix = BatchedSimilarityMatrix(root_path=MATRIX_ROOT_PATH, matrix_folder_name=\"CuPdAu_bsm\")\n",
    "    \n",
    "    # To make sure that the correct number of tasks and task id are used, we set them explicitly.\n",
    "    # If the number of tasks is not set correctly, it can happen that some parts of the matrix\n",
    "    # are not calculated.\n",
    "    matrix.set_n_tasks(n_tasks)\n",
    "    matrix.set_task_id(task_id)\n",
    "    \n",
    "    # Printing the number of matrices for each task helps to estimate the runtime\n",
    "    print(f\"Task {task_id} calculating {matrix.matrices_for_this_task} matrices.\")\n",
    "\n",
    "    # Here we start calculating all sub-matrices for this task\n",
    "    matrix.calculate(PTE_similarity)\n",
    "\n",
    "if __name__ == \"__main__\":\n",
    "    main()\n",
    "```"
   ]
  },
  {
   "cell_type": "markdown",
   "metadata": {},
   "source": [
    "You can write this code to a file.\n",
    "\n",
    "Next, we need a submission script, that tells SLURM what to do:"
   ]
  },
  {
   "cell_type": "markdown",
   "metadata": {},
   "source": [
    "```bash\n",
    "#!/bin/bash\n",
    "#SBATCH -p <name-of-queue>\n",
    "\n",
    "# The name of the job:\n",
    "#SBATCH --job-name=\"batched_similarity_matrix_calculation_tutorial\"\n",
    "\n",
    "#SBATCH -o simat_test.out\n",
    "#SBATCH -e simat_test.err\n",
    "# Here we use two different tasks\n",
    "#SBATCH --ntasks=2 \n",
    "#SBATCH --cpus-per-task=2\n",
    "#SBATCH --tasks-per-node=1\n",
    "\n",
    "#SBATCH --time=01:00:00\n",
    "\n",
    "source <path-to-venv-where-madas-is-installed>\n",
    "\n",
    "time srun python -u <name-of-python-runscript>\n",
    "```"
   ]
  },
  {
   "cell_type": "markdown",
   "metadata": {},
   "source": [
    "To simulate the behaviour of the code, and since the matrix is small in this case, we can run each task individually:"
   ]
  },
  {
   "cell_type": "code",
   "execution_count": 10,
   "metadata": {},
   "outputs": [
    {
     "name": "stdout",
     "output_type": "stream",
     "text": [
      "Task 0 calculating 105 matrices.\n",
      "Task 1 calculating 105 matrices.\n"
     ]
    }
   ],
   "source": [
    "from madas.fingerprints.PTE_fingerprint import PTE_similarity\n",
    "\n",
    "for task_id in range(bsm.n_tasks):\n",
    "    bsm.set_task_id(task_id)\n",
    "    print(f\"Task {task_id} calculating {bsm.matrices_for_this_task} matrices.\")\n",
    "    bsm.calculate(PTE_similarity)"
   ]
  },
  {
   "cell_type": "markdown",
   "metadata": {},
   "source": [
    "In order to be able to restart calculations, the `BatchedSimilarityMatrix` will skip exisiting sub-matrices. To overwrite them, use the keyword argument `BatchedSimilarityMatrix().calculate(<similarity_function>, overwrite=True)`."
   ]
  },
  {
   "cell_type": "markdown",
   "metadata": {},
   "source": [
    "We can inspect what was created by this process by looking into the matrix folder:"
   ]
  },
  {
   "cell_type": "code",
   "execution_count": 11,
   "metadata": {},
   "outputs": [
    {
     "name": "stdout",
     "output_type": "stream",
     "text": [
      "CuPdAu_bsm_0_10__0_10.npy\r\n",
      "CuPdAu_bsm_0_10__100_110.npy\r\n",
      "CuPdAu_bsm_0_10__10_20.npy\r\n",
      "CuPdAu_bsm_0_10__110_120.npy\r\n",
      "CuPdAu_bsm_0_10__120_130.npy\r\n",
      "CuPdAu_bsm_0_10__130_140.npy\r\n",
      "CuPdAu_bsm_0_10__140_150.npy\r\n",
      "CuPdAu_bsm_0_10__150_160.npy\r\n",
      "CuPdAu_bsm_0_10__160_170.npy\r\n",
      "CuPdAu_bsm_0_10__170_180.npy\r\n",
      "CuPdAu_bsm_0_10__180_190.npy\r\n",
      "CuPdAu_bsm_0_10__190_196.npy\r\n",
      "CuPdAu_bsm_0_10__20_30.npy\r\n",
      "CuPdAu_bsm_0_10__30_40.npy\r\n",
      "CuPdAu_bsm_0_10__40_50.npy\r\n",
      "CuPdAu_bsm_0_10__50_60.npy\r\n",
      "CuPdAu_bsm_0_10__60_70.npy\r\n",
      "CuPdAu_bsm_0_10__70_80.npy\r\n",
      "CuPdAu_bsm_0_10__80_90.npy\r\n",
      "CuPdAu_bsm_0_10__90_100.npy\r\n",
      "CuPdAu_bsm_100_110__100_110.npy\r\n",
      "CuPdAu_bsm_100_110__110_120.npy\r\n",
      "CuPdAu_bsm_100_110__120_130.npy\r\n",
      "CuPdAu_bsm_100_110__130_140.npy\r\n",
      "CuPdAu_bsm_100_110__140_150.npy\r\n",
      "CuPdAu_bsm_100_110__150_160.npy\r\n",
      "CuPdAu_bsm_100_110__160_170.npy\r\n",
      "CuPdAu_bsm_100_110__170_180.npy\r\n",
      "CuPdAu_bsm_100_110__180_190.npy\r\n",
      "CuPdAu_bsm_100_110__190_196.npy\r\n",
      "CuPdAu_bsm_10_20__100_110.npy\r\n",
      "CuPdAu_bsm_10_20__10_20.npy\r\n",
      "CuPdAu_bsm_10_20__110_120.npy\r\n",
      "CuPdAu_bsm_10_20__120_130.npy\r\n",
      "CuPdAu_bsm_10_20__130_140.npy\r\n",
      "CuPdAu_bsm_10_20__140_150.npy\r\n",
      "CuPdAu_bsm_10_20__150_160.npy\r\n",
      "CuPdAu_bsm_10_20__160_170.npy\r\n",
      "CuPdAu_bsm_10_20__170_180.npy\r\n",
      "CuPdAu_bsm_10_20__180_190.npy\r\n",
      "CuPdAu_bsm_10_20__190_196.npy\r\n",
      "CuPdAu_bsm_10_20__20_30.npy\r\n",
      "CuPdAu_bsm_10_20__30_40.npy\r\n",
      "CuPdAu_bsm_10_20__40_50.npy\r\n",
      "CuPdAu_bsm_10_20__50_60.npy\r\n",
      "CuPdAu_bsm_10_20__60_70.npy\r\n",
      "CuPdAu_bsm_10_20__70_80.npy\r\n",
      "CuPdAu_bsm_10_20__80_90.npy\r\n",
      "CuPdAu_bsm_10_20__90_100.npy\r\n",
      "CuPdAu_bsm_110_120__110_120.npy\r\n",
      "CuPdAu_bsm_110_120__120_130.npy\r\n",
      "CuPdAu_bsm_110_120__130_140.npy\r\n",
      "CuPdAu_bsm_110_120__140_150.npy\r\n",
      "CuPdAu_bsm_110_120__150_160.npy\r\n",
      "CuPdAu_bsm_110_120__160_170.npy\r\n",
      "CuPdAu_bsm_110_120__170_180.npy\r\n",
      "CuPdAu_bsm_110_120__180_190.npy\r\n",
      "CuPdAu_bsm_110_120__190_196.npy\r\n",
      "CuPdAu_bsm_120_130__120_130.npy\r\n",
      "CuPdAu_bsm_120_130__130_140.npy\r\n",
      "CuPdAu_bsm_120_130__140_150.npy\r\n",
      "CuPdAu_bsm_120_130__150_160.npy\r\n",
      "CuPdAu_bsm_120_130__160_170.npy\r\n",
      "CuPdAu_bsm_120_130__170_180.npy\r\n",
      "CuPdAu_bsm_120_130__180_190.npy\r\n",
      "CuPdAu_bsm_120_130__190_196.npy\r\n",
      "CuPdAu_bsm_130_140__130_140.npy\r\n",
      "CuPdAu_bsm_130_140__140_150.npy\r\n",
      "CuPdAu_bsm_130_140__150_160.npy\r\n",
      "CuPdAu_bsm_130_140__160_170.npy\r\n",
      "CuPdAu_bsm_130_140__170_180.npy\r\n",
      "CuPdAu_bsm_130_140__180_190.npy\r\n",
      "CuPdAu_bsm_130_140__190_196.npy\r\n",
      "CuPdAu_bsm_140_150__140_150.npy\r\n",
      "CuPdAu_bsm_140_150__150_160.npy\r\n",
      "CuPdAu_bsm_140_150__160_170.npy\r\n",
      "CuPdAu_bsm_140_150__170_180.npy\r\n",
      "CuPdAu_bsm_140_150__180_190.npy\r\n",
      "CuPdAu_bsm_140_150__190_196.npy\r\n",
      "CuPdAu_bsm_150_160__150_160.npy\r\n",
      "CuPdAu_bsm_150_160__160_170.npy\r\n",
      "CuPdAu_bsm_150_160__170_180.npy\r\n",
      "CuPdAu_bsm_150_160__180_190.npy\r\n",
      "CuPdAu_bsm_150_160__190_196.npy\r\n",
      "CuPdAu_bsm_160_170__160_170.npy\r\n",
      "CuPdAu_bsm_160_170__170_180.npy\r\n",
      "CuPdAu_bsm_160_170__180_190.npy\r\n",
      "CuPdAu_bsm_160_170__190_196.npy\r\n",
      "CuPdAu_bsm_170_180__170_180.npy\r\n",
      "CuPdAu_bsm_170_180__180_190.npy\r\n",
      "CuPdAu_bsm_170_180__190_196.npy\r\n",
      "CuPdAu_bsm_180_190__180_190.npy\r\n",
      "CuPdAu_bsm_180_190__190_196.npy\r\n",
      "CuPdAu_bsm_190_196__190_196.npy\r\n",
      "CuPdAu_bsm_20_30__100_110.npy\r\n",
      "CuPdAu_bsm_20_30__110_120.npy\r\n",
      "CuPdAu_bsm_20_30__120_130.npy\r\n",
      "CuPdAu_bsm_20_30__130_140.npy\r\n",
      "CuPdAu_bsm_20_30__140_150.npy\r\n",
      "CuPdAu_bsm_20_30__150_160.npy\r\n",
      "CuPdAu_bsm_20_30__160_170.npy\r\n",
      "CuPdAu_bsm_20_30__170_180.npy\r\n",
      "CuPdAu_bsm_20_30__180_190.npy\r\n",
      "CuPdAu_bsm_20_30__190_196.npy\r\n",
      "CuPdAu_bsm_20_30__20_30.npy\r\n",
      "CuPdAu_bsm_20_30__30_40.npy\r\n",
      "CuPdAu_bsm_20_30__40_50.npy\r\n",
      "CuPdAu_bsm_20_30__50_60.npy\r\n",
      "CuPdAu_bsm_20_30__60_70.npy\r\n",
      "CuPdAu_bsm_20_30__70_80.npy\r\n",
      "CuPdAu_bsm_20_30__80_90.npy\r\n",
      "CuPdAu_bsm_20_30__90_100.npy\r\n",
      "CuPdAu_bsm_30_40__100_110.npy\r\n",
      "CuPdAu_bsm_30_40__110_120.npy\r\n",
      "CuPdAu_bsm_30_40__120_130.npy\r\n",
      "CuPdAu_bsm_30_40__130_140.npy\r\n",
      "CuPdAu_bsm_30_40__140_150.npy\r\n",
      "CuPdAu_bsm_30_40__150_160.npy\r\n",
      "CuPdAu_bsm_30_40__160_170.npy\r\n",
      "CuPdAu_bsm_30_40__170_180.npy\r\n",
      "CuPdAu_bsm_30_40__180_190.npy\r\n",
      "CuPdAu_bsm_30_40__190_196.npy\r\n",
      "CuPdAu_bsm_30_40__30_40.npy\r\n",
      "CuPdAu_bsm_30_40__40_50.npy\r\n",
      "CuPdAu_bsm_30_40__50_60.npy\r\n",
      "CuPdAu_bsm_30_40__60_70.npy\r\n",
      "CuPdAu_bsm_30_40__70_80.npy\r\n",
      "CuPdAu_bsm_30_40__80_90.npy\r\n",
      "CuPdAu_bsm_30_40__90_100.npy\r\n",
      "CuPdAu_bsm_40_50__100_110.npy\r\n",
      "CuPdAu_bsm_40_50__110_120.npy\r\n",
      "CuPdAu_bsm_40_50__120_130.npy\r\n",
      "CuPdAu_bsm_40_50__130_140.npy\r\n",
      "CuPdAu_bsm_40_50__140_150.npy\r\n",
      "CuPdAu_bsm_40_50__150_160.npy\r\n",
      "CuPdAu_bsm_40_50__160_170.npy\r\n",
      "CuPdAu_bsm_40_50__170_180.npy\r\n",
      "CuPdAu_bsm_40_50__180_190.npy\r\n",
      "CuPdAu_bsm_40_50__190_196.npy\r\n",
      "CuPdAu_bsm_40_50__40_50.npy\r\n",
      "CuPdAu_bsm_40_50__50_60.npy\r\n",
      "CuPdAu_bsm_40_50__60_70.npy\r\n",
      "CuPdAu_bsm_40_50__70_80.npy\r\n",
      "CuPdAu_bsm_40_50__80_90.npy\r\n",
      "CuPdAu_bsm_40_50__90_100.npy\r\n",
      "CuPdAu_bsm_50_60__100_110.npy\r\n",
      "CuPdAu_bsm_50_60__110_120.npy\r\n",
      "CuPdAu_bsm_50_60__120_130.npy\r\n",
      "CuPdAu_bsm_50_60__130_140.npy\r\n",
      "CuPdAu_bsm_50_60__140_150.npy\r\n",
      "CuPdAu_bsm_50_60__150_160.npy\r\n",
      "CuPdAu_bsm_50_60__160_170.npy\r\n",
      "CuPdAu_bsm_50_60__170_180.npy\r\n",
      "CuPdAu_bsm_50_60__180_190.npy\r\n",
      "CuPdAu_bsm_50_60__190_196.npy\r\n",
      "CuPdAu_bsm_50_60__50_60.npy\r\n",
      "CuPdAu_bsm_50_60__60_70.npy\r\n",
      "CuPdAu_bsm_50_60__70_80.npy\r\n",
      "CuPdAu_bsm_50_60__80_90.npy\r\n",
      "CuPdAu_bsm_50_60__90_100.npy\r\n",
      "CuPdAu_bsm_60_70__100_110.npy\r\n",
      "CuPdAu_bsm_60_70__110_120.npy\r\n",
      "CuPdAu_bsm_60_70__120_130.npy\r\n",
      "CuPdAu_bsm_60_70__130_140.npy\r\n",
      "CuPdAu_bsm_60_70__140_150.npy\r\n",
      "CuPdAu_bsm_60_70__150_160.npy\r\n",
      "CuPdAu_bsm_60_70__160_170.npy\r\n",
      "CuPdAu_bsm_60_70__170_180.npy\r\n",
      "CuPdAu_bsm_60_70__180_190.npy\r\n",
      "CuPdAu_bsm_60_70__190_196.npy\r\n",
      "CuPdAu_bsm_60_70__60_70.npy\r\n",
      "CuPdAu_bsm_60_70__70_80.npy\r\n",
      "CuPdAu_bsm_60_70__80_90.npy\r\n",
      "CuPdAu_bsm_60_70__90_100.npy\r\n",
      "CuPdAu_bsm_70_80__100_110.npy\r\n",
      "CuPdAu_bsm_70_80__110_120.npy\r\n",
      "CuPdAu_bsm_70_80__120_130.npy\r\n",
      "CuPdAu_bsm_70_80__130_140.npy\r\n",
      "CuPdAu_bsm_70_80__140_150.npy\r\n",
      "CuPdAu_bsm_70_80__150_160.npy\r\n",
      "CuPdAu_bsm_70_80__160_170.npy\r\n",
      "CuPdAu_bsm_70_80__170_180.npy\r\n",
      "CuPdAu_bsm_70_80__180_190.npy\r\n",
      "CuPdAu_bsm_70_80__190_196.npy\r\n",
      "CuPdAu_bsm_70_80__70_80.npy\r\n",
      "CuPdAu_bsm_70_80__80_90.npy\r\n",
      "CuPdAu_bsm_70_80__90_100.npy\r\n",
      "CuPdAu_bsm_80_90__100_110.npy\r\n",
      "CuPdAu_bsm_80_90__110_120.npy\r\n",
      "CuPdAu_bsm_80_90__120_130.npy\r\n",
      "CuPdAu_bsm_80_90__130_140.npy\r\n",
      "CuPdAu_bsm_80_90__140_150.npy\r\n",
      "CuPdAu_bsm_80_90__150_160.npy\r\n",
      "CuPdAu_bsm_80_90__160_170.npy\r\n",
      "CuPdAu_bsm_80_90__170_180.npy\r\n",
      "CuPdAu_bsm_80_90__180_190.npy\r\n",
      "CuPdAu_bsm_80_90__190_196.npy\r\n",
      "CuPdAu_bsm_80_90__80_90.npy\r\n",
      "CuPdAu_bsm_80_90__90_100.npy\r\n",
      "CuPdAu_bsm_90_100__100_110.npy\r\n",
      "CuPdAu_bsm_90_100__110_120.npy\r\n",
      "CuPdAu_bsm_90_100__120_130.npy\r\n",
      "CuPdAu_bsm_90_100__130_140.npy\r\n",
      "CuPdAu_bsm_90_100__140_150.npy\r\n",
      "CuPdAu_bsm_90_100__150_160.npy\r\n",
      "CuPdAu_bsm_90_100__160_170.npy\r\n",
      "CuPdAu_bsm_90_100__170_180.npy\r\n",
      "CuPdAu_bsm_90_100__180_190.npy\r\n",
      "CuPdAu_bsm_90_100__190_196.npy\r\n",
      "CuPdAu_bsm_90_100__90_100.npy\r\n"
     ]
    }
   ],
   "source": [
    "!ls data/CuPdAu_bsm | grep npy"
   ]
  },
  {
   "cell_type": "markdown",
   "metadata": {},
   "source": [
    "## Most similar materials search\n",
    "As the matrix is calculated, we can search for the most similar materials. This is also optimized to be done with multiple independent tasks. Therefore, we compose a new python script."
   ]
  },
  {
   "cell_type": "markdown",
   "metadata": {},
   "source": [
    "```python\n",
    "from madas.similarity import BatchedSimilarityMatrix\n",
    "\n",
    "import os\n",
    "\n",
    "MATRIX_ROOT_PATH = \"<absolute path to the matrix folder>\"\n",
    "\n",
    "def main():\n",
    "    n_tasks = int(os.getenv('SLURM_NTASKS')) # SLURM sets the number of tasks as environmental variables \n",
    "    task_id = int(os.getenv('SLURM_PROCID')) # This is the id of the task that runs this script\n",
    "    \n",
    "    matrix = BatchedSimilarityMatrix(root_path=MATRIX_ROOT_PATH, matrix_folder_name=\"CuPdAu_bsm\")\n",
    "    \n",
    "    # To make sure that the correct number of tasks and task id are used, we set them explicitly.\n",
    "    # If the number of tasks is not set correctly, it can happen that materials are missing.\n",
    "    matrix.set_n_tasks(n_tasks)\n",
    "    matrix.set_task_id(task_id)\n",
    "    \n",
    "    # Here we start start searching for the most similar materials\n",
    "    matrix.write_most_similar_materials_file(k=10)\n",
    "\n",
    "if __name__ == \"__main__\":\n",
    "    main()\n",
    "```"
   ]
  },
  {
   "cell_type": "markdown",
   "metadata": {},
   "source": [
    "For this example, we can use the same trick as above:"
   ]
  },
  {
   "cell_type": "code",
   "execution_count": 12,
   "metadata": {},
   "outputs": [],
   "source": [
    "for task_id in range(bsm.n_tasks):\n",
    "    bsm.set_task_id(task_id)\n",
    "    bsm.write_most_similar_materials_file(k=10)"
   ]
  },
  {
   "cell_type": "code",
   "execution_count": 13,
   "metadata": {},
   "outputs": [
    {
     "name": "stdout",
     "output_type": "stream",
     "text": [
      "CuPdAu_bsm_most_similar_materials_0.txt\r\n",
      "CuPdAu_bsm_most_similar_materials_1.txt\r\n"
     ]
    }
   ],
   "source": [
    "!ls data/CuPdAu_bsm | grep most_similar_materials"
   ]
  },
  {
   "cell_type": "markdown",
   "metadata": {},
   "source": [
    "Looking at these files we can see that each line in the file contains the `mid` of the refrence material, as well as a dictionary of the most similar materials, where the keys are the `mid`s and the values are the similarity. In our example, the majority of matterials have $S = 1$, since they have very similar atomic compositions."
   ]
  },
  {
   "cell_type": "code",
   "execution_count": 14,
   "metadata": {},
   "outputs": [
    {
     "name": "stdout",
     "output_type": "stream",
     "text": [
      "{\"OgU4E2hIjUyHVUnzkJPV-xIhDUT6\": {\"yYnCOkHlYfoBzVT6mvuZzHupD69w\": \"1.0\", \"y5trjCmfE9JyRF4m-fedgsqOUcnd\": \"1.0\", \"w7y48xkqP8ofPKwkCWJVWh3y6b4t\": \"1.0\", \"uJPjF9ywEVcyHQdl-05FnqLQSptF\": \"1.0\", \"t6R-4fS8leaO0RCMMj95xVT8J2nH\": \"1.0\", \"t5rZMgux78pnbeXxg0dK2tR6km9q\": \"1.0\", \"suIwtjsjtqfkNDdVAVh3pAGzUKDz\": \"1.0\", \"siPgEpTrlVw4AkLH8Nbuxy4NhYhi\": \"1.0\", \"sT0bXwaPdrAteiTUDAIAXEjGlmRS\": \"1.0\", \"s9a3rbvlgP5S7h9tfLVG1AJ0ZzOu\": \"1.0\"}}\r\n"
     ]
    }
   ],
   "source": [
    "!tail -n 1 data/CuPdAu_bsm/CuPdAu_bsm_most_similar_materials_1.txt"
   ]
  }
 ],
 "metadata": {
  "kernelspec": {
   "display_name": "Python 3",
   "language": "python",
   "name": "python3"
  },
  "language_info": {
   "codemirror_mode": {
    "name": "ipython",
    "version": 3
   },
   "file_extension": ".py",
   "mimetype": "text/x-python",
   "name": "python",
   "nbconvert_exporter": "python",
   "pygments_lexer": "ipython3",
   "version": "3.7.13"
  },
  "vscode": {
   "interpreter": {
    "hash": "2830340e70c3c7acf476968f6bdd24a196b47acf07989c0ff685a6443eda1659"
   }
  }
 },
 "nbformat": 4,
 "nbformat_minor": 2
}
